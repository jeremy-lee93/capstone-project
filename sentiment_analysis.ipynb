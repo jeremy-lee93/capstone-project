{
 "cells": [
  {
   "cell_type": "markdown",
   "metadata": {},
   "source": [
    "In this notebook I will be examining the sentiment of the NBA headlines and tweets that were collected. Generally we should expect that the media will try to be neutral, but it's worth examining so that we might try to uncover if there is unfair bias levied against a certain player or team."
   ]
  },
  {
   "cell_type": "code",
   "execution_count": 1,
   "metadata": {
    "ExecuteTime": {
     "end_time": "2021-05-27T18:09:14.276457Z",
     "start_time": "2021-05-27T18:09:02.658845Z"
    }
   },
   "outputs": [],
   "source": [
    "import pandas as pd\n",
    "import numpy as np\n",
    "import matplotlib.pyplot as plt\n",
    "import seaborn as sns\n",
    "from textblob import TextBlob, Word, Blobber\n",
    "import flair\n",
    "import re\n",
    "import string\n",
    "import nltk\n",
    "from nltk.stem import WordNetLemmatizer"
   ]
  },
  {
   "cell_type": "code",
   "execution_count": 48,
   "metadata": {
    "ExecuteTime": {
     "end_time": "2021-05-27T19:36:21.718335Z",
     "start_time": "2021-05-27T19:36:21.710406Z"
    }
   },
   "outputs": [],
   "source": [
    "sns.set_style('darkgrid')"
   ]
  },
  {
   "cell_type": "code",
   "execution_count": 2,
   "metadata": {
    "ExecuteTime": {
     "end_time": "2021-05-27T18:09:14.780951Z",
     "start_time": "2021-05-27T18:09:14.278984Z"
    }
   },
   "outputs": [],
   "source": [
    "#import data\n",
    "\n",
    "#this data was cleaned in a separate notebook, only null rows and duplicated need to be dropped\n",
    "headline_df = pd.read_csv('data/espn_df_recluster.csv')\n",
    "tweet_df = pd.read_csv('data/nba_twitter.csv')"
   ]
  },
  {
   "cell_type": "code",
   "execution_count": 3,
   "metadata": {
    "ExecuteTime": {
     "end_time": "2021-05-27T18:09:14.802275Z",
     "start_time": "2021-05-27T18:09:14.783484Z"
    }
   },
   "outputs": [
    {
     "data": {
      "text/html": [
       "<div>\n",
       "<style scoped>\n",
       "    .dataframe tbody tr th:only-of-type {\n",
       "        vertical-align: middle;\n",
       "    }\n",
       "\n",
       "    .dataframe tbody tr th {\n",
       "        vertical-align: top;\n",
       "    }\n",
       "\n",
       "    .dataframe thead th {\n",
       "        text-align: right;\n",
       "    }\n",
       "</style>\n",
       "<table border=\"1\" class=\"dataframe\">\n",
       "  <thead>\n",
       "    <tr style=\"text-align: right;\">\n",
       "      <th></th>\n",
       "      <th>headlines</th>\n",
       "      <th>posted_time</th>\n",
       "      <th>tokens</th>\n",
       "      <th>labels</th>\n",
       "      <th>four_labels</th>\n",
       "      <th>five_labels</th>\n",
       "    </tr>\n",
       "  </thead>\n",
       "  <tbody>\n",
       "    <tr>\n",
       "      <th>0</th>\n",
       "      <td>Wade matches King for 42nd on scoring list in win</td>\n",
       "      <td>2016-02-01</td>\n",
       "      <td>['wade', 'match', 'king', '42nd', 'scoring', '...</td>\n",
       "      <td>0</td>\n",
       "      <td>3</td>\n",
       "      <td>3</td>\n",
       "    </tr>\n",
       "    <tr>\n",
       "      <th>1</th>\n",
       "      <td>Chick Hearn's widow, Marge Hearn, dies at 98</td>\n",
       "      <td>2016-01-31</td>\n",
       "      <td>['chick', 'hearns', 'widow', 'marge', 'hearn',...</td>\n",
       "      <td>0</td>\n",
       "      <td>3</td>\n",
       "      <td>3</td>\n",
       "    </tr>\n",
       "    <tr>\n",
       "      <th>2</th>\n",
       "      <td>Wittman to miss 2 games after brother's death</td>\n",
       "      <td>2016-01-31</td>\n",
       "      <td>['wittman', 'miss', '2', 'game', 'brother', 'd...</td>\n",
       "      <td>0</td>\n",
       "      <td>3</td>\n",
       "      <td>3</td>\n",
       "    </tr>\n",
       "    <tr>\n",
       "      <th>3</th>\n",
       "      <td>LeBron atones for wardrobe mismatch vs. Spurs</td>\n",
       "      <td>2016-01-31</td>\n",
       "      <td>['lebron', 'atones', 'wardrobe', 'mismatch', '...</td>\n",
       "      <td>0</td>\n",
       "      <td>3</td>\n",
       "      <td>4</td>\n",
       "    </tr>\n",
       "    <tr>\n",
       "      <th>4</th>\n",
       "      <td>Source: Rockets petition to rescind Howard's t...</td>\n",
       "      <td>2016-01-31</td>\n",
       "      <td>['source', 'rocket', 'petition', 'rescind', 'h...</td>\n",
       "      <td>0</td>\n",
       "      <td>3</td>\n",
       "      <td>3</td>\n",
       "    </tr>\n",
       "  </tbody>\n",
       "</table>\n",
       "</div>"
      ],
      "text/plain": [
       "                                           headlines posted_time  \\\n",
       "0  Wade matches King for 42nd on scoring list in win  2016-02-01   \n",
       "1       Chick Hearn's widow, Marge Hearn, dies at 98  2016-01-31   \n",
       "2      Wittman to miss 2 games after brother's death  2016-01-31   \n",
       "3      LeBron atones for wardrobe mismatch vs. Spurs  2016-01-31   \n",
       "4  Source: Rockets petition to rescind Howard's t...  2016-01-31   \n",
       "\n",
       "                                              tokens  labels  four_labels  \\\n",
       "0  ['wade', 'match', 'king', '42nd', 'scoring', '...       0            3   \n",
       "1  ['chick', 'hearns', 'widow', 'marge', 'hearn',...       0            3   \n",
       "2  ['wittman', 'miss', '2', 'game', 'brother', 'd...       0            3   \n",
       "3  ['lebron', 'atones', 'wardrobe', 'mismatch', '...       0            3   \n",
       "4  ['source', 'rocket', 'petition', 'rescind', 'h...       0            3   \n",
       "\n",
       "   five_labels  \n",
       "0            3  \n",
       "1            3  \n",
       "2            3  \n",
       "3            4  \n",
       "4            3  "
      ]
     },
     "execution_count": 3,
     "metadata": {},
     "output_type": "execute_result"
    }
   ],
   "source": [
    "#preview ESPN headlines\n",
    "headline_df.head()"
   ]
  },
  {
   "cell_type": "code",
   "execution_count": 4,
   "metadata": {
    "ExecuteTime": {
     "end_time": "2021-05-27T18:09:14.819237Z",
     "start_time": "2021-05-27T18:09:14.807268Z"
    }
   },
   "outputs": [
    {
     "data": {
      "text/html": [
       "<div>\n",
       "<style scoped>\n",
       "    .dataframe tbody tr th:only-of-type {\n",
       "        vertical-align: middle;\n",
       "    }\n",
       "\n",
       "    .dataframe tbody tr th {\n",
       "        vertical-align: top;\n",
       "    }\n",
       "\n",
       "    .dataframe thead th {\n",
       "        text-align: right;\n",
       "    }\n",
       "</style>\n",
       "<table border=\"1\" class=\"dataframe\">\n",
       "  <thead>\n",
       "    <tr style=\"text-align: right;\">\n",
       "      <th></th>\n",
       "      <th>date</th>\n",
       "      <th>tweet</th>\n",
       "      <th>source</th>\n",
       "      <th>tweet_tokens</th>\n",
       "      <th>dual_labels</th>\n",
       "      <th>trip_labels</th>\n",
       "      <th>quad_labels</th>\n",
       "      <th>five_labels</th>\n",
       "    </tr>\n",
       "  </thead>\n",
       "  <tbody>\n",
       "    <tr>\n",
       "      <th>0</th>\n",
       "      <td>2021-02-26 12:35:27</td>\n",
       "      <td>Obi Toppin is expected to participate in the N...</td>\n",
       "      <td>Yahoo</td>\n",
       "      <td>['obi', 'toppin', 'expected', 'participate', '...</td>\n",
       "      <td>0</td>\n",
       "      <td>0</td>\n",
       "      <td>3</td>\n",
       "      <td>1</td>\n",
       "    </tr>\n",
       "    <tr>\n",
       "      <th>1</th>\n",
       "      <td>2021-02-25 23:08:17</td>\n",
       "      <td>MPJ SLAM</td>\n",
       "      <td>Yahoo</td>\n",
       "      <td>['mpj', 'slam', '']</td>\n",
       "      <td>1</td>\n",
       "      <td>2</td>\n",
       "      <td>1</td>\n",
       "      <td>2</td>\n",
       "    </tr>\n",
       "    <tr>\n",
       "      <th>2</th>\n",
       "      <td>2021-02-25 17:48:50</td>\n",
       "      <td>Timberwolves G Malik Beasley has been suspende...</td>\n",
       "      <td>Yahoo</td>\n",
       "      <td>['timberwolves', 'g', 'malik', 'beasley', 'sus...</td>\n",
       "      <td>1</td>\n",
       "      <td>2</td>\n",
       "      <td>1</td>\n",
       "      <td>2</td>\n",
       "    </tr>\n",
       "    <tr>\n",
       "      <th>3</th>\n",
       "      <td>2021-02-25 13:40:20</td>\n",
       "      <td>Luka's game-winner against the Celtics vs. Luk...</td>\n",
       "      <td>Yahoo</td>\n",
       "      <td>['lukas', 'gamewinner', 'celtic', 'v', 'lukas'...</td>\n",
       "      <td>1</td>\n",
       "      <td>2</td>\n",
       "      <td>2</td>\n",
       "      <td>2</td>\n",
       "    </tr>\n",
       "    <tr>\n",
       "      <th>4</th>\n",
       "      <td>2021-02-25 13:10:50</td>\n",
       "      <td>It's time to stop underrating the Utah Jazz Fr...</td>\n",
       "      <td>Yahoo</td>\n",
       "      <td>['time', 'stop', 'underrating', 'utah', 'jazz'...</td>\n",
       "      <td>1</td>\n",
       "      <td>2</td>\n",
       "      <td>1</td>\n",
       "      <td>2</td>\n",
       "    </tr>\n",
       "  </tbody>\n",
       "</table>\n",
       "</div>"
      ],
      "text/plain": [
       "                  date                                              tweet  \\\n",
       "0  2021-02-26 12:35:27  Obi Toppin is expected to participate in the N...   \n",
       "1  2021-02-25 23:08:17                                          MPJ SLAM    \n",
       "2  2021-02-25 17:48:50  Timberwolves G Malik Beasley has been suspende...   \n",
       "3  2021-02-25 13:40:20  Luka's game-winner against the Celtics vs. Luk...   \n",
       "4  2021-02-25 13:10:50  It's time to stop underrating the Utah Jazz Fr...   \n",
       "\n",
       "  source                                       tweet_tokens  dual_labels  \\\n",
       "0  Yahoo  ['obi', 'toppin', 'expected', 'participate', '...            0   \n",
       "1  Yahoo                                ['mpj', 'slam', '']            1   \n",
       "2  Yahoo  ['timberwolves', 'g', 'malik', 'beasley', 'sus...            1   \n",
       "3  Yahoo  ['lukas', 'gamewinner', 'celtic', 'v', 'lukas'...            1   \n",
       "4  Yahoo  ['time', 'stop', 'underrating', 'utah', 'jazz'...            1   \n",
       "\n",
       "   trip_labels  quad_labels  five_labels  \n",
       "0            0            3            1  \n",
       "1            2            1            2  \n",
       "2            2            1            2  \n",
       "3            2            2            2  \n",
       "4            2            1            2  "
      ]
     },
     "execution_count": 4,
     "metadata": {},
     "output_type": "execute_result"
    }
   ],
   "source": [
    "#preview Twitter data\n",
    "tweet_df.head()"
   ]
  },
  {
   "cell_type": "markdown",
   "metadata": {},
   "source": [
    "The below functions will be used to iterate through the list of headlines/tweets and count instances of players or teams. The `count_player_mentions` function will look for variations of a player's names. Fortunately, there are some unique names amongst NBA superstars but it is important to note that a more common name would require a more complex conditional statement."
   ]
  },
  {
   "cell_type": "code",
   "execution_count": 5,
   "metadata": {
    "ExecuteTime": {
     "end_time": "2021-05-27T18:09:14.838334Z",
     "start_time": "2021-05-27T18:09:14.821867Z"
    }
   },
   "outputs": [],
   "source": [
    "def count_player_mentions(text):\n",
    "    text_string = text\n",
    "    \n",
    "    lebron_count = 0\n",
    "    curry_count = 0\n",
    "    harden_count = 0\n",
    "    kd_count = 0\n",
    "    kyrie_count = 0\n",
    "    dame_count = 0\n",
    "    luka_count = 0\n",
    "    zion_count = 0\n",
    "    ja_count = 0\n",
    "    giannis_count = 0\n",
    "    jokic_count = 0\n",
    "    embiid_count = 0\n",
    "    cp3_count = 0\n",
    "    \n",
    "    if text_string.count('LeBron') > 0 or text_string.count('LBJ') > 0 or text_string.count('King James') > 0:\n",
    "        lebron_count += 1\n",
    "    \n",
    "    if text_string.count('Curry') > 0 or text_string.count('Stephen') > 0 or text_string.count('Steph') > 0:\n",
    "        curry_count += 1\n",
    "    \n",
    "    if text_string.count('James Harden') > 0 or text_string.count('Harden') > 0:\n",
    "        harden_count += 1\n",
    "        \n",
    "    if text_string.count('Kevin Durant') > 0 or text_string.count('Durant') > 0 or text_string.count('KD') > 0:\n",
    "        kd_count += 1\n",
    "        \n",
    "    if (text_string.count('Kyrie Irving') > 0 or text_string.count('Irving') > 0 \n",
    "        or text_string.count('Kyrie') > 0):\n",
    "        kyrie_count += 1\n",
    "        \n",
    "    if (text_string.count('Damian Lillard') > 0 or text_string.count('Lillard') > 0 \n",
    "        or text_string.count('Dame') > 0):\n",
    "        dame_count += 1\n",
    "    \n",
    "    if text_string.count('Luka Doncic') > 0 or text_string.count('Luka') > 0 or text_string.count('Doncic') > 0:\n",
    "        luka_count += 1\n",
    "        \n",
    "    if (text_string.count('Zion Williamson') > 0 or text_string.count('Williamson') > 0 \n",
    "        or text_string.count('Zion') >0):\n",
    "        zion_count += 1\n",
    "        \n",
    "    if text_string.count('Ja Morant') > 0 or text_string.count('Morant') > 0 or text_string.count('Ja '):\n",
    "        ja_count += 1\n",
    "        \n",
    "    if (text_string.count('Giannis') > 0 or text_string.count('Antetokounmpo') > 0 \n",
    "        or text_string.count('Greek Freak') > 0):\n",
    "        giannis_count += 1\n",
    "    \n",
    "    if (text_string.count('Nikola') > 0 or text_string.count('Jokic') > 0 \n",
    "        or text_string.count('Joker') > 0):\n",
    "        jokic_count += 1\n",
    "    \n",
    "    if (text_string.count('Joel')> 0 or text_string.count('Embiid') > 0):\n",
    "        embiid_count += 1\n",
    "        \n",
    "    if (text_string.count('Chris Paul') > 0 or text_string.count('CP3') > 0):\n",
    "        cp3_count += 1\n",
    "        \n",
    "    return [lebron_count, curry_count, harden_count, kd_count, \n",
    "            kyrie_count, dame_count, luka_count, zion_count, ja_count, \n",
    "            giannis_count, jokic_count, embiid_count, cp3_count]"
   ]
  },
  {
   "cell_type": "code",
   "execution_count": 6,
   "metadata": {
    "ExecuteTime": {
     "end_time": "2021-05-27T18:09:14.872838Z",
     "start_time": "2021-05-27T18:09:14.840727Z"
    }
   },
   "outputs": [],
   "source": [
    "def count_team_mentions(text):\n",
    "    text_str = text\n",
    "    \n",
    "    atl_count = 0\n",
    "    boston_count = 0\n",
    "    brooklyn_count = 0\n",
    "    charlotte_count = 0\n",
    "    chicago_count = 0\n",
    "    cleveland_count = 0\n",
    "    dallas_count = 0\n",
    "    denver_count = 0\n",
    "    detroit_count = 0\n",
    "    gsw_count = 0\n",
    "    houston_count = 0\n",
    "    indiana_count = 0\n",
    "    clippers_count = 0\n",
    "    lakers_count = 0\n",
    "    memphis_count = 0\n",
    "    miami_count = 0\n",
    "    bucks_count = 0\n",
    "    minn_count = 0\n",
    "    pelicans_count = 0\n",
    "    knicks_count = 0\n",
    "    okc_count = 0\n",
    "    orlando_count = 0\n",
    "    philly_count = 0\n",
    "    phoenix_count = 0\n",
    "    portland_count = 0\n",
    "    sac_count = 0\n",
    "    spurs_count = 0\n",
    "    raptors_count = 0\n",
    "    utah_count = 0\n",
    "    wizards_count = 0\n",
    "    \n",
    "    if text_str.count('Atlanta') > 0 or text_str.count('ATL') > 0 or text_str.count('Hawks') > 0:\n",
    "        atl_count += 1\n",
    "        \n",
    "    if text_str.count('Boston') > 0 or text_str.count('Celtics') > 0:\n",
    "        boston_count += 1\n",
    "        \n",
    "    if text_str.count('Brooklyn') > 0 or text_str.count('Nets') > 0:\n",
    "        brooklyn_count += 1\n",
    "        \n",
    "    if text_str.count('Charlotte') > 0 or text_str.count('Hornets') > 0:\n",
    "        charlotte_count += 1\n",
    "        \n",
    "    if text_str.count('Chicago') > 0 or text_str.count('Bulls') > 0 or text_str.count('Windy City') > 0:\n",
    "        chicago_count += 1\n",
    "        \n",
    "    if text_str.count('Cleveland') > 0 or text_str.count('Cavaliers') > 0 or text_str.count('Cavs') > 0:\n",
    "        cleveland_count += 1\n",
    "        \n",
    "    if text_str.count('Dallas') > 0 or text_str.count('Mavericks') > 0 or text_str.count('Mavs') > 0:\n",
    "        dallas_count += 1\n",
    "        \n",
    "    if text_str.count('Denver') > 0 or text_str.count('Nuggets') > 0:\n",
    "        denver_count += 1\n",
    "        \n",
    "    if text_str.count('Detroit') > 0 or text_str.count('Pistons') > 0 or text_str.count('Motor City') > 0:\n",
    "        detroit_count += 1\n",
    "        \n",
    "    if text_str.count('Golden State') > 0 or text_str.count('Warriors') > 0 or text_str.count('GSW') > 0:\n",
    "        gsw_count += 1\n",
    "        \n",
    "    if text_str.count('Houston') > 0 or text_str.count('Rockets') > 0 or text_str.count('H-Town') > 0:\n",
    "        houston_count += 1\n",
    "        \n",
    "    if text_str.count('Indiana') > 0 or text_str.count('Pacers') > 0:\n",
    "        indiana_count += 1\n",
    "        \n",
    "    if text_str.count('Clippers') > 0 or text_str.count('LAC') > 0 or text_str.count('Clips') > 0:\n",
    "        clippers_count += 1\n",
    "        \n",
    "    if text_str.count('Lakers') > 0 or text_str.count('LAL') > 0:\n",
    "        lakers_count += 1\n",
    "        \n",
    "    if text_str.count('Memphis') > 0 or text_str.count('Grizzlies') > 0:\n",
    "        memphis_count += 1\n",
    "        \n",
    "    if text_str.count('Miami') > 0 or text_str.count('Heat') > 0:\n",
    "        miami_count += 1\n",
    "        \n",
    "    if text_str.count('Milwaukee') > 0 or text_str.count('Bucks') > 0:\n",
    "        bucks_count += 1\n",
    "        \n",
    "    if (text_str.count('Minnesota') > 0 or text_str.count('Timberwolves') > 0 or text_str.count(\"T'Wolves\") > 0\n",
    "       or text_str.count('Wolves') > 0):\n",
    "        minn_count += 1\n",
    "        \n",
    "    if text_str.count('New Orleans') > 0 or text_str.count('Pelicans') > 0 or text_str.count('NOP') > 0:\n",
    "        pelicans_count += 1\n",
    "        \n",
    "    if text_str.count('NYK') > 0 or text_str.count('Knicks') > 0 or text_str.count('New York') > 0:\n",
    "        knicks_count += 1\n",
    "        \n",
    "    if (text_str.count('OKC') > 0 or text_str.count('Thunder') > 0 or \n",
    "        text_str.count('Oklahoma City Thunder')) > 0:\n",
    "        okc_count += 1\n",
    "        \n",
    "    if text_str.count('Orlando') > 0 or text_str.count('Magic') > 0:\n",
    "        orlando_count += 1\n",
    "        \n",
    "    if (text_str.count('Philadelphia') > 0 or text_str.count('76ers') > 0 or text_str.count('Sixers') > 0 \n",
    "        or text_str.count('Philly') > 0):\n",
    "        philly_count += 1\n",
    "        \n",
    "    if text_str.count('Phoenix') > 0 or text_str.count('Suns') > 0:\n",
    "        phoenix_count += 1\n",
    "        \n",
    "    if text_str.count('Portland') > 0 or text_str.count('Trailblazers') > 0 or text_str.count('Blazers'):\n",
    "        portland_count += 1\n",
    "        \n",
    "    if text_str.count('Sacramento') > 0 or text_str.count('Kings') > 0:\n",
    "        sac_count += 1\n",
    "        \n",
    "    if text_str.count('San Antonio') > 0 or text_str.count('Spurs') > 0:\n",
    "        spurs_count += 1\n",
    "        \n",
    "    if text_str.count('Toronto') > 0 or text_str.count('Raptors') > 0 or text_str.count('Jurassic Park') > 0:\n",
    "        raptors_count += 1\n",
    "        \n",
    "    if text_str.count('Utah') > 0 or text_str.count('Jazz') > 0 or text_str.count('Salt Lake City') > 0:\n",
    "        utah_count += 1\n",
    "        \n",
    "    if text_str.count('Washington') > 0 or text_str.count('Wizards') > 0 or text_str.count('DC') > 0:\n",
    "        wizards_count += 1\n",
    "        \n",
    "    return [atl_count, boston_count, brooklyn_count, charlotte_count , chicago_count, cleveland_count,\n",
    "            dallas_count, denver_count, detroit_count, gsw_count, houston_count, indiana_count,\n",
    "            clippers_count, lakers_count, memphis_count, miami_count, bucks_count, minn_count, pelicans_count,\n",
    "            knicks_count, okc_count, orlando_count, philly_count, phoenix_count, portland_count, sac_count,\n",
    "            spurs_count, raptors_count, utah_count, wizards_count]"
   ]
  },
  {
   "cell_type": "code",
   "execution_count": 7,
   "metadata": {
    "ExecuteTime": {
     "end_time": "2021-05-27T18:09:15.152608Z",
     "start_time": "2021-05-27T18:09:14.876603Z"
    }
   },
   "outputs": [],
   "source": [
    "#drop duplicate rows\n",
    "headline_df.drop_duplicates(inplace=True)\n",
    "tweet_df.drop_duplicates(inplace=True)\n",
    "\n",
    "#drop null rows for tweet/headline column\n",
    "headline_df.dropna(subset=['headlines'], inplace=True)\n",
    "tweet_df.dropna(subset=['tweet'], inplace=True)"
   ]
  },
  {
   "cell_type": "code",
   "execution_count": 8,
   "metadata": {
    "ExecuteTime": {
     "end_time": "2021-05-27T18:09:16.374247Z",
     "start_time": "2021-05-27T18:09:15.157170Z"
    }
   },
   "outputs": [],
   "source": [
    "#count player mentions from headlines and store informatiion into a dataframe\n",
    "headline_list = list(headline_df['headlines'])\n",
    "\n",
    "headline_player_mention_count = [count_player_mentions(x) for x in headline_list]\n",
    "\n",
    "headline_player_mentions_df = pd.DataFrame(headline_player_mention_count, \n",
    "                                  columns=['LeBron', 'Steph', 'Harden', 'KD', \n",
    "                                           'Kyrie','Dame','Luka','Zion','Ja',\n",
    "                                           'Giannis', 'Jokic', 'Embiid','CP'])\n",
    "\n",
    "#count team mentions from headlines and store information into a dataframe\n",
    "headline_team_mention_count = [count_team_mentions(x) for x in headline_list]\n",
    "\n",
    "headline_team_mentions_df = pd.DataFrame(headline_team_mention_count, \n",
    "                                          columns=['ATL', 'BOS', 'BKN', 'CHA', 'CHI', 'CLE', 'DAL','DEN', \n",
    "                                                 'DET', 'GSW', 'HOU', 'IND', 'LAC', 'LAL', 'MEM', 'MIA', \n",
    "                                                 'MIL', 'MIN', 'NOP', 'NYK', 'OKC','ORL', 'PHI', 'PHX', \n",
    "                                                 'POR', 'SAC', 'SAT', 'TOR', 'UTAH', 'WAS'])"
   ]
  },
  {
   "cell_type": "code",
   "execution_count": 9,
   "metadata": {
    "ExecuteTime": {
     "end_time": "2021-05-27T18:09:20.651757Z",
     "start_time": "2021-05-27T18:09:16.377175Z"
    }
   },
   "outputs": [],
   "source": [
    "#count player mentions from tweets and store information into a dataframe\n",
    "tweet_list = list(tweet_df['tweet'])\n",
    "\n",
    "tweets_player_mention_count = [count_player_mentions(y) for y in tweet_list]\n",
    "\n",
    "tweets_player_mentions_df = pd.DataFrame(tweets_player_mention_count,\n",
    "                                        columns=['LeBron', 'Steph', 'Harden', 'KD', \n",
    "                                           'Kyrie','Dame','Luka','Zion','Ja',\n",
    "                                           'Giannis', 'Jokic', 'Embiid','CP'])\n",
    "\n",
    "#count team mentions from tweets and store information into a dataframe\n",
    "tweets_team_mention_count = [count_team_mentions(y) for y in tweet_list]\n",
    "\n",
    "tweets_team_mentions_df = pd.DataFrame(tweets_team_mention_count, \n",
    "                                      columns=['ATL', 'BOS', 'BKN', 'CHA', 'CHI', 'CLE', 'DAL','DEN', \n",
    "                                                 'DET', 'GSW', 'HOU', 'IND', 'LAC', 'LAL', 'MEM', 'MIA', \n",
    "                                                 'MIL', 'MIN', 'NOP', 'NYK', 'OKC','ORL', 'PHI', 'PHX', \n",
    "                                                 'POR', 'SAC', 'SAT', 'TOR', 'UTAH', 'WAS'])"
   ]
  },
  {
   "cell_type": "code",
   "execution_count": 10,
   "metadata": {
    "ExecuteTime": {
     "end_time": "2021-05-27T18:09:20.679999Z",
     "start_time": "2021-05-27T18:09:20.653554Z"
    }
   },
   "outputs": [
    {
     "data": {
      "text/html": [
       "<div>\n",
       "<style scoped>\n",
       "    .dataframe tbody tr th:only-of-type {\n",
       "        vertical-align: middle;\n",
       "    }\n",
       "\n",
       "    .dataframe tbody tr th {\n",
       "        vertical-align: top;\n",
       "    }\n",
       "\n",
       "    .dataframe thead th {\n",
       "        text-align: right;\n",
       "    }\n",
       "</style>\n",
       "<table border=\"1\" class=\"dataframe\">\n",
       "  <thead>\n",
       "    <tr style=\"text-align: right;\">\n",
       "      <th></th>\n",
       "      <th>LeBron</th>\n",
       "      <th>Steph</th>\n",
       "      <th>Harden</th>\n",
       "      <th>KD</th>\n",
       "      <th>Kyrie</th>\n",
       "      <th>Dame</th>\n",
       "      <th>Luka</th>\n",
       "      <th>Zion</th>\n",
       "      <th>Ja</th>\n",
       "      <th>Giannis</th>\n",
       "      <th>Jokic</th>\n",
       "      <th>Embiid</th>\n",
       "      <th>CP</th>\n",
       "    </tr>\n",
       "  </thead>\n",
       "  <tbody>\n",
       "    <tr>\n",
       "      <th>0</th>\n",
       "      <td>0</td>\n",
       "      <td>0</td>\n",
       "      <td>0</td>\n",
       "      <td>0</td>\n",
       "      <td>0</td>\n",
       "      <td>0</td>\n",
       "      <td>0</td>\n",
       "      <td>0</td>\n",
       "      <td>0</td>\n",
       "      <td>0</td>\n",
       "      <td>0</td>\n",
       "      <td>0</td>\n",
       "      <td>0</td>\n",
       "    </tr>\n",
       "    <tr>\n",
       "      <th>1</th>\n",
       "      <td>0</td>\n",
       "      <td>0</td>\n",
       "      <td>0</td>\n",
       "      <td>0</td>\n",
       "      <td>0</td>\n",
       "      <td>0</td>\n",
       "      <td>0</td>\n",
       "      <td>0</td>\n",
       "      <td>0</td>\n",
       "      <td>0</td>\n",
       "      <td>0</td>\n",
       "      <td>0</td>\n",
       "      <td>0</td>\n",
       "    </tr>\n",
       "    <tr>\n",
       "      <th>2</th>\n",
       "      <td>0</td>\n",
       "      <td>0</td>\n",
       "      <td>0</td>\n",
       "      <td>0</td>\n",
       "      <td>0</td>\n",
       "      <td>0</td>\n",
       "      <td>0</td>\n",
       "      <td>0</td>\n",
       "      <td>0</td>\n",
       "      <td>0</td>\n",
       "      <td>0</td>\n",
       "      <td>0</td>\n",
       "      <td>0</td>\n",
       "    </tr>\n",
       "    <tr>\n",
       "      <th>3</th>\n",
       "      <td>1</td>\n",
       "      <td>0</td>\n",
       "      <td>0</td>\n",
       "      <td>0</td>\n",
       "      <td>0</td>\n",
       "      <td>0</td>\n",
       "      <td>0</td>\n",
       "      <td>0</td>\n",
       "      <td>0</td>\n",
       "      <td>0</td>\n",
       "      <td>0</td>\n",
       "      <td>0</td>\n",
       "      <td>0</td>\n",
       "    </tr>\n",
       "    <tr>\n",
       "      <th>4</th>\n",
       "      <td>0</td>\n",
       "      <td>0</td>\n",
       "      <td>0</td>\n",
       "      <td>0</td>\n",
       "      <td>0</td>\n",
       "      <td>0</td>\n",
       "      <td>0</td>\n",
       "      <td>0</td>\n",
       "      <td>0</td>\n",
       "      <td>0</td>\n",
       "      <td>0</td>\n",
       "      <td>0</td>\n",
       "      <td>0</td>\n",
       "    </tr>\n",
       "  </tbody>\n",
       "</table>\n",
       "</div>"
      ],
      "text/plain": [
       "   LeBron  Steph  Harden  KD  Kyrie  Dame  Luka  Zion  Ja  Giannis  Jokic  \\\n",
       "0       0      0       0   0      0     0     0     0   0        0      0   \n",
       "1       0      0       0   0      0     0     0     0   0        0      0   \n",
       "2       0      0       0   0      0     0     0     0   0        0      0   \n",
       "3       1      0       0   0      0     0     0     0   0        0      0   \n",
       "4       0      0       0   0      0     0     0     0   0        0      0   \n",
       "\n",
       "   Embiid  CP  \n",
       "0       0   0  \n",
       "1       0   0  \n",
       "2       0   0  \n",
       "3       0   0  \n",
       "4       0   0  "
      ]
     },
     "execution_count": 10,
     "metadata": {},
     "output_type": "execute_result"
    }
   ],
   "source": [
    "headline_player_mentions_df.head()"
   ]
  },
  {
   "cell_type": "code",
   "execution_count": 11,
   "metadata": {
    "ExecuteTime": {
     "end_time": "2021-05-27T18:09:20.694119Z",
     "start_time": "2021-05-27T18:09:20.684694Z"
    },
    "scrolled": true
   },
   "outputs": [
    {
     "data": {
      "text/plain": [
       "LeBron     1535\n",
       "Steph       842\n",
       "KD          750\n",
       "Harden      643\n",
       "Giannis     540\n",
       "Kyrie       518\n",
       "Embiid      434\n",
       "Dame        341\n",
       "Luka        282\n",
       "Zion        236\n",
       "Jokic       195\n",
       "CP          162\n",
       "Ja           73\n",
       "dtype: int64"
      ]
     },
     "execution_count": 11,
     "metadata": {},
     "output_type": "execute_result"
    }
   ],
   "source": [
    "headline_player_mentions_df.sum().sort_values(ascending=False)"
   ]
  },
  {
   "cell_type": "markdown",
   "metadata": {},
   "source": [
    "The biggest suprise in this list is obviously the low count for Chris Paul.  Chris Paul has been in the league since the 2005-2006 season and has been one of the top point guards over the course of his career. Oftentimes, we see players referred to by their last name, which would be 'Paul' in this case. However, if we chose to inclue the name 'Paul' in the conditional statement then we would need to have addtitional conditions where we don't count instances like \"Paul George\" or \"Paul Millsap\". Paul George and Paul Millsap are both excellent players who have played significant roles for their respective teams so it we would want to avoid overinflating the number of mentions for Chris Paul because of a common name.\n",
    "\n",
    "What is not surprising here is that LeBron James and Stephen Curry lead the pack in terms of player mentions. LeBron has arguably been the best player in the league for more than a decade and Stephen Curry will likely go down as the greatest long distance shooter in the history of the NBA. Kevin Durant's decision to join the Golden State Warriors was highly polarizing and garnered much discussed in the summer of 2016. I started collecting data in January of 2016, so we could expect to see Kevin Durant mentioned many times because of his free agency decision in addition to his stellar play. \n"
   ]
  },
  {
   "cell_type": "code",
   "execution_count": 12,
   "metadata": {
    "ExecuteTime": {
     "end_time": "2021-05-27T18:09:20.702459Z",
     "start_time": "2021-05-27T18:09:20.697155Z"
    }
   },
   "outputs": [],
   "source": [
    "headline_player_names = list(headline_player_mentions_df.sum().index)"
   ]
  },
  {
   "cell_type": "code",
   "execution_count": 49,
   "metadata": {
    "ExecuteTime": {
     "end_time": "2021-05-27T19:36:30.794780Z",
     "start_time": "2021-05-27T19:36:30.482085Z"
    }
   },
   "outputs": [
    {
     "data": {
      "text/plain": [
       "Text(0.5, 1.0, 'Player Mentions in ESPN Headlines')"
      ]
     },
     "execution_count": 49,
     "metadata": {},
     "output_type": "execute_result"
    },
    {
     "data": {
      "image/png": "[encoded data removed]",
      "text/plain": [
       "<Figure size 720x576 with 1 Axes>"
      ]
     },
     "metadata": {},
     "output_type": "display_data"
    }
   ],
   "source": [
    "plt.figure(figsize=(10,8))\n",
    "sns.barplot(x=headline_player_names, y=headline_player_mentions_df.sum().sort_values(ascending=False).values)\n",
    "plt.xlabel('Players')\n",
    "plt.ylabel('Mention Count')\n",
    "plt.title('Player Mentions in ESPN Headlines')"
   ]
  },
  {
   "cell_type": "code",
   "execution_count": 14,
   "metadata": {
    "ExecuteTime": {
     "end_time": "2021-05-27T18:09:21.007597Z",
     "start_time": "2021-05-27T18:09:20.990929Z"
    }
   },
   "outputs": [
    {
     "data": {
      "text/html": [
       "<div>\n",
       "<style scoped>\n",
       "    .dataframe tbody tr th:only-of-type {\n",
       "        vertical-align: middle;\n",
       "    }\n",
       "\n",
       "    .dataframe tbody tr th {\n",
       "        vertical-align: top;\n",
       "    }\n",
       "\n",
       "    .dataframe thead th {\n",
       "        text-align: right;\n",
       "    }\n",
       "</style>\n",
       "<table border=\"1\" class=\"dataframe\">\n",
       "  <thead>\n",
       "    <tr style=\"text-align: right;\">\n",
       "      <th></th>\n",
       "      <th>ATL</th>\n",
       "      <th>BOS</th>\n",
       "      <th>BKN</th>\n",
       "      <th>CHA</th>\n",
       "      <th>CHI</th>\n",
       "      <th>CLE</th>\n",
       "      <th>DAL</th>\n",
       "      <th>DEN</th>\n",
       "      <th>DET</th>\n",
       "      <th>GSW</th>\n",
       "      <th>...</th>\n",
       "      <th>OKC</th>\n",
       "      <th>ORL</th>\n",
       "      <th>PHI</th>\n",
       "      <th>PHX</th>\n",
       "      <th>POR</th>\n",
       "      <th>SAC</th>\n",
       "      <th>SAT</th>\n",
       "      <th>TOR</th>\n",
       "      <th>UTAH</th>\n",
       "      <th>WAS</th>\n",
       "    </tr>\n",
       "  </thead>\n",
       "  <tbody>\n",
       "    <tr>\n",
       "      <th>0</th>\n",
       "      <td>0</td>\n",
       "      <td>0</td>\n",
       "      <td>0</td>\n",
       "      <td>0</td>\n",
       "      <td>0</td>\n",
       "      <td>0</td>\n",
       "      <td>0</td>\n",
       "      <td>0</td>\n",
       "      <td>0</td>\n",
       "      <td>0</td>\n",
       "      <td>...</td>\n",
       "      <td>0</td>\n",
       "      <td>0</td>\n",
       "      <td>0</td>\n",
       "      <td>0</td>\n",
       "      <td>0</td>\n",
       "      <td>0</td>\n",
       "      <td>0</td>\n",
       "      <td>0</td>\n",
       "      <td>0</td>\n",
       "      <td>0</td>\n",
       "    </tr>\n",
       "    <tr>\n",
       "      <th>1</th>\n",
       "      <td>0</td>\n",
       "      <td>0</td>\n",
       "      <td>0</td>\n",
       "      <td>0</td>\n",
       "      <td>0</td>\n",
       "      <td>0</td>\n",
       "      <td>0</td>\n",
       "      <td>0</td>\n",
       "      <td>0</td>\n",
       "      <td>0</td>\n",
       "      <td>...</td>\n",
       "      <td>0</td>\n",
       "      <td>0</td>\n",
       "      <td>0</td>\n",
       "      <td>0</td>\n",
       "      <td>0</td>\n",
       "      <td>0</td>\n",
       "      <td>0</td>\n",
       "      <td>0</td>\n",
       "      <td>0</td>\n",
       "      <td>0</td>\n",
       "    </tr>\n",
       "    <tr>\n",
       "      <th>2</th>\n",
       "      <td>0</td>\n",
       "      <td>0</td>\n",
       "      <td>0</td>\n",
       "      <td>0</td>\n",
       "      <td>0</td>\n",
       "      <td>0</td>\n",
       "      <td>0</td>\n",
       "      <td>0</td>\n",
       "      <td>0</td>\n",
       "      <td>0</td>\n",
       "      <td>...</td>\n",
       "      <td>0</td>\n",
       "      <td>0</td>\n",
       "      <td>0</td>\n",
       "      <td>0</td>\n",
       "      <td>0</td>\n",
       "      <td>0</td>\n",
       "      <td>0</td>\n",
       "      <td>0</td>\n",
       "      <td>0</td>\n",
       "      <td>0</td>\n",
       "    </tr>\n",
       "    <tr>\n",
       "      <th>3</th>\n",
       "      <td>0</td>\n",
       "      <td>0</td>\n",
       "      <td>0</td>\n",
       "      <td>0</td>\n",
       "      <td>0</td>\n",
       "      <td>0</td>\n",
       "      <td>0</td>\n",
       "      <td>0</td>\n",
       "      <td>0</td>\n",
       "      <td>0</td>\n",
       "      <td>...</td>\n",
       "      <td>0</td>\n",
       "      <td>0</td>\n",
       "      <td>0</td>\n",
       "      <td>0</td>\n",
       "      <td>0</td>\n",
       "      <td>0</td>\n",
       "      <td>1</td>\n",
       "      <td>0</td>\n",
       "      <td>0</td>\n",
       "      <td>0</td>\n",
       "    </tr>\n",
       "    <tr>\n",
       "      <th>4</th>\n",
       "      <td>0</td>\n",
       "      <td>0</td>\n",
       "      <td>0</td>\n",
       "      <td>0</td>\n",
       "      <td>0</td>\n",
       "      <td>0</td>\n",
       "      <td>0</td>\n",
       "      <td>0</td>\n",
       "      <td>0</td>\n",
       "      <td>0</td>\n",
       "      <td>...</td>\n",
       "      <td>0</td>\n",
       "      <td>0</td>\n",
       "      <td>0</td>\n",
       "      <td>0</td>\n",
       "      <td>0</td>\n",
       "      <td>0</td>\n",
       "      <td>0</td>\n",
       "      <td>0</td>\n",
       "      <td>0</td>\n",
       "      <td>0</td>\n",
       "    </tr>\n",
       "  </tbody>\n",
       "</table>\n",
       "<p>5 rows × 30 columns</p>\n",
       "</div>"
      ],
      "text/plain": [
       "   ATL  BOS  BKN  CHA  CHI  CLE  DAL  DEN  DET  GSW  ...  OKC  ORL  PHI  PHX  \\\n",
       "0    0    0    0    0    0    0    0    0    0    0  ...    0    0    0    0   \n",
       "1    0    0    0    0    0    0    0    0    0    0  ...    0    0    0    0   \n",
       "2    0    0    0    0    0    0    0    0    0    0  ...    0    0    0    0   \n",
       "3    0    0    0    0    0    0    0    0    0    0  ...    0    0    0    0   \n",
       "4    0    0    0    0    0    0    0    0    0    0  ...    0    0    0    0   \n",
       "\n",
       "   POR  SAC  SAT  TOR  UTAH  WAS  \n",
       "0    0    0    0    0     0    0  \n",
       "1    0    0    0    0     0    0  \n",
       "2    0    0    0    0     0    0  \n",
       "3    0    0    1    0     0    0  \n",
       "4    0    0    0    0     0    0  \n",
       "\n",
       "[5 rows x 30 columns]"
      ]
     },
     "execution_count": 14,
     "metadata": {},
     "output_type": "execute_result"
    }
   ],
   "source": [
    "headline_team_mentions_df.head()"
   ]
  },
  {
   "cell_type": "code",
   "execution_count": 15,
   "metadata": {
    "ExecuteTime": {
     "end_time": "2021-05-27T18:09:21.019157Z",
     "start_time": "2021-05-27T18:09:21.010656Z"
    }
   },
   "outputs": [
    {
     "data": {
      "text/plain": [
       "GSW     2064\n",
       "CLE     1917\n",
       "LAL     1814\n",
       "BOS     1601\n",
       "HOU     1496\n",
       "PHI     1417\n",
       "LAC     1323\n",
       "TOR     1318\n",
       "OKC     1304\n",
       "MIL     1301\n",
       "NYK     1250\n",
       "MIA     1246\n",
       "SAT     1240\n",
       "CHI     1239\n",
       "UTAH    1175\n",
       "BKN     1142\n",
       "POR     1130\n",
       "NOP     1121\n",
       "ATL     1096\n",
       "DAL     1091\n",
       "DEN     1088\n",
       "SAC     1070\n",
       "ORL     1065\n",
       "IND     1049\n",
       "MIN     1043\n",
       "PHX     1034\n",
       "DET     1034\n",
       "WAS     1021\n",
       "MEM      984\n",
       "CHA      921\n",
       "dtype: int64"
      ]
     },
     "execution_count": 15,
     "metadata": {},
     "output_type": "execute_result"
    }
   ],
   "source": [
    "headline_team_mentions_df.sum().sort_values(ascending=False)"
   ]
  },
  {
   "cell_type": "markdown",
   "metadata": {},
   "source": [
    "There isn't too much that is surprising in terms of team mentions.  The most successful teams are the ones most mentioned by the media as well as teams that are in big markets. The smallest market teams that stand out to me are Cleveland and Oklahoma City.  Cleveland made the NBA Finals four straight seasons and won their first championship in June 2016. Oklahoma City was in the top half of team mentions for a variety of reasons:\n",
    "- Kevin Durant's departure in 2016 caused lots of discussion\n",
    "- The lack of success of the big 3 of Russell Westbrook, Paul George, and Carmelo Anthony\n",
    "- The unexpected success of the Thunder in the 2019-2020 season, led by Chris Paul\n",
    "\n",
    "The New York Knicks are a big market team but were subpar in terms of performance (prior to the 20-21 season). Their inability to make the playoffs and their often maligned owner likely helped drive their numbers up."
   ]
  },
  {
   "cell_type": "code",
   "execution_count": 16,
   "metadata": {
    "ExecuteTime": {
     "end_time": "2021-05-27T18:09:21.027399Z",
     "start_time": "2021-05-27T18:09:21.021817Z"
    }
   },
   "outputs": [],
   "source": [
    "#create list of team names based on espn headlines\n",
    "headline_team_names = list(headline_team_mentions_df.sum().sort_values(ascending=False).index)"
   ]
  },
  {
   "cell_type": "code",
   "execution_count": 83,
   "metadata": {
    "ExecuteTime": {
     "end_time": "2021-05-27T21:26:19.164516Z",
     "start_time": "2021-05-27T21:26:19.155558Z"
    }
   },
   "outputs": [],
   "source": [
    "team_colors = {'GSW':'gold', 'LAL':'blueviolet', 'CLE':'maroon', 'BOS':'green', \n",
    "               'HOU':'red', 'PHI':'mediumblue', 'TOR':'darkviolet', 'NYK':'darkorange', \n",
    "               'OKC':'dodgerblue', 'LAC':'mediumblue', 'SAT':'dimgray', 'MIA':'red', \n",
    "               'MIL':'darkolivegreen', 'CHI':'red', 'BKN':'black', 'WAS':'navy', \n",
    "               'MIN':'limegreen', 'NOP':'darkred', 'ORL':'blue', 'POR':'red', \n",
    "               'DAL':'mediumblue', 'ATL':'red', 'SAC':'purple', 'PHX':'orange', \n",
    "               'UTAH':'sandybrown', 'IND':'yellow', 'DEN':'deepskyblue', \n",
    "               'MEM':'midnightblue', 'DET':'red', 'CHA':'darkcyan'}"
   ]
  },
  {
   "cell_type": "code",
   "execution_count": 85,
   "metadata": {
    "ExecuteTime": {
     "end_time": "2021-05-27T21:27:10.327014Z",
     "start_time": "2021-05-27T21:27:09.860765Z"
    }
   },
   "outputs": [
    {
     "data": {
      "text/plain": [
       "Text(0.5, 1.0, 'Most Mentioned Teams in ESPN Headlines')"
      ]
     },
     "execution_count": 85,
     "metadata": {},
     "output_type": "execute_result"
    },
    {
     "data": {
      "image/png": "[encoded data removed]",
      "text/plain": [
       "<Figure size 1080x720 with 1 Axes>"
      ]
     },
     "metadata": {},
     "output_type": "display_data"
    }
   ],
   "source": [
    "plt.figure(figsize=(15,10))\n",
    "sns.barplot(x=headline_team_names, \n",
    "            y=headline_team_mentions_df.sum().sort_values(ascending=False).values,\n",
    "           palette=team_colors)\n",
    "plt.xlabel('Teams')\n",
    "plt.ylabel('Mention Count')\n",
    "plt.title('Most Mentioned Teams in ESPN Headlines')"
   ]
  },
  {
   "cell_type": "code",
   "execution_count": 18,
   "metadata": {
    "ExecuteTime": {
     "end_time": "2021-05-27T18:09:21.434279Z",
     "start_time": "2021-05-27T18:09:21.421221Z"
    }
   },
   "outputs": [
    {
     "data": {
      "text/html": [
       "<div>\n",
       "<style scoped>\n",
       "    .dataframe tbody tr th:only-of-type {\n",
       "        vertical-align: middle;\n",
       "    }\n",
       "\n",
       "    .dataframe tbody tr th {\n",
       "        vertical-align: top;\n",
       "    }\n",
       "\n",
       "    .dataframe thead th {\n",
       "        text-align: right;\n",
       "    }\n",
       "</style>\n",
       "<table border=\"1\" class=\"dataframe\">\n",
       "  <thead>\n",
       "    <tr style=\"text-align: right;\">\n",
       "      <th></th>\n",
       "      <th>LeBron</th>\n",
       "      <th>Steph</th>\n",
       "      <th>Harden</th>\n",
       "      <th>KD</th>\n",
       "      <th>Kyrie</th>\n",
       "      <th>Dame</th>\n",
       "      <th>Luka</th>\n",
       "      <th>Zion</th>\n",
       "      <th>Ja</th>\n",
       "      <th>Giannis</th>\n",
       "      <th>Jokic</th>\n",
       "      <th>Embiid</th>\n",
       "      <th>CP</th>\n",
       "    </tr>\n",
       "  </thead>\n",
       "  <tbody>\n",
       "    <tr>\n",
       "      <th>0</th>\n",
       "      <td>0</td>\n",
       "      <td>0</td>\n",
       "      <td>0</td>\n",
       "      <td>0</td>\n",
       "      <td>0</td>\n",
       "      <td>0</td>\n",
       "      <td>0</td>\n",
       "      <td>0</td>\n",
       "      <td>0</td>\n",
       "      <td>0</td>\n",
       "      <td>0</td>\n",
       "      <td>0</td>\n",
       "      <td>0</td>\n",
       "    </tr>\n",
       "    <tr>\n",
       "      <th>1</th>\n",
       "      <td>0</td>\n",
       "      <td>0</td>\n",
       "      <td>0</td>\n",
       "      <td>0</td>\n",
       "      <td>0</td>\n",
       "      <td>0</td>\n",
       "      <td>0</td>\n",
       "      <td>0</td>\n",
       "      <td>0</td>\n",
       "      <td>0</td>\n",
       "      <td>0</td>\n",
       "      <td>0</td>\n",
       "      <td>0</td>\n",
       "    </tr>\n",
       "    <tr>\n",
       "      <th>2</th>\n",
       "      <td>0</td>\n",
       "      <td>0</td>\n",
       "      <td>0</td>\n",
       "      <td>0</td>\n",
       "      <td>0</td>\n",
       "      <td>0</td>\n",
       "      <td>0</td>\n",
       "      <td>0</td>\n",
       "      <td>0</td>\n",
       "      <td>0</td>\n",
       "      <td>0</td>\n",
       "      <td>0</td>\n",
       "      <td>0</td>\n",
       "    </tr>\n",
       "    <tr>\n",
       "      <th>3</th>\n",
       "      <td>0</td>\n",
       "      <td>0</td>\n",
       "      <td>0</td>\n",
       "      <td>0</td>\n",
       "      <td>0</td>\n",
       "      <td>0</td>\n",
       "      <td>1</td>\n",
       "      <td>0</td>\n",
       "      <td>0</td>\n",
       "      <td>0</td>\n",
       "      <td>0</td>\n",
       "      <td>0</td>\n",
       "      <td>0</td>\n",
       "    </tr>\n",
       "    <tr>\n",
       "      <th>4</th>\n",
       "      <td>0</td>\n",
       "      <td>0</td>\n",
       "      <td>0</td>\n",
       "      <td>0</td>\n",
       "      <td>0</td>\n",
       "      <td>0</td>\n",
       "      <td>0</td>\n",
       "      <td>0</td>\n",
       "      <td>0</td>\n",
       "      <td>0</td>\n",
       "      <td>0</td>\n",
       "      <td>0</td>\n",
       "      <td>0</td>\n",
       "    </tr>\n",
       "  </tbody>\n",
       "</table>\n",
       "</div>"
      ],
      "text/plain": [
       "   LeBron  Steph  Harden  KD  Kyrie  Dame  Luka  Zion  Ja  Giannis  Jokic  \\\n",
       "0       0      0       0   0      0     0     0     0   0        0      0   \n",
       "1       0      0       0   0      0     0     0     0   0        0      0   \n",
       "2       0      0       0   0      0     0     0     0   0        0      0   \n",
       "3       0      0       0   0      0     0     1     0   0        0      0   \n",
       "4       0      0       0   0      0     0     0     0   0        0      0   \n",
       "\n",
       "   Embiid  CP  \n",
       "0       0   0  \n",
       "1       0   0  \n",
       "2       0   0  \n",
       "3       0   0  \n",
       "4       0   0  "
      ]
     },
     "execution_count": 18,
     "metadata": {},
     "output_type": "execute_result"
    }
   ],
   "source": [
    "tweets_player_mentions_df.head()"
   ]
  },
  {
   "cell_type": "code",
   "execution_count": 19,
   "metadata": {
    "ExecuteTime": {
     "end_time": "2021-05-27T18:09:21.444716Z",
     "start_time": "2021-05-27T18:09:21.437173Z"
    }
   },
   "outputs": [
    {
     "data": {
      "text/plain": [
       "LeBron     6654\n",
       "KD         3447\n",
       "Steph      3363\n",
       "Kyrie      1905\n",
       "Harden     1695\n",
       "Giannis    1531\n",
       "Embiid     1116\n",
       "CP          991\n",
       "Zion        926\n",
       "Dame        864\n",
       "Luka        753\n",
       "Jokic       561\n",
       "Ja          252\n",
       "dtype: int64"
      ]
     },
     "execution_count": 19,
     "metadata": {},
     "output_type": "execute_result"
    }
   ],
   "source": [
    "tweets_player_mentions_df.sum().sort_values(ascending=False)"
   ]
  },
  {
   "cell_type": "markdown",
   "metadata": {},
   "source": [
    "When looking at player mentions in the collected tweets, it appears that Chris Paul is better represented.  Ja Morant is the least mentioned, which meets our expectations given his lack of time in the league and how his peer in Zion Williamson was a more highlty touted player.  Kevin Durant barely edges out Stephen Curry, likely due to his free agency decisions in 2016 and 2019. Stephen Curry was injured for most of the 2019-2020 season but despite not being able to play, he still garnered a lot of attention."
   ]
  },
  {
   "cell_type": "code",
   "execution_count": 20,
   "metadata": {
    "ExecuteTime": {
     "end_time": "2021-05-27T18:09:21.453757Z",
     "start_time": "2021-05-27T18:09:21.447564Z"
    }
   },
   "outputs": [],
   "source": [
    "twitter_player_names = list(tweets_player_mentions_df.sum().sort_values(ascending=False).index)"
   ]
  },
  {
   "cell_type": "code",
   "execution_count": 51,
   "metadata": {
    "ExecuteTime": {
     "end_time": "2021-05-27T19:36:43.920947Z",
     "start_time": "2021-05-27T19:36:43.622584Z"
    }
   },
   "outputs": [
    {
     "data": {
      "text/plain": [
       "Text(0.5, 1.0, 'Player Mentions in Tweets from Various NBA Media Outlets')"
      ]
     },
     "execution_count": 51,
     "metadata": {},
     "output_type": "execute_result"
    },
    {
     "data": {
      "image/png": "[encoded data removed]",
      "text/plain": [
       "<Figure size 720x576 with 1 Axes>"
      ]
     },
     "metadata": {},
     "output_type": "display_data"
    }
   ],
   "source": [
    "plt.figure(figsize=(10,8))\n",
    "sns.barplot(x=twitter_player_names, y=tweets_player_mentions_df.sum().sort_values(ascending=False).values)\n",
    "plt.xlabel('Players')\n",
    "plt.ylabel('Mention Count')\n",
    "plt.title('Player Mentions in Tweets from Various NBA Media Outlets')"
   ]
  },
  {
   "cell_type": "code",
   "execution_count": 22,
   "metadata": {
    "ExecuteTime": {
     "end_time": "2021-05-27T18:09:21.725060Z",
     "start_time": "2021-05-27T18:09:21.707576Z"
    }
   },
   "outputs": [
    {
     "data": {
      "text/html": [
       "<div>\n",
       "<style scoped>\n",
       "    .dataframe tbody tr th:only-of-type {\n",
       "        vertical-align: middle;\n",
       "    }\n",
       "\n",
       "    .dataframe tbody tr th {\n",
       "        vertical-align: top;\n",
       "    }\n",
       "\n",
       "    .dataframe thead th {\n",
       "        text-align: right;\n",
       "    }\n",
       "</style>\n",
       "<table border=\"1\" class=\"dataframe\">\n",
       "  <thead>\n",
       "    <tr style=\"text-align: right;\">\n",
       "      <th></th>\n",
       "      <th>ATL</th>\n",
       "      <th>BOS</th>\n",
       "      <th>BKN</th>\n",
       "      <th>CHA</th>\n",
       "      <th>CHI</th>\n",
       "      <th>CLE</th>\n",
       "      <th>DAL</th>\n",
       "      <th>DEN</th>\n",
       "      <th>DET</th>\n",
       "      <th>GSW</th>\n",
       "      <th>...</th>\n",
       "      <th>OKC</th>\n",
       "      <th>ORL</th>\n",
       "      <th>PHI</th>\n",
       "      <th>PHX</th>\n",
       "      <th>POR</th>\n",
       "      <th>SAC</th>\n",
       "      <th>SAT</th>\n",
       "      <th>TOR</th>\n",
       "      <th>UTAH</th>\n",
       "      <th>WAS</th>\n",
       "    </tr>\n",
       "  </thead>\n",
       "  <tbody>\n",
       "    <tr>\n",
       "      <th>0</th>\n",
       "      <td>0</td>\n",
       "      <td>0</td>\n",
       "      <td>0</td>\n",
       "      <td>0</td>\n",
       "      <td>0</td>\n",
       "      <td>0</td>\n",
       "      <td>0</td>\n",
       "      <td>0</td>\n",
       "      <td>0</td>\n",
       "      <td>0</td>\n",
       "      <td>...</td>\n",
       "      <td>0</td>\n",
       "      <td>0</td>\n",
       "      <td>0</td>\n",
       "      <td>0</td>\n",
       "      <td>0</td>\n",
       "      <td>0</td>\n",
       "      <td>0</td>\n",
       "      <td>0</td>\n",
       "      <td>0</td>\n",
       "      <td>0</td>\n",
       "    </tr>\n",
       "    <tr>\n",
       "      <th>1</th>\n",
       "      <td>0</td>\n",
       "      <td>0</td>\n",
       "      <td>0</td>\n",
       "      <td>0</td>\n",
       "      <td>0</td>\n",
       "      <td>0</td>\n",
       "      <td>0</td>\n",
       "      <td>0</td>\n",
       "      <td>0</td>\n",
       "      <td>0</td>\n",
       "      <td>...</td>\n",
       "      <td>0</td>\n",
       "      <td>0</td>\n",
       "      <td>0</td>\n",
       "      <td>0</td>\n",
       "      <td>0</td>\n",
       "      <td>0</td>\n",
       "      <td>0</td>\n",
       "      <td>0</td>\n",
       "      <td>0</td>\n",
       "      <td>0</td>\n",
       "    </tr>\n",
       "    <tr>\n",
       "      <th>2</th>\n",
       "      <td>0</td>\n",
       "      <td>0</td>\n",
       "      <td>0</td>\n",
       "      <td>0</td>\n",
       "      <td>0</td>\n",
       "      <td>0</td>\n",
       "      <td>0</td>\n",
       "      <td>0</td>\n",
       "      <td>0</td>\n",
       "      <td>0</td>\n",
       "      <td>...</td>\n",
       "      <td>0</td>\n",
       "      <td>0</td>\n",
       "      <td>0</td>\n",
       "      <td>0</td>\n",
       "      <td>0</td>\n",
       "      <td>0</td>\n",
       "      <td>0</td>\n",
       "      <td>0</td>\n",
       "      <td>0</td>\n",
       "      <td>0</td>\n",
       "    </tr>\n",
       "    <tr>\n",
       "      <th>3</th>\n",
       "      <td>0</td>\n",
       "      <td>1</td>\n",
       "      <td>0</td>\n",
       "      <td>0</td>\n",
       "      <td>0</td>\n",
       "      <td>0</td>\n",
       "      <td>0</td>\n",
       "      <td>0</td>\n",
       "      <td>0</td>\n",
       "      <td>0</td>\n",
       "      <td>...</td>\n",
       "      <td>0</td>\n",
       "      <td>0</td>\n",
       "      <td>0</td>\n",
       "      <td>0</td>\n",
       "      <td>0</td>\n",
       "      <td>0</td>\n",
       "      <td>0</td>\n",
       "      <td>0</td>\n",
       "      <td>0</td>\n",
       "      <td>0</td>\n",
       "    </tr>\n",
       "    <tr>\n",
       "      <th>4</th>\n",
       "      <td>0</td>\n",
       "      <td>0</td>\n",
       "      <td>0</td>\n",
       "      <td>0</td>\n",
       "      <td>0</td>\n",
       "      <td>0</td>\n",
       "      <td>0</td>\n",
       "      <td>0</td>\n",
       "      <td>0</td>\n",
       "      <td>0</td>\n",
       "      <td>...</td>\n",
       "      <td>0</td>\n",
       "      <td>0</td>\n",
       "      <td>0</td>\n",
       "      <td>0</td>\n",
       "      <td>0</td>\n",
       "      <td>0</td>\n",
       "      <td>0</td>\n",
       "      <td>0</td>\n",
       "      <td>1</td>\n",
       "      <td>0</td>\n",
       "    </tr>\n",
       "  </tbody>\n",
       "</table>\n",
       "<p>5 rows × 30 columns</p>\n",
       "</div>"
      ],
      "text/plain": [
       "   ATL  BOS  BKN  CHA  CHI  CLE  DAL  DEN  DET  GSW  ...  OKC  ORL  PHI  PHX  \\\n",
       "0    0    0    0    0    0    0    0    0    0    0  ...    0    0    0    0   \n",
       "1    0    0    0    0    0    0    0    0    0    0  ...    0    0    0    0   \n",
       "2    0    0    0    0    0    0    0    0    0    0  ...    0    0    0    0   \n",
       "3    0    1    0    0    0    0    0    0    0    0  ...    0    0    0    0   \n",
       "4    0    0    0    0    0    0    0    0    0    0  ...    0    0    0    0   \n",
       "\n",
       "   POR  SAC  SAT  TOR  UTAH  WAS  \n",
       "0    0    0    0    0     0    0  \n",
       "1    0    0    0    0     0    0  \n",
       "2    0    0    0    0     0    0  \n",
       "3    0    0    0    0     0    0  \n",
       "4    0    0    0    0     1    0  \n",
       "\n",
       "[5 rows x 30 columns]"
      ]
     },
     "execution_count": 22,
     "metadata": {},
     "output_type": "execute_result"
    }
   ],
   "source": [
    "tweets_team_mentions_df.head()"
   ]
  },
  {
   "cell_type": "code",
   "execution_count": 23,
   "metadata": {
    "ExecuteTime": {
     "end_time": "2021-05-27T18:09:21.740117Z",
     "start_time": "2021-05-27T18:09:21.731327Z"
    }
   },
   "outputs": [
    {
     "data": {
      "text/plain": [
       "ATL     1106\n",
       "BOS     2787\n",
       "BKN     1402\n",
       "CHA      712\n",
       "CHI     1421\n",
       "CLE     3871\n",
       "DAL     1117\n",
       "DEN      915\n",
       "DET      745\n",
       "GSW     5922\n",
       "HOU     2471\n",
       "IND      920\n",
       "LAC     1786\n",
       "LAL     3954\n",
       "MEM      804\n",
       "MIA     1677\n",
       "MIL     1441\n",
       "MIN     1222\n",
       "NOP     1200\n",
       "NYK     2186\n",
       "OKC     1990\n",
       "ORL     1172\n",
       "PHI     2313\n",
       "PHX     1043\n",
       "POR     1128\n",
       "SAC     1075\n",
       "SAT     1678\n",
       "TOR     2237\n",
       "UTAH    1023\n",
       "WAS     1296\n",
       "dtype: int64"
      ]
     },
     "execution_count": 23,
     "metadata": {},
     "output_type": "execute_result"
    }
   ],
   "source": [
    "tweets_team_mentions_df.sum()"
   ]
  },
  {
   "cell_type": "code",
   "execution_count": 24,
   "metadata": {
    "ExecuteTime": {
     "end_time": "2021-05-27T18:09:21.753937Z",
     "start_time": "2021-05-27T18:09:21.743229Z"
    }
   },
   "outputs": [],
   "source": [
    "#create list of sorted team names based on tweets\n",
    "twitter_team_names = list(tweets_team_mentions_df.sum().sort_values(ascending=False).index)"
   ]
  },
  {
   "cell_type": "code",
   "execution_count": 84,
   "metadata": {
    "ExecuteTime": {
     "end_time": "2021-05-27T21:26:35.247884Z",
     "start_time": "2021-05-27T21:26:34.793368Z"
    }
   },
   "outputs": [
    {
     "data": {
      "text/plain": [
       "Text(0.5, 1.0, 'Most Mentioned Teams in Tweets from Various NBA Media Outlets')"
      ]
     },
     "execution_count": 84,
     "metadata": {},
     "output_type": "execute_result"
    },
    {
     "data": {
      "image/png": "[encoded data removed]",
      "text/plain": [
       "<Figure size 1080x720 with 1 Axes>"
      ]
     },
     "metadata": {},
     "output_type": "display_data"
    }
   ],
   "source": [
    "plt.figure(figsize=(15,10))\n",
    "sns.barplot(x=twitter_team_names, \n",
    "            y=tweets_team_mentions_df.sum().sort_values(ascending=False).values, \n",
    "           palette=tweet_colors)\n",
    "plt.xlabel('Team')\n",
    "plt.ylabel('Mention Count')\n",
    "plt.title('Most Mentioned Teams in Tweets from Various NBA Media Outlets')"
   ]
  },
  {
   "cell_type": "code",
   "execution_count": 26,
   "metadata": {
    "ExecuteTime": {
     "end_time": "2021-05-27T18:09:22.147280Z",
     "start_time": "2021-05-27T18:09:22.137663Z"
    }
   },
   "outputs": [],
   "source": [
    "#nltk.download('vader_lexicon')\n",
    "from nltk.sentiment.vader import SentimentIntensityAnalyzer "
   ]
  },
  {
   "cell_type": "code",
   "execution_count": 27,
   "metadata": {
    "ExecuteTime": {
     "end_time": "2021-05-27T18:09:22.155684Z",
     "start_time": "2021-05-27T18:09:22.149401Z"
    }
   },
   "outputs": [
    {
     "data": {
      "text/plain": [
       "'Rockets look for repeat against Mavericks'"
      ]
     },
     "execution_count": 27,
     "metadata": {},
     "output_type": "execute_result"
    }
   ],
   "source": [
    "headline_df.loc[3456, 'headlines']"
   ]
  },
  {
   "cell_type": "code",
   "execution_count": 28,
   "metadata": {
    "ExecuteTime": {
     "end_time": "2021-05-27T18:09:22.183243Z",
     "start_time": "2021-05-27T18:09:22.157961Z"
    }
   },
   "outputs": [
    {
     "data": {
      "text/plain": [
       "{'neg': 0.0, 'neu': 1.0, 'pos': 0.0, 'compound': 0.0}"
      ]
     },
     "execution_count": 28,
     "metadata": {},
     "output_type": "execute_result"
    }
   ],
   "source": [
    "#NLTK sentiment\n",
    "sia_ = SentimentIntensityAnalyzer()\n",
    "test_string_headline = headline_df.loc[3456, 'headlines']\n",
    "sia_.polarity_scores(test_string_headline)\n",
    "\n"
   ]
  },
  {
   "cell_type": "code",
   "execution_count": 29,
   "metadata": {
    "ExecuteTime": {
     "end_time": "2021-05-27T18:09:22.243404Z",
     "start_time": "2021-05-27T18:09:22.187178Z"
    }
   },
   "outputs": [
    {
     "data": {
      "text/plain": [
       "Sentiment(polarity=0.0, subjectivity=0.0)"
      ]
     },
     "execution_count": 29,
     "metadata": {},
     "output_type": "execute_result"
    }
   ],
   "source": [
    "#TextBlob Sentiment\n",
    "TextBlob(test_string_headline).sentiment"
   ]
  },
  {
   "cell_type": "code",
   "execution_count": 30,
   "metadata": {
    "ExecuteTime": {
     "end_time": "2021-05-27T18:09:22.250238Z",
     "start_time": "2021-05-27T18:09:22.246197Z"
    }
   },
   "outputs": [],
   "source": [
    "def calc_nltk_sentiment(string):\n",
    "    \"\"\"Returns compound polarity score using SentimentIntensityAnalyzer from NLTK.\"\"\"\n",
    "    sia = SentimentIntensityAnalyzer()\n",
    "    return sia.polarity_scores(string)['compound']"
   ]
  },
  {
   "cell_type": "code",
   "execution_count": 31,
   "metadata": {
    "ExecuteTime": {
     "end_time": "2021-05-27T18:09:22.259172Z",
     "start_time": "2021-05-27T18:09:22.253398Z"
    }
   },
   "outputs": [],
   "source": [
    "def calc_textblob_sentiment(string):\n",
    "    \"\"\"Caclulates sentiment polarity using TextBlob library.\"\"\"\n",
    "    return TextBlob(string).sentiment.polarity"
   ]
  },
  {
   "cell_type": "code",
   "execution_count": 32,
   "metadata": {
    "ExecuteTime": {
     "end_time": "2021-05-27T18:14:28.363764Z",
     "start_time": "2021-05-27T18:09:22.262255Z"
    }
   },
   "outputs": [],
   "source": [
    "headline_nltk_vals = [calc_nltk_sentiment(x) for x in headline_list]\n",
    "headline_blob_vals = [calc_textblob_sentiment(x) for x in headline_list]"
   ]
  },
  {
   "cell_type": "code",
   "execution_count": 33,
   "metadata": {
    "ExecuteTime": {
     "end_time": "2021-05-27T18:31:53.070978Z",
     "start_time": "2021-05-27T18:14:28.366404Z"
    }
   },
   "outputs": [],
   "source": [
    "tweets_nltk_vals = [calc_nltk_sentiment(x) for x in tweet_list]\n",
    "tweets_blob_vals = [calc_textblob_sentiment(x) for x in tweet_list]"
   ]
  },
  {
   "cell_type": "code",
   "execution_count": 36,
   "metadata": {
    "ExecuteTime": {
     "end_time": "2021-05-27T18:57:42.910240Z",
     "start_time": "2021-05-27T18:57:42.844622Z"
    }
   },
   "outputs": [],
   "source": [
    "#create new columns with sentiment values for headlines and tweets\n",
    "headline_df['nltk_sentiment'] = headline_nltk_vals\n",
    "headline_df['textblob_sentiment'] = headline_blob_vals\n",
    "\n",
    "tweet_df['nltk_sentiment'] = tweets_nltk_vals\n",
    "tweet_df['textblob_sentiment'] = tweets_blob_vals"
   ]
  },
  {
   "cell_type": "code",
   "execution_count": 37,
   "metadata": {
    "ExecuteTime": {
     "end_time": "2021-05-27T19:02:03.540246Z",
     "start_time": "2021-05-27T19:02:03.515705Z"
    }
   },
   "outputs": [
    {
     "data": {
      "text/html": [
       "<div>\n",
       "<style scoped>\n",
       "    .dataframe tbody tr th:only-of-type {\n",
       "        vertical-align: middle;\n",
       "    }\n",
       "\n",
       "    .dataframe tbody tr th {\n",
       "        vertical-align: top;\n",
       "    }\n",
       "\n",
       "    .dataframe thead th {\n",
       "        text-align: right;\n",
       "    }\n",
       "</style>\n",
       "<table border=\"1\" class=\"dataframe\">\n",
       "  <thead>\n",
       "    <tr style=\"text-align: right;\">\n",
       "      <th></th>\n",
       "      <th>headlines</th>\n",
       "      <th>posted_time</th>\n",
       "      <th>tokens</th>\n",
       "      <th>labels</th>\n",
       "      <th>four_labels</th>\n",
       "      <th>five_labels</th>\n",
       "      <th>nltk_sentiment</th>\n",
       "      <th>textblob_sentiment</th>\n",
       "    </tr>\n",
       "  </thead>\n",
       "  <tbody>\n",
       "    <tr>\n",
       "      <th>0</th>\n",
       "      <td>Wade matches King for 42nd on scoring list in win</td>\n",
       "      <td>2016-02-01</td>\n",
       "      <td>['wade', 'match', 'king', '42nd', 'scoring', '...</td>\n",
       "      <td>0</td>\n",
       "      <td>3</td>\n",
       "      <td>3</td>\n",
       "      <td>0.5859</td>\n",
       "      <td>0.8</td>\n",
       "    </tr>\n",
       "    <tr>\n",
       "      <th>1</th>\n",
       "      <td>Chick Hearn's widow, Marge Hearn, dies at 98</td>\n",
       "      <td>2016-01-31</td>\n",
       "      <td>['chick', 'hearns', 'widow', 'marge', 'hearn',...</td>\n",
       "      <td>0</td>\n",
       "      <td>3</td>\n",
       "      <td>3</td>\n",
       "      <td>0.0000</td>\n",
       "      <td>0.0</td>\n",
       "    </tr>\n",
       "    <tr>\n",
       "      <th>2</th>\n",
       "      <td>Wittman to miss 2 games after brother's death</td>\n",
       "      <td>2016-01-31</td>\n",
       "      <td>['wittman', 'miss', '2', 'game', 'brother', 'd...</td>\n",
       "      <td>0</td>\n",
       "      <td>3</td>\n",
       "      <td>3</td>\n",
       "      <td>-0.6705</td>\n",
       "      <td>0.0</td>\n",
       "    </tr>\n",
       "    <tr>\n",
       "      <th>3</th>\n",
       "      <td>LeBron atones for wardrobe mismatch vs. Spurs</td>\n",
       "      <td>2016-01-31</td>\n",
       "      <td>['lebron', 'atones', 'wardrobe', 'mismatch', '...</td>\n",
       "      <td>0</td>\n",
       "      <td>3</td>\n",
       "      <td>4</td>\n",
       "      <td>0.0000</td>\n",
       "      <td>0.0</td>\n",
       "    </tr>\n",
       "    <tr>\n",
       "      <th>4</th>\n",
       "      <td>Source: Rockets petition to rescind Howard's t...</td>\n",
       "      <td>2016-01-31</td>\n",
       "      <td>['source', 'rocket', 'petition', 'rescind', 'h...</td>\n",
       "      <td>0</td>\n",
       "      <td>3</td>\n",
       "      <td>3</td>\n",
       "      <td>0.0000</td>\n",
       "      <td>0.0</td>\n",
       "    </tr>\n",
       "  </tbody>\n",
       "</table>\n",
       "</div>"
      ],
      "text/plain": [
       "                                           headlines posted_time  \\\n",
       "0  Wade matches King for 42nd on scoring list in win  2016-02-01   \n",
       "1       Chick Hearn's widow, Marge Hearn, dies at 98  2016-01-31   \n",
       "2      Wittman to miss 2 games after brother's death  2016-01-31   \n",
       "3      LeBron atones for wardrobe mismatch vs. Spurs  2016-01-31   \n",
       "4  Source: Rockets petition to rescind Howard's t...  2016-01-31   \n",
       "\n",
       "                                              tokens  labels  four_labels  \\\n",
       "0  ['wade', 'match', 'king', '42nd', 'scoring', '...       0            3   \n",
       "1  ['chick', 'hearns', 'widow', 'marge', 'hearn',...       0            3   \n",
       "2  ['wittman', 'miss', '2', 'game', 'brother', 'd...       0            3   \n",
       "3  ['lebron', 'atones', 'wardrobe', 'mismatch', '...       0            3   \n",
       "4  ['source', 'rocket', 'petition', 'rescind', 'h...       0            3   \n",
       "\n",
       "   five_labels  nltk_sentiment  textblob_sentiment  \n",
       "0            3          0.5859                 0.8  \n",
       "1            3          0.0000                 0.0  \n",
       "2            3         -0.6705                 0.0  \n",
       "3            4          0.0000                 0.0  \n",
       "4            3          0.0000                 0.0  "
      ]
     },
     "execution_count": 37,
     "metadata": {},
     "output_type": "execute_result"
    }
   ],
   "source": [
    "headline_df.head()"
   ]
  },
  {
   "cell_type": "code",
   "execution_count": 60,
   "metadata": {
    "ExecuteTime": {
     "end_time": "2021-05-27T19:59:34.700058Z",
     "start_time": "2021-05-27T19:59:34.167161Z"
    }
   },
   "outputs": [
    {
     "data": {
      "text/plain": [
       "Text(0.5, 1.0, 'TextBlob Sentiment Polarity Histogram')"
      ]
     },
     "execution_count": 60,
     "metadata": {},
     "output_type": "execute_result"
    },
    {
     "data": {
      "image/png": "[encoded data removed]",
      "text/plain": [
       "<Figure size 1080x576 with 2 Axes>"
      ]
     },
     "metadata": {},
     "output_type": "display_data"
    }
   ],
   "source": [
    "fig, axs = plt.subplots(1, 2, figsize=(15, 8))\n",
    "axs[0].hist(x=headline_df['nltk_sentiment'], color='darkorange');\n",
    "axs[1].hist(x=headline_df['textblob_sentiment'], color='blue');\n",
    "\n",
    "axs[0].set_xlabel('Sentiment Polarity')\n",
    "axs[0].set_title('NLTK Sentiment Polarity Histogram for Headlines')\n",
    "axs[1].set_xlabel('Sentiment Polarity')\n",
    "axs[1].set_title('TextBlob Sentiment Polarity Histogram for Headlines')"
   ]
  },
  {
   "cell_type": "code",
   "execution_count": 38,
   "metadata": {
    "ExecuteTime": {
     "end_time": "2021-05-27T19:02:13.098467Z",
     "start_time": "2021-05-27T19:02:13.072705Z"
    }
   },
   "outputs": [
    {
     "data": {
      "text/html": [
       "<div>\n",
       "<style scoped>\n",
       "    .dataframe tbody tr th:only-of-type {\n",
       "        vertical-align: middle;\n",
       "    }\n",
       "\n",
       "    .dataframe tbody tr th {\n",
       "        vertical-align: top;\n",
       "    }\n",
       "\n",
       "    .dataframe thead th {\n",
       "        text-align: right;\n",
       "    }\n",
       "</style>\n",
       "<table border=\"1\" class=\"dataframe\">\n",
       "  <thead>\n",
       "    <tr style=\"text-align: right;\">\n",
       "      <th></th>\n",
       "      <th>date</th>\n",
       "      <th>tweet</th>\n",
       "      <th>source</th>\n",
       "      <th>tweet_tokens</th>\n",
       "      <th>dual_labels</th>\n",
       "      <th>trip_labels</th>\n",
       "      <th>quad_labels</th>\n",
       "      <th>five_labels</th>\n",
       "      <th>nltk_sentiment</th>\n",
       "      <th>textblob_sentiment</th>\n",
       "    </tr>\n",
       "  </thead>\n",
       "  <tbody>\n",
       "    <tr>\n",
       "      <th>0</th>\n",
       "      <td>2021-02-26 12:35:27</td>\n",
       "      <td>Obi Toppin is expected to participate in the N...</td>\n",
       "      <td>Yahoo</td>\n",
       "      <td>['obi', 'toppin', 'expected', 'participate', '...</td>\n",
       "      <td>0</td>\n",
       "      <td>0</td>\n",
       "      <td>3</td>\n",
       "      <td>1</td>\n",
       "      <td>-0.3818</td>\n",
       "      <td>-0.100</td>\n",
       "    </tr>\n",
       "    <tr>\n",
       "      <th>1</th>\n",
       "      <td>2021-02-25 23:08:17</td>\n",
       "      <td>MPJ SLAM</td>\n",
       "      <td>Yahoo</td>\n",
       "      <td>['mpj', 'slam', '']</td>\n",
       "      <td>1</td>\n",
       "      <td>2</td>\n",
       "      <td>1</td>\n",
       "      <td>2</td>\n",
       "      <td>-0.3818</td>\n",
       "      <td>0.000</td>\n",
       "    </tr>\n",
       "    <tr>\n",
       "      <th>2</th>\n",
       "      <td>2021-02-25 17:48:50</td>\n",
       "      <td>Timberwolves G Malik Beasley has been suspende...</td>\n",
       "      <td>Yahoo</td>\n",
       "      <td>['timberwolves', 'g', 'malik', 'beasley', 'sus...</td>\n",
       "      <td>1</td>\n",
       "      <td>2</td>\n",
       "      <td>1</td>\n",
       "      <td>2</td>\n",
       "      <td>-0.6369</td>\n",
       "      <td>-0.125</td>\n",
       "    </tr>\n",
       "    <tr>\n",
       "      <th>3</th>\n",
       "      <td>2021-02-25 13:40:20</td>\n",
       "      <td>Luka's game-winner against the Celtics vs. Luk...</td>\n",
       "      <td>Yahoo</td>\n",
       "      <td>['lukas', 'gamewinner', 'celtic', 'v', 'lukas'...</td>\n",
       "      <td>1</td>\n",
       "      <td>2</td>\n",
       "      <td>2</td>\n",
       "      <td>2</td>\n",
       "      <td>0.0000</td>\n",
       "      <td>0.000</td>\n",
       "    </tr>\n",
       "    <tr>\n",
       "      <th>4</th>\n",
       "      <td>2021-02-25 13:10:50</td>\n",
       "      <td>It's time to stop underrating the Utah Jazz Fr...</td>\n",
       "      <td>Yahoo</td>\n",
       "      <td>['time', 'stop', 'underrating', 'utah', 'jazz'...</td>\n",
       "      <td>1</td>\n",
       "      <td>2</td>\n",
       "      <td>1</td>\n",
       "      <td>2</td>\n",
       "      <td>-0.2960</td>\n",
       "      <td>0.000</td>\n",
       "    </tr>\n",
       "  </tbody>\n",
       "</table>\n",
       "</div>"
      ],
      "text/plain": [
       "                  date                                              tweet  \\\n",
       "0  2021-02-26 12:35:27  Obi Toppin is expected to participate in the N...   \n",
       "1  2021-02-25 23:08:17                                          MPJ SLAM    \n",
       "2  2021-02-25 17:48:50  Timberwolves G Malik Beasley has been suspende...   \n",
       "3  2021-02-25 13:40:20  Luka's game-winner against the Celtics vs. Luk...   \n",
       "4  2021-02-25 13:10:50  It's time to stop underrating the Utah Jazz Fr...   \n",
       "\n",
       "  source                                       tweet_tokens  dual_labels  \\\n",
       "0  Yahoo  ['obi', 'toppin', 'expected', 'participate', '...            0   \n",
       "1  Yahoo                                ['mpj', 'slam', '']            1   \n",
       "2  Yahoo  ['timberwolves', 'g', 'malik', 'beasley', 'sus...            1   \n",
       "3  Yahoo  ['lukas', 'gamewinner', 'celtic', 'v', 'lukas'...            1   \n",
       "4  Yahoo  ['time', 'stop', 'underrating', 'utah', 'jazz'...            1   \n",
       "\n",
       "   trip_labels  quad_labels  five_labels  nltk_sentiment  textblob_sentiment  \n",
       "0            0            3            1         -0.3818              -0.100  \n",
       "1            2            1            2         -0.3818               0.000  \n",
       "2            2            1            2         -0.6369              -0.125  \n",
       "3            2            2            2          0.0000               0.000  \n",
       "4            2            1            2         -0.2960               0.000  "
      ]
     },
     "execution_count": 38,
     "metadata": {},
     "output_type": "execute_result"
    }
   ],
   "source": [
    "tweet_df.head()"
   ]
  },
  {
   "cell_type": "code",
   "execution_count": 64,
   "metadata": {
    "ExecuteTime": {
     "end_time": "2021-05-27T20:19:34.525430Z",
     "start_time": "2021-05-27T20:19:33.988220Z"
    }
   },
   "outputs": [
    {
     "data": {
      "text/plain": [
       "Text(0.5, 1.0, 'TextBlob Sentiment Polarity Histogram for NBA Media Tweets')"
      ]
     },
     "execution_count": 64,
     "metadata": {},
     "output_type": "execute_result"
    },
    {
     "data": {
      "image/png": "[encoded data removed]",
      "text/plain": [
       "<Figure size 1080x576 with 2 Axes>"
      ]
     },
     "metadata": {},
     "output_type": "display_data"
    }
   ],
   "source": [
    "fig, axs = plt.subplots(1, 2, figsize=(15, 8))\n",
    "axs[0].hist(x=tweet_df['nltk_sentiment'], color='slategray')\n",
    "axs[1].hist(x=tweet_df['textblob_sentiment'], color='peru')\n",
    "\n",
    "axs[0].set_xlabel('Sentiment Polarity')\n",
    "axs[0].set_title('NLTK Sentiment Polarity Histogram for NBA Media Tweets')\n",
    "axs[1].set_xlabel('Sentiment Polarity')\n",
    "axs[1].set_title('TextBlob Sentiment Polarity Histogram for NBA Media Tweets')"
   ]
  },
  {
   "cell_type": "code",
   "execution_count": null,
   "metadata": {},
   "outputs": [],
   "source": []
  }
 ],
 "metadata": {
  "kernelspec": {
   "display_name": "Python 3",
   "language": "python",
   "name": "python3"
  },
  "language_info": {
   "codemirror_mode": {
    "name": "ipython",
    "version": 3
   },
   "file_extension": ".py",
   "mimetype": "text/x-python",
   "name": "python",
   "nbconvert_exporter": "python",
   "pygments_lexer": "ipython3",
   "version": "3.7.6"
  },
  "toc": {
   "base_numbering": 1,
   "nav_menu": {},
   "number_sections": true,
   "sideBar": true,
   "skip_h1_title": false,
   "title_cell": "Table of Contents",
   "title_sidebar": "Contents",
   "toc_cell": false,
   "toc_position": {},
   "toc_section_display": true,
   "toc_window_display": false
  }
 },
 "nbformat": 4,
 "nbformat_minor": 4
}
