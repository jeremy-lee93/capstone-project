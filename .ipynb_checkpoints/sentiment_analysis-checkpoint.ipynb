{
 "cells": [
  {
   "cell_type": "code",
   "execution_count": 60,
   "metadata": {
    "ExecuteTime": {
     "end_time": "2021-05-27T14:20:04.706010Z",
     "start_time": "2021-05-27T14:20:04.646161Z"
    }
   },
   "outputs": [],
   "source": [
    "import pandas as pd\n",
    "import numpy as np\n",
    "import matplotlib.pyplot as plt\n",
    "import seaborn as sns\n",
    "from textblob import TextBlob, Word, Blobber\n",
    "import flair\n",
    "import re\n",
    "import string\n",
    "import nltk\n",
    "from nltk.stem import WordNetLemmatizer"
   ]
  },
  {
   "cell_type": "code",
   "execution_count": 61,
   "metadata": {
    "ExecuteTime": {
     "end_time": "2021-05-27T14:20:06.466543Z",
     "start_time": "2021-05-27T14:20:05.514043Z"
    }
   },
   "outputs": [],
   "source": [
    "#import data\n",
    "headline_df = pd.read_csv('data/espn_df_recluster.csv')\n",
    "tweet_df = pd.read_csv('data/nba_twitter.csv')"
   ]
  },
  {
   "cell_type": "code",
   "execution_count": 62,
   "metadata": {
    "ExecuteTime": {
     "end_time": "2021-05-27T14:20:06.505994Z",
     "start_time": "2021-05-27T14:20:06.470071Z"
    }
   },
   "outputs": [
    {
     "data": {
      "text/html": [
       "<div>\n",
       "<style scoped>\n",
       "    .dataframe tbody tr th:only-of-type {\n",
       "        vertical-align: middle;\n",
       "    }\n",
       "\n",
       "    .dataframe tbody tr th {\n",
       "        vertical-align: top;\n",
       "    }\n",
       "\n",
       "    .dataframe thead th {\n",
       "        text-align: right;\n",
       "    }\n",
       "</style>\n",
       "<table border=\"1\" class=\"dataframe\">\n",
       "  <thead>\n",
       "    <tr style=\"text-align: right;\">\n",
       "      <th></th>\n",
       "      <th>headlines</th>\n",
       "      <th>posted_time</th>\n",
       "      <th>tokens</th>\n",
       "      <th>labels</th>\n",
       "      <th>four_labels</th>\n",
       "      <th>five_labels</th>\n",
       "    </tr>\n",
       "  </thead>\n",
       "  <tbody>\n",
       "    <tr>\n",
       "      <th>0</th>\n",
       "      <td>Wade matches King for 42nd on scoring list in win</td>\n",
       "      <td>2016-02-01</td>\n",
       "      <td>['wade', 'match', 'king', '42nd', 'scoring', '...</td>\n",
       "      <td>0</td>\n",
       "      <td>3</td>\n",
       "      <td>3</td>\n",
       "    </tr>\n",
       "    <tr>\n",
       "      <th>1</th>\n",
       "      <td>Chick Hearn's widow, Marge Hearn, dies at 98</td>\n",
       "      <td>2016-01-31</td>\n",
       "      <td>['chick', 'hearns', 'widow', 'marge', 'hearn',...</td>\n",
       "      <td>0</td>\n",
       "      <td>3</td>\n",
       "      <td>3</td>\n",
       "    </tr>\n",
       "    <tr>\n",
       "      <th>2</th>\n",
       "      <td>Wittman to miss 2 games after brother's death</td>\n",
       "      <td>2016-01-31</td>\n",
       "      <td>['wittman', 'miss', '2', 'game', 'brother', 'd...</td>\n",
       "      <td>0</td>\n",
       "      <td>3</td>\n",
       "      <td>3</td>\n",
       "    </tr>\n",
       "    <tr>\n",
       "      <th>3</th>\n",
       "      <td>LeBron atones for wardrobe mismatch vs. Spurs</td>\n",
       "      <td>2016-01-31</td>\n",
       "      <td>['lebron', 'atones', 'wardrobe', 'mismatch', '...</td>\n",
       "      <td>0</td>\n",
       "      <td>3</td>\n",
       "      <td>4</td>\n",
       "    </tr>\n",
       "    <tr>\n",
       "      <th>4</th>\n",
       "      <td>Source: Rockets petition to rescind Howard's t...</td>\n",
       "      <td>2016-01-31</td>\n",
       "      <td>['source', 'rocket', 'petition', 'rescind', 'h...</td>\n",
       "      <td>0</td>\n",
       "      <td>3</td>\n",
       "      <td>3</td>\n",
       "    </tr>\n",
       "  </tbody>\n",
       "</table>\n",
       "</div>"
      ],
      "text/plain": [
       "                                           headlines posted_time  \\\n",
       "0  Wade matches King for 42nd on scoring list in win  2016-02-01   \n",
       "1       Chick Hearn's widow, Marge Hearn, dies at 98  2016-01-31   \n",
       "2      Wittman to miss 2 games after brother's death  2016-01-31   \n",
       "3      LeBron atones for wardrobe mismatch vs. Spurs  2016-01-31   \n",
       "4  Source: Rockets petition to rescind Howard's t...  2016-01-31   \n",
       "\n",
       "                                              tokens  labels  four_labels  \\\n",
       "0  ['wade', 'match', 'king', '42nd', 'scoring', '...       0            3   \n",
       "1  ['chick', 'hearns', 'widow', 'marge', 'hearn',...       0            3   \n",
       "2  ['wittman', 'miss', '2', 'game', 'brother', 'd...       0            3   \n",
       "3  ['lebron', 'atones', 'wardrobe', 'mismatch', '...       0            3   \n",
       "4  ['source', 'rocket', 'petition', 'rescind', 'h...       0            3   \n",
       "\n",
       "   five_labels  \n",
       "0            3  \n",
       "1            3  \n",
       "2            3  \n",
       "3            4  \n",
       "4            3  "
      ]
     },
     "execution_count": 62,
     "metadata": {},
     "output_type": "execute_result"
    }
   ],
   "source": [
    "#preview ESPN headlines\n",
    "headline_df.head()"
   ]
  },
  {
   "cell_type": "code",
   "execution_count": 63,
   "metadata": {
    "ExecuteTime": {
     "end_time": "2021-05-27T14:20:07.200294Z",
     "start_time": "2021-05-27T14:20:07.171713Z"
    }
   },
   "outputs": [
    {
     "data": {
      "text/html": [
       "<div>\n",
       "<style scoped>\n",
       "    .dataframe tbody tr th:only-of-type {\n",
       "        vertical-align: middle;\n",
       "    }\n",
       "\n",
       "    .dataframe tbody tr th {\n",
       "        vertical-align: top;\n",
       "    }\n",
       "\n",
       "    .dataframe thead th {\n",
       "        text-align: right;\n",
       "    }\n",
       "</style>\n",
       "<table border=\"1\" class=\"dataframe\">\n",
       "  <thead>\n",
       "    <tr style=\"text-align: right;\">\n",
       "      <th></th>\n",
       "      <th>date</th>\n",
       "      <th>tweet</th>\n",
       "      <th>source</th>\n",
       "      <th>tweet_tokens</th>\n",
       "      <th>dual_labels</th>\n",
       "      <th>trip_labels</th>\n",
       "      <th>quad_labels</th>\n",
       "      <th>five_labels</th>\n",
       "    </tr>\n",
       "  </thead>\n",
       "  <tbody>\n",
       "    <tr>\n",
       "      <th>0</th>\n",
       "      <td>2021-02-26 12:35:27</td>\n",
       "      <td>Obi Toppin is expected to participate in the N...</td>\n",
       "      <td>Yahoo</td>\n",
       "      <td>['obi', 'toppin', 'expected', 'participate', '...</td>\n",
       "      <td>0</td>\n",
       "      <td>0</td>\n",
       "      <td>3</td>\n",
       "      <td>1</td>\n",
       "    </tr>\n",
       "    <tr>\n",
       "      <th>1</th>\n",
       "      <td>2021-02-25 23:08:17</td>\n",
       "      <td>MPJ SLAM</td>\n",
       "      <td>Yahoo</td>\n",
       "      <td>['mpj', 'slam', '']</td>\n",
       "      <td>1</td>\n",
       "      <td>2</td>\n",
       "      <td>1</td>\n",
       "      <td>2</td>\n",
       "    </tr>\n",
       "    <tr>\n",
       "      <th>2</th>\n",
       "      <td>2021-02-25 17:48:50</td>\n",
       "      <td>Timberwolves G Malik Beasley has been suspende...</td>\n",
       "      <td>Yahoo</td>\n",
       "      <td>['timberwolves', 'g', 'malik', 'beasley', 'sus...</td>\n",
       "      <td>1</td>\n",
       "      <td>2</td>\n",
       "      <td>1</td>\n",
       "      <td>2</td>\n",
       "    </tr>\n",
       "    <tr>\n",
       "      <th>3</th>\n",
       "      <td>2021-02-25 13:40:20</td>\n",
       "      <td>Luka's game-winner against the Celtics vs. Luk...</td>\n",
       "      <td>Yahoo</td>\n",
       "      <td>['lukas', 'gamewinner', 'celtic', 'v', 'lukas'...</td>\n",
       "      <td>1</td>\n",
       "      <td>2</td>\n",
       "      <td>2</td>\n",
       "      <td>2</td>\n",
       "    </tr>\n",
       "    <tr>\n",
       "      <th>4</th>\n",
       "      <td>2021-02-25 13:10:50</td>\n",
       "      <td>It's time to stop underrating the Utah Jazz Fr...</td>\n",
       "      <td>Yahoo</td>\n",
       "      <td>['time', 'stop', 'underrating', 'utah', 'jazz'...</td>\n",
       "      <td>1</td>\n",
       "      <td>2</td>\n",
       "      <td>1</td>\n",
       "      <td>2</td>\n",
       "    </tr>\n",
       "  </tbody>\n",
       "</table>\n",
       "</div>"
      ],
      "text/plain": [
       "                  date                                              tweet  \\\n",
       "0  2021-02-26 12:35:27  Obi Toppin is expected to participate in the N...   \n",
       "1  2021-02-25 23:08:17                                          MPJ SLAM    \n",
       "2  2021-02-25 17:48:50  Timberwolves G Malik Beasley has been suspende...   \n",
       "3  2021-02-25 13:40:20  Luka's game-winner against the Celtics vs. Luk...   \n",
       "4  2021-02-25 13:10:50  It's time to stop underrating the Utah Jazz Fr...   \n",
       "\n",
       "  source                                       tweet_tokens  dual_labels  \\\n",
       "0  Yahoo  ['obi', 'toppin', 'expected', 'participate', '...            0   \n",
       "1  Yahoo                                ['mpj', 'slam', '']            1   \n",
       "2  Yahoo  ['timberwolves', 'g', 'malik', 'beasley', 'sus...            1   \n",
       "3  Yahoo  ['lukas', 'gamewinner', 'celtic', 'v', 'lukas'...            1   \n",
       "4  Yahoo  ['time', 'stop', 'underrating', 'utah', 'jazz'...            1   \n",
       "\n",
       "   trip_labels  quad_labels  five_labels  \n",
       "0            0            3            1  \n",
       "1            2            1            2  \n",
       "2            2            1            2  \n",
       "3            2            2            2  \n",
       "4            2            1            2  "
      ]
     },
     "execution_count": 63,
     "metadata": {},
     "output_type": "execute_result"
    }
   ],
   "source": [
    "#preview Twitter data\n",
    "tweet_df.head()"
   ]
  },
  {
   "cell_type": "code",
   "execution_count": 64,
   "metadata": {
    "ExecuteTime": {
     "end_time": "2021-05-27T14:20:07.890719Z",
     "start_time": "2021-05-27T14:20:07.866107Z"
    }
   },
   "outputs": [],
   "source": [
    "def count_player_mentions(text):\n",
    "    text_string = text\n",
    "    \n",
    "    lebron_count = 0\n",
    "    curry_count = 0\n",
    "    harden_count = 0\n",
    "    kd_count = 0\n",
    "    kyrie_count = 0\n",
    "    dame_count = 0\n",
    "    luka_count = 0\n",
    "    zion_count = 0\n",
    "    ja_count = 0\n",
    "    giannis_count = 0\n",
    "    jokic_count = 0\n",
    "    embiid_count = 0\n",
    "    cp3_count = 0\n",
    "    \n",
    "    if text_string.count('LeBron') > 0 or text_string.count('LBJ') > 0 or text_string.count('King James') > 0:\n",
    "        lebron_count += 1\n",
    "    \n",
    "    if text_string.count('Curry') > 0 or text_string.count('Stephen') > 0 or text_string.count('Steph') > 0:\n",
    "        curry_count += 1\n",
    "    \n",
    "    if text_string.count('James Harden') > 0 or text_string.count('Harden') > 0:\n",
    "        harden_count += 1\n",
    "        \n",
    "    if text_string.count('Kevin Durant') > 0 or text_string.count('Durant') > 0 or text_string.count('KD') > 0:\n",
    "        kd_count += 1\n",
    "        \n",
    "    if (text_string.count('Kyrie Irving') > 0 or text_string.count('Irving') > 0 \n",
    "        or text_string.count('Kyrie') > 0):\n",
    "        kyrie_count += 1\n",
    "        \n",
    "    if (text_string.count('Damian Lillard') > 0 or text_string.count('Lillard') > 0 \n",
    "        or text_string.count('Dame') > 0):\n",
    "        dame_count += 1\n",
    "    \n",
    "    if text_string.count('Luka Doncic') > 0 or text_string.count('Luka') > 0 or text_string.count('Doncic') > 0:\n",
    "        luka_count += 1\n",
    "        \n",
    "    if (text_string.count('Zion Williamson') > 0 or text_string.count('Williamson') > 0 \n",
    "        or text_string.count('Zion') >0):\n",
    "        zion_count += 1\n",
    "        \n",
    "    if text_string.count('Ja Morant') > 0 or text_string.count('Morant') > 0 or text_string.count('Ja '):\n",
    "        ja_count += 1\n",
    "        \n",
    "    if (text_string.count('Giannis') > 0 or text_string.count('Antetokounmpo') > 0 \n",
    "        or text_string.count('Greek Freak') > 0):\n",
    "        giannis_count += 1\n",
    "    \n",
    "    if (text_string.count('Nikola') > 0 or text_string.count('Jokic') > 0 \n",
    "        or text_string.count('Joker') > 0):\n",
    "        jokic_count += 1\n",
    "    \n",
    "    if (text_string.count('Joel')> 0 or text_string.count('Embiid') > 0):\n",
    "        embiid_count += 1\n",
    "        \n",
    "    if (text_string.count('Chris Paul') > 0 or text_string.count('CP3') > 0):\n",
    "        cp3_count += 1\n",
    "        \n",
    "    return [lebron_count, curry_count, harden_count, kd_count, \n",
    "            kyrie_count, dame_count, luka_count, zion_count, ja_count, \n",
    "            giannis_count, jokic_count, embiid_count, cp3_count]"
   ]
  },
  {
   "cell_type": "code",
   "execution_count": 65,
   "metadata": {
    "ExecuteTime": {
     "end_time": "2021-05-27T14:20:08.856946Z",
     "start_time": "2021-05-27T14:20:08.810079Z"
    }
   },
   "outputs": [],
   "source": [
    "def count_team_mentions(text):\n",
    "    text_str = text\n",
    "    \n",
    "    atl_count = 0\n",
    "    boston_count = 0\n",
    "    brooklyn_count = 0\n",
    "    charlotte_count = 0\n",
    "    chicago_count = 0\n",
    "    cleveland_count = 0\n",
    "    dallas_count = 0\n",
    "    denver_count = 0\n",
    "    detroit_count = 0\n",
    "    gsw_count = 0\n",
    "    houston_count = 0\n",
    "    indiana_count = 0\n",
    "    clippers_count = 0\n",
    "    lakers_count = 0\n",
    "    memphis_count = 0\n",
    "    miami_count = 0\n",
    "    bucks_count = 0\n",
    "    minn_count = 0\n",
    "    pelicans_count = 0\n",
    "    knicks_count = 0\n",
    "    okc_count = 0\n",
    "    orlando_count = 0\n",
    "    philly_count = 0\n",
    "    phoenix_count = 0\n",
    "    portland_count = 0\n",
    "    sac_count = 0\n",
    "    spurs_count = 0\n",
    "    raptors_count = 0\n",
    "    utah_count = 0\n",
    "    wizards_count = 0\n",
    "    \n",
    "    if text_str.count('Atlanta') > 0 or text_str.count('ATL') > 0 or text_str.count('Hawks') > 0:\n",
    "        atl_count += 1\n",
    "        \n",
    "    if text_str.count('Boston') > 0 or text_str.count('Celtics') > 0:\n",
    "        boston_count += 1\n",
    "        \n",
    "    if text_str.count('Brooklyn') > 0 or text_str.count('Nets') > 0:\n",
    "        brooklyn_count += 1\n",
    "        \n",
    "    if text_str.count('Charlotte') > 0 or text_str.count('Hornets') > 0:\n",
    "        charlotte_count += 1\n",
    "        \n",
    "    if text_str.count('Chicago') > 0 or text_str.count('Bulls') > 0 or text_str.count('Windy City') > 0:\n",
    "        chicago_count += 1\n",
    "        \n",
    "    if text_str.count('Cleveland') > 0 or text_str.count('Cavaliers') > 0 or text_str.count('Cavs') > 0:\n",
    "        cleveland_count += 1\n",
    "        \n",
    "    if text_str.count('Dallas') > 0 or text_str.count('Mavericks') > 0 or text_str.count('Mavs') > 0:\n",
    "        dallas_count += 1\n",
    "        \n",
    "    if text_str.count('Denver') > 0 or text_str.count('Nuggets') > 0:\n",
    "        denver_count += 1\n",
    "        \n",
    "    if text_str.count('Detroit') > 0 or text_str.count('Pistons') > 0 or text_str.count('Motor City') > 0:\n",
    "        detroit_count += 1\n",
    "        \n",
    "    if text_str.count('Golden State') > 0 or text_str.count('Warriors') > 0 or text_str.count('GSW') > 0:\n",
    "        gsw_count += 1\n",
    "        \n",
    "    if text_str.count('Houston') > 0 or text_str.count('Rockets') > 0 or text_str.count('H-Town') > 0:\n",
    "        houston_count += 1\n",
    "        \n",
    "    if text_str.count('Indiana') > 0 or text_str.count('Pacers') > 0:\n",
    "        indiana_count += 1\n",
    "        \n",
    "    if text_str.count('Clippers') > 0 or text_str.count('LAC') > 0 or text_str.count('Clips') > 0:\n",
    "        clippers_count += 1\n",
    "        \n",
    "    if text_str.count('Lakers') > 0 or text_str.count('LAL') > 0:\n",
    "        lakers_count += 1\n",
    "        \n",
    "    if text_str.count('Memphis') > 0 or text_str.count('Grizzlies') > 0:\n",
    "        memphis_count += 1\n",
    "        \n",
    "    if text_str.count('Miami') > 0 or text_str.count('Heat') > 0:\n",
    "        miami_count += 1\n",
    "        \n",
    "    if text_str.count('Milwaukee') > 0 or text_str.count('Bucks') > 0:\n",
    "        bucks_count += 1\n",
    "        \n",
    "    if (text_str.count('Minnesota') > 0 or text_str.count('Timberwolves') > 0 or text_str.count(\"T'Wolves\") > 0\n",
    "       or text_str.count('Wolves') > 0):\n",
    "        minn_count += 1\n",
    "        \n",
    "    if text_str.count('New Orleans') > 0 or text_str.count('Pelicans') > 0 or text_str.count('NOP') > 0:\n",
    "        pelicans_count += 1\n",
    "        \n",
    "    if text_str.count('NYK') > 0 or text_str.count('Knicks') > 0 or text_str.count('New York') > 0:\n",
    "        knicks_count += 1\n",
    "        \n",
    "    if (text_str.count('OKC') > 0 or text_str.count('Thunder') > 0 or \n",
    "        text_str.count('Oklahoma City Thunder')) > 0:\n",
    "        okc_count += 1\n",
    "        \n",
    "    if text_str.count('Orlando') > 0 or text_str.count('Magic') > 0:\n",
    "        orlando_count += 1\n",
    "        \n",
    "    if (text_str.count('Philadelphia') > 0 or text_str.count('76ers') > 0 or text_str.count('Sixers') > 0 \n",
    "        or text_str.count('Philly') > 0):\n",
    "        philly_count += 1\n",
    "        \n",
    "    if text_str.count('Phoenix') > 0 or text_str.count('Suns') > 0:\n",
    "        phoenix_count += 1\n",
    "        \n",
    "    if text_str.count('Portland') > 0 or text_str.count('Trailblazers') > 0 or text_str.count('Blazers'):\n",
    "        portland_count += 1\n",
    "        \n",
    "    if text_str.count('Sacramento') > 0 or text_str.count('Kings') > 0:\n",
    "        sac_count += 1\n",
    "        \n",
    "    if text_str.count('San Antonio') > 0 or text_str.count('Spurs') > 0:\n",
    "        spurs_count += 1\n",
    "        \n",
    "    if text_str.count('Toronto') > 0 or text_str.count('Raptors') > 0 or text_str.count('Jurassic Park') > 0:\n",
    "        raptors_count += 1\n",
    "        \n",
    "    if text_str.count('Utah') > 0 or text_str.count('Jazz') > 0 or text_str.count('Salt Lake City') > 0:\n",
    "        utah_count += 1\n",
    "        \n",
    "    if text_str.count('Washington') > 0 or text_str.count('Wizards') > 0 or text_str.count('DC') > 0:\n",
    "        wizards_count += 1\n",
    "        \n",
    "    return [atl_count, boston_count, brooklyn_count, charlotte_count , chicago_count, cleveland_count,\n",
    "            dallas_count, denver_count, detroit_count, gsw_count, houston_count, indiana_count,\n",
    "            clippers_count, lakers_count, memphis_count, miami_count, bucks_count, minn_count, pelicans_count,\n",
    "            knicks_count, okc_count, orlando_count, philly_count, phoenix_count, portland_count, sac_count,\n",
    "            spurs_count, raptors_count, utah_count, wizards_count]"
   ]
  },
  {
   "cell_type": "code",
   "execution_count": 66,
   "metadata": {
    "ExecuteTime": {
     "end_time": "2021-05-27T14:20:10.728830Z",
     "start_time": "2021-05-27T14:20:10.411537Z"
    }
   },
   "outputs": [],
   "source": [
    "#drop duplicate rows\n",
    "headline_df.drop_duplicates(inplace=True)\n",
    "tweet_df.drop_duplicates(inplace=True)\n",
    "\n",
    "#drop null rows for tweet/headline column\n",
    "headline_df.dropna(subset=['headlines'], inplace=True)\n",
    "tweet_df.dropna(subset=['tweet'], inplace=True)"
   ]
  },
  {
   "cell_type": "code",
   "execution_count": 67,
   "metadata": {
    "ExecuteTime": {
     "end_time": "2021-05-27T14:20:14.060726Z",
     "start_time": "2021-05-27T14:20:11.454738Z"
    }
   },
   "outputs": [],
   "source": [
    "#count player mentions from headlines and store informatiion into a dataframe\n",
    "headline_list = list(headline_df['headlines'])\n",
    "\n",
    "headline_player_mention_count = [count_player_mentions(x) for x in headline_list]\n",
    "\n",
    "headline_player_mentions_df = pd.DataFrame(headline_player_mention_count, \n",
    "                                  columns=['LeBron', 'Steph', 'Harden', 'KD', \n",
    "                                           'Kyrie','Dame','Luka','Zion','Ja',\n",
    "                                           'Giannis', 'Jokic', 'Embiid','CP'])\n",
    "\n",
    "#count team mentions from headlines and store information into a dataframe\n",
    "headline_team_mention_count = [count_team_mentions(x) for x in headline_list]\n",
    "\n",
    "headline_team_mentions_df = pd.DataFrame(headline_team_mention_count, \n",
    "                                          columns=['ATL', 'BOS', 'BKN', 'CHA', 'CHI', 'CLE', 'DAL','DEN', \n",
    "                                                 'DET', 'GSW', 'HOU', 'IND', 'LAC', 'LAL', 'MEM', 'MIA', \n",
    "                                                 'MIL', 'MIN', 'NOP', 'NYK', 'OKC','ORL', 'PHI', 'PHX', \n",
    "                                                 'POR', 'SAC', 'SAT', 'TOR', 'UTAH', 'WAS'])"
   ]
  },
  {
   "cell_type": "code",
   "execution_count": 68,
   "metadata": {
    "ExecuteTime": {
     "end_time": "2021-05-27T14:20:18.726850Z",
     "start_time": "2021-05-27T14:20:14.514855Z"
    }
   },
   "outputs": [],
   "source": [
    "#count player mentions from tweets and store information into a dataframe\n",
    "tweet_list = list(tweet_df['tweet'])\n",
    "\n",
    "tweets_player_mention_count = [count_player_mentions(y) for y in tweet_list]\n",
    "\n",
    "tweets_player_mentions_df = pd.DataFrame(tweets_player_mention_count,\n",
    "                                        columns=['LeBron', 'Steph', 'Harden', 'KD', \n",
    "                                           'Kyrie','Dame','Luka','Zion','Ja',\n",
    "                                           'Giannis', 'Jokic', 'Embiid','CP'])\n",
    "\n",
    "#count team mentions from tweets and store information into a dataframe\n",
    "tweets_team_mention_count = [count_team_mentions(y) for y in tweet_list]\n",
    "\n",
    "tweets_team_mentions_df = pd.DataFrame(tweets_team_mention_count, \n",
    "                                      columns=['ATL', 'BOS', 'BKN', 'CHA', 'CHI', 'CLE', 'DAL','DEN', \n",
    "                                                 'DET', 'GSW', 'HOU', 'IND', 'LAC', 'LAL', 'MEM', 'MIA', \n",
    "                                                 'MIL', 'MIN', 'NOP', 'NYK', 'OKC','ORL', 'PHI', 'PHX', \n",
    "                                                 'POR', 'SAC', 'SAT', 'TOR', 'UTAH', 'WAS'])"
   ]
  },
  {
   "cell_type": "code",
   "execution_count": 69,
   "metadata": {
    "ExecuteTime": {
     "end_time": "2021-05-27T14:20:19.498192Z",
     "start_time": "2021-05-27T14:20:19.477303Z"
    }
   },
   "outputs": [
    {
     "data": {
      "text/html": [
       "<div>\n",
       "<style scoped>\n",
       "    .dataframe tbody tr th:only-of-type {\n",
       "        vertical-align: middle;\n",
       "    }\n",
       "\n",
       "    .dataframe tbody tr th {\n",
       "        vertical-align: top;\n",
       "    }\n",
       "\n",
       "    .dataframe thead th {\n",
       "        text-align: right;\n",
       "    }\n",
       "</style>\n",
       "<table border=\"1\" class=\"dataframe\">\n",
       "  <thead>\n",
       "    <tr style=\"text-align: right;\">\n",
       "      <th></th>\n",
       "      <th>LeBron</th>\n",
       "      <th>Steph</th>\n",
       "      <th>Harden</th>\n",
       "      <th>KD</th>\n",
       "      <th>Kyrie</th>\n",
       "      <th>Dame</th>\n",
       "      <th>Luka</th>\n",
       "      <th>Zion</th>\n",
       "      <th>Ja</th>\n",
       "      <th>Giannis</th>\n",
       "      <th>Jokic</th>\n",
       "      <th>Embiid</th>\n",
       "      <th>CP</th>\n",
       "    </tr>\n",
       "  </thead>\n",
       "  <tbody>\n",
       "    <tr>\n",
       "      <th>0</th>\n",
       "      <td>0</td>\n",
       "      <td>0</td>\n",
       "      <td>0</td>\n",
       "      <td>0</td>\n",
       "      <td>0</td>\n",
       "      <td>0</td>\n",
       "      <td>0</td>\n",
       "      <td>0</td>\n",
       "      <td>0</td>\n",
       "      <td>0</td>\n",
       "      <td>0</td>\n",
       "      <td>0</td>\n",
       "      <td>0</td>\n",
       "    </tr>\n",
       "    <tr>\n",
       "      <th>1</th>\n",
       "      <td>0</td>\n",
       "      <td>0</td>\n",
       "      <td>0</td>\n",
       "      <td>0</td>\n",
       "      <td>0</td>\n",
       "      <td>0</td>\n",
       "      <td>0</td>\n",
       "      <td>0</td>\n",
       "      <td>0</td>\n",
       "      <td>0</td>\n",
       "      <td>0</td>\n",
       "      <td>0</td>\n",
       "      <td>0</td>\n",
       "    </tr>\n",
       "    <tr>\n",
       "      <th>2</th>\n",
       "      <td>0</td>\n",
       "      <td>0</td>\n",
       "      <td>0</td>\n",
       "      <td>0</td>\n",
       "      <td>0</td>\n",
       "      <td>0</td>\n",
       "      <td>0</td>\n",
       "      <td>0</td>\n",
       "      <td>0</td>\n",
       "      <td>0</td>\n",
       "      <td>0</td>\n",
       "      <td>0</td>\n",
       "      <td>0</td>\n",
       "    </tr>\n",
       "    <tr>\n",
       "      <th>3</th>\n",
       "      <td>1</td>\n",
       "      <td>0</td>\n",
       "      <td>0</td>\n",
       "      <td>0</td>\n",
       "      <td>0</td>\n",
       "      <td>0</td>\n",
       "      <td>0</td>\n",
       "      <td>0</td>\n",
       "      <td>0</td>\n",
       "      <td>0</td>\n",
       "      <td>0</td>\n",
       "      <td>0</td>\n",
       "      <td>0</td>\n",
       "    </tr>\n",
       "    <tr>\n",
       "      <th>4</th>\n",
       "      <td>0</td>\n",
       "      <td>0</td>\n",
       "      <td>0</td>\n",
       "      <td>0</td>\n",
       "      <td>0</td>\n",
       "      <td>0</td>\n",
       "      <td>0</td>\n",
       "      <td>0</td>\n",
       "      <td>0</td>\n",
       "      <td>0</td>\n",
       "      <td>0</td>\n",
       "      <td>0</td>\n",
       "      <td>0</td>\n",
       "    </tr>\n",
       "  </tbody>\n",
       "</table>\n",
       "</div>"
      ],
      "text/plain": [
       "   LeBron  Steph  Harden  KD  Kyrie  Dame  Luka  Zion  Ja  Giannis  Jokic  \\\n",
       "0       0      0       0   0      0     0     0     0   0        0      0   \n",
       "1       0      0       0   0      0     0     0     0   0        0      0   \n",
       "2       0      0       0   0      0     0     0     0   0        0      0   \n",
       "3       1      0       0   0      0     0     0     0   0        0      0   \n",
       "4       0      0       0   0      0     0     0     0   0        0      0   \n",
       "\n",
       "   Embiid  CP  \n",
       "0       0   0  \n",
       "1       0   0  \n",
       "2       0   0  \n",
       "3       0   0  \n",
       "4       0   0  "
      ]
     },
     "execution_count": 69,
     "metadata": {},
     "output_type": "execute_result"
    }
   ],
   "source": [
    "headline_player_mentions_df.head()"
   ]
  },
  {
   "cell_type": "code",
   "execution_count": 95,
   "metadata": {
    "ExecuteTime": {
     "end_time": "2021-05-27T14:34:03.849043Z",
     "start_time": "2021-05-27T14:34:03.838231Z"
    },
    "scrolled": true
   },
   "outputs": [
    {
     "data": {
      "text/plain": [
       "LeBron     1535\n",
       "Steph       842\n",
       "KD          750\n",
       "Harden      643\n",
       "Giannis     540\n",
       "Kyrie       518\n",
       "Embiid      434\n",
       "Dame        341\n",
       "Luka        282\n",
       "Zion        236\n",
       "Jokic       195\n",
       "CP          162\n",
       "Ja           73\n",
       "dtype: int64"
      ]
     },
     "execution_count": 95,
     "metadata": {},
     "output_type": "execute_result"
    }
   ],
   "source": [
    "headline_player_mentions_df.sum().sort_values(ascending=False)"
   ]
  },
  {
   "cell_type": "code",
   "execution_count": 99,
   "metadata": {
    "ExecuteTime": {
     "end_time": "2021-05-27T14:44:00.902899Z",
     "start_time": "2021-05-27T14:44:00.893761Z"
    }
   },
   "outputs": [],
   "source": [
    "headline_player_names = list(headline_player_mentions_df.sum().index)"
   ]
  },
  {
   "cell_type": "code",
   "execution_count": 113,
   "metadata": {
    "ExecuteTime": {
     "end_time": "2021-05-27T15:02:31.919244Z",
     "start_time": "2021-05-27T15:02:31.536302Z"
    }
   },
   "outputs": [
    {
     "data": {
      "text/plain": [
       "Text(0.5, 1.0, 'Player Mentions in ESPN Headlines')"
      ]
     },
     "execution_count": 113,
     "metadata": {},
     "output_type": "execute_result"
    },
    {
     "data": {
      "image/png": "[encoded data removed]",
      "text/plain": [
       "<Figure size 720x576 with 1 Axes>"
      ]
     },
     "metadata": {
      "needs_background": "light"
     },
     "output_type": "display_data"
    }
   ],
   "source": [
    "plt.figure(figsize=(10,8))\n",
    "sns.barplot(x=headline_player_names, y=headline_player_mentions_df.sum().sort_values(ascending=False).values)\n",
    "plt.xlabel('Players')\n",
    "plt.ylabel('Mention Count')\n",
    "plt.title('Player Mentions in ESPN Headlines')"
   ]
  },
  {
   "cell_type": "code",
   "execution_count": 71,
   "metadata": {
    "ExecuteTime": {
     "end_time": "2021-05-27T14:20:21.367660Z",
     "start_time": "2021-05-27T14:20:21.337379Z"
    }
   },
   "outputs": [
    {
     "data": {
      "text/html": [
       "<div>\n",
       "<style scoped>\n",
       "    .dataframe tbody tr th:only-of-type {\n",
       "        vertical-align: middle;\n",
       "    }\n",
       "\n",
       "    .dataframe tbody tr th {\n",
       "        vertical-align: top;\n",
       "    }\n",
       "\n",
       "    .dataframe thead th {\n",
       "        text-align: right;\n",
       "    }\n",
       "</style>\n",
       "<table border=\"1\" class=\"dataframe\">\n",
       "  <thead>\n",
       "    <tr style=\"text-align: right;\">\n",
       "      <th></th>\n",
       "      <th>ATL</th>\n",
       "      <th>BOS</th>\n",
       "      <th>BKN</th>\n",
       "      <th>CHA</th>\n",
       "      <th>CHI</th>\n",
       "      <th>CLE</th>\n",
       "      <th>DAL</th>\n",
       "      <th>DEN</th>\n",
       "      <th>DET</th>\n",
       "      <th>GSW</th>\n",
       "      <th>...</th>\n",
       "      <th>OKC</th>\n",
       "      <th>ORL</th>\n",
       "      <th>PHI</th>\n",
       "      <th>PHX</th>\n",
       "      <th>POR</th>\n",
       "      <th>SAC</th>\n",
       "      <th>SAT</th>\n",
       "      <th>TOR</th>\n",
       "      <th>UTAH</th>\n",
       "      <th>WAS</th>\n",
       "    </tr>\n",
       "  </thead>\n",
       "  <tbody>\n",
       "    <tr>\n",
       "      <th>0</th>\n",
       "      <td>0</td>\n",
       "      <td>0</td>\n",
       "      <td>0</td>\n",
       "      <td>0</td>\n",
       "      <td>0</td>\n",
       "      <td>0</td>\n",
       "      <td>0</td>\n",
       "      <td>0</td>\n",
       "      <td>0</td>\n",
       "      <td>0</td>\n",
       "      <td>...</td>\n",
       "      <td>0</td>\n",
       "      <td>0</td>\n",
       "      <td>0</td>\n",
       "      <td>0</td>\n",
       "      <td>0</td>\n",
       "      <td>0</td>\n",
       "      <td>0</td>\n",
       "      <td>0</td>\n",
       "      <td>0</td>\n",
       "      <td>0</td>\n",
       "    </tr>\n",
       "    <tr>\n",
       "      <th>1</th>\n",
       "      <td>0</td>\n",
       "      <td>0</td>\n",
       "      <td>0</td>\n",
       "      <td>0</td>\n",
       "      <td>0</td>\n",
       "      <td>0</td>\n",
       "      <td>0</td>\n",
       "      <td>0</td>\n",
       "      <td>0</td>\n",
       "      <td>0</td>\n",
       "      <td>...</td>\n",
       "      <td>0</td>\n",
       "      <td>0</td>\n",
       "      <td>0</td>\n",
       "      <td>0</td>\n",
       "      <td>0</td>\n",
       "      <td>0</td>\n",
       "      <td>0</td>\n",
       "      <td>0</td>\n",
       "      <td>0</td>\n",
       "      <td>0</td>\n",
       "    </tr>\n",
       "    <tr>\n",
       "      <th>2</th>\n",
       "      <td>0</td>\n",
       "      <td>0</td>\n",
       "      <td>0</td>\n",
       "      <td>0</td>\n",
       "      <td>0</td>\n",
       "      <td>0</td>\n",
       "      <td>0</td>\n",
       "      <td>0</td>\n",
       "      <td>0</td>\n",
       "      <td>0</td>\n",
       "      <td>...</td>\n",
       "      <td>0</td>\n",
       "      <td>0</td>\n",
       "      <td>0</td>\n",
       "      <td>0</td>\n",
       "      <td>0</td>\n",
       "      <td>0</td>\n",
       "      <td>0</td>\n",
       "      <td>0</td>\n",
       "      <td>0</td>\n",
       "      <td>0</td>\n",
       "    </tr>\n",
       "    <tr>\n",
       "      <th>3</th>\n",
       "      <td>0</td>\n",
       "      <td>0</td>\n",
       "      <td>0</td>\n",
       "      <td>0</td>\n",
       "      <td>0</td>\n",
       "      <td>0</td>\n",
       "      <td>0</td>\n",
       "      <td>0</td>\n",
       "      <td>0</td>\n",
       "      <td>0</td>\n",
       "      <td>...</td>\n",
       "      <td>0</td>\n",
       "      <td>0</td>\n",
       "      <td>0</td>\n",
       "      <td>0</td>\n",
       "      <td>0</td>\n",
       "      <td>0</td>\n",
       "      <td>1</td>\n",
       "      <td>0</td>\n",
       "      <td>0</td>\n",
       "      <td>0</td>\n",
       "    </tr>\n",
       "    <tr>\n",
       "      <th>4</th>\n",
       "      <td>0</td>\n",
       "      <td>0</td>\n",
       "      <td>0</td>\n",
       "      <td>0</td>\n",
       "      <td>0</td>\n",
       "      <td>0</td>\n",
       "      <td>0</td>\n",
       "      <td>0</td>\n",
       "      <td>0</td>\n",
       "      <td>0</td>\n",
       "      <td>...</td>\n",
       "      <td>0</td>\n",
       "      <td>0</td>\n",
       "      <td>0</td>\n",
       "      <td>0</td>\n",
       "      <td>0</td>\n",
       "      <td>0</td>\n",
       "      <td>0</td>\n",
       "      <td>0</td>\n",
       "      <td>0</td>\n",
       "      <td>0</td>\n",
       "    </tr>\n",
       "  </tbody>\n",
       "</table>\n",
       "<p>5 rows × 30 columns</p>\n",
       "</div>"
      ],
      "text/plain": [
       "   ATL  BOS  BKN  CHA  CHI  CLE  DAL  DEN  DET  GSW  ...  OKC  ORL  PHI  PHX  \\\n",
       "0    0    0    0    0    0    0    0    0    0    0  ...    0    0    0    0   \n",
       "1    0    0    0    0    0    0    0    0    0    0  ...    0    0    0    0   \n",
       "2    0    0    0    0    0    0    0    0    0    0  ...    0    0    0    0   \n",
       "3    0    0    0    0    0    0    0    0    0    0  ...    0    0    0    0   \n",
       "4    0    0    0    0    0    0    0    0    0    0  ...    0    0    0    0   \n",
       "\n",
       "   POR  SAC  SAT  TOR  UTAH  WAS  \n",
       "0    0    0    0    0     0    0  \n",
       "1    0    0    0    0     0    0  \n",
       "2    0    0    0    0     0    0  \n",
       "3    0    0    1    0     0    0  \n",
       "4    0    0    0    0     0    0  \n",
       "\n",
       "[5 rows x 30 columns]"
      ]
     },
     "execution_count": 71,
     "metadata": {},
     "output_type": "execute_result"
    }
   ],
   "source": [
    "headline_team_mentions_df.head()"
   ]
  },
  {
   "cell_type": "code",
   "execution_count": 98,
   "metadata": {
    "ExecuteTime": {
     "end_time": "2021-05-27T14:36:23.092292Z",
     "start_time": "2021-05-27T14:36:23.078030Z"
    }
   },
   "outputs": [
    {
     "data": {
      "text/plain": [
       "GSW     2064\n",
       "CLE     1917\n",
       "LAL     1814\n",
       "BOS     1601\n",
       "HOU     1496\n",
       "PHI     1417\n",
       "LAC     1323\n",
       "TOR     1318\n",
       "OKC     1304\n",
       "MIL     1301\n",
       "NYK     1250\n",
       "MIA     1246\n",
       "SAT     1240\n",
       "CHI     1239\n",
       "UTAH    1175\n",
       "BKN     1142\n",
       "POR     1130\n",
       "NOP     1121\n",
       "ATL     1096\n",
       "DAL     1091\n",
       "DEN     1088\n",
       "SAC     1070\n",
       "ORL     1065\n",
       "IND     1049\n",
       "MIN     1043\n",
       "PHX     1034\n",
       "DET     1034\n",
       "WAS     1021\n",
       "MEM      984\n",
       "CHA      921\n",
       "dtype: int64"
      ]
     },
     "execution_count": 98,
     "metadata": {},
     "output_type": "execute_result"
    }
   ],
   "source": [
    "headline_team_mentions_df.sum().sort_values(ascending=False)"
   ]
  },
  {
   "cell_type": "code",
   "execution_count": 103,
   "metadata": {
    "ExecuteTime": {
     "end_time": "2021-05-27T14:46:09.360518Z",
     "start_time": "2021-05-27T14:46:09.351951Z"
    }
   },
   "outputs": [],
   "source": [
    "headline_team_names = list(headline_team_mentions_df.sum().sort_values(ascending=False).index)"
   ]
  },
  {
   "cell_type": "code",
   "execution_count": 104,
   "metadata": {
    "ExecuteTime": {
     "end_time": "2021-05-27T14:46:10.528486Z",
     "start_time": "2021-05-27T14:46:10.154772Z"
    }
   },
   "outputs": [
    {
     "data": {
      "text/plain": [
       "Text(0.5, 1.0, 'Most Mentioned Teams in ESPN Headlines')"
      ]
     },
     "execution_count": 104,
     "metadata": {},
     "output_type": "execute_result"
    },
    {
     "data": {
      "image/png": "[encoded data removed]",
      "text/plain": [
       "<Figure size 1080x720 with 1 Axes>"
      ]
     },
     "metadata": {
      "needs_background": "light"
     },
     "output_type": "display_data"
    }
   ],
   "source": [
    "plt.figure(figsize=(15,10))\n",
    "sns.barplot(x=headline_team_names, y=headline_team_mentions_df.sum().sort_values(ascending=False).values)\n",
    "plt.xlabel('Teams')\n",
    "plt.ylabel('Mention Count')\n",
    "plt.title('Most Mentioned Teams in ESPN Headlines')"
   ]
  },
  {
   "cell_type": "code",
   "execution_count": 73,
   "metadata": {
    "ExecuteTime": {
     "end_time": "2021-05-27T14:20:34.400391Z",
     "start_time": "2021-05-27T14:20:34.385351Z"
    }
   },
   "outputs": [
    {
     "data": {
      "text/html": [
       "<div>\n",
       "<style scoped>\n",
       "    .dataframe tbody tr th:only-of-type {\n",
       "        vertical-align: middle;\n",
       "    }\n",
       "\n",
       "    .dataframe tbody tr th {\n",
       "        vertical-align: top;\n",
       "    }\n",
       "\n",
       "    .dataframe thead th {\n",
       "        text-align: right;\n",
       "    }\n",
       "</style>\n",
       "<table border=\"1\" class=\"dataframe\">\n",
       "  <thead>\n",
       "    <tr style=\"text-align: right;\">\n",
       "      <th></th>\n",
       "      <th>LeBron</th>\n",
       "      <th>Steph</th>\n",
       "      <th>Harden</th>\n",
       "      <th>KD</th>\n",
       "      <th>Kyrie</th>\n",
       "      <th>Dame</th>\n",
       "      <th>Luka</th>\n",
       "      <th>Zion</th>\n",
       "      <th>Ja</th>\n",
       "      <th>Giannis</th>\n",
       "      <th>Jokic</th>\n",
       "      <th>Embiid</th>\n",
       "      <th>CP</th>\n",
       "    </tr>\n",
       "  </thead>\n",
       "  <tbody>\n",
       "    <tr>\n",
       "      <th>0</th>\n",
       "      <td>0</td>\n",
       "      <td>0</td>\n",
       "      <td>0</td>\n",
       "      <td>0</td>\n",
       "      <td>0</td>\n",
       "      <td>0</td>\n",
       "      <td>0</td>\n",
       "      <td>0</td>\n",
       "      <td>0</td>\n",
       "      <td>0</td>\n",
       "      <td>0</td>\n",
       "      <td>0</td>\n",
       "      <td>0</td>\n",
       "    </tr>\n",
       "    <tr>\n",
       "      <th>1</th>\n",
       "      <td>0</td>\n",
       "      <td>0</td>\n",
       "      <td>0</td>\n",
       "      <td>0</td>\n",
       "      <td>0</td>\n",
       "      <td>0</td>\n",
       "      <td>0</td>\n",
       "      <td>0</td>\n",
       "      <td>0</td>\n",
       "      <td>0</td>\n",
       "      <td>0</td>\n",
       "      <td>0</td>\n",
       "      <td>0</td>\n",
       "    </tr>\n",
       "    <tr>\n",
       "      <th>2</th>\n",
       "      <td>0</td>\n",
       "      <td>0</td>\n",
       "      <td>0</td>\n",
       "      <td>0</td>\n",
       "      <td>0</td>\n",
       "      <td>0</td>\n",
       "      <td>0</td>\n",
       "      <td>0</td>\n",
       "      <td>0</td>\n",
       "      <td>0</td>\n",
       "      <td>0</td>\n",
       "      <td>0</td>\n",
       "      <td>0</td>\n",
       "    </tr>\n",
       "    <tr>\n",
       "      <th>3</th>\n",
       "      <td>0</td>\n",
       "      <td>0</td>\n",
       "      <td>0</td>\n",
       "      <td>0</td>\n",
       "      <td>0</td>\n",
       "      <td>0</td>\n",
       "      <td>1</td>\n",
       "      <td>0</td>\n",
       "      <td>0</td>\n",
       "      <td>0</td>\n",
       "      <td>0</td>\n",
       "      <td>0</td>\n",
       "      <td>0</td>\n",
       "    </tr>\n",
       "    <tr>\n",
       "      <th>4</th>\n",
       "      <td>0</td>\n",
       "      <td>0</td>\n",
       "      <td>0</td>\n",
       "      <td>0</td>\n",
       "      <td>0</td>\n",
       "      <td>0</td>\n",
       "      <td>0</td>\n",
       "      <td>0</td>\n",
       "      <td>0</td>\n",
       "      <td>0</td>\n",
       "      <td>0</td>\n",
       "      <td>0</td>\n",
       "      <td>0</td>\n",
       "    </tr>\n",
       "  </tbody>\n",
       "</table>\n",
       "</div>"
      ],
      "text/plain": [
       "   LeBron  Steph  Harden  KD  Kyrie  Dame  Luka  Zion  Ja  Giannis  Jokic  \\\n",
       "0       0      0       0   0      0     0     0     0   0        0      0   \n",
       "1       0      0       0   0      0     0     0     0   0        0      0   \n",
       "2       0      0       0   0      0     0     0     0   0        0      0   \n",
       "3       0      0       0   0      0     0     1     0   0        0      0   \n",
       "4       0      0       0   0      0     0     0     0   0        0      0   \n",
       "\n",
       "   Embiid  CP  \n",
       "0       0   0  \n",
       "1       0   0  \n",
       "2       0   0  \n",
       "3       0   0  \n",
       "4       0   0  "
      ]
     },
     "execution_count": 73,
     "metadata": {},
     "output_type": "execute_result"
    }
   ],
   "source": [
    "tweets_player_mentions_df.head()"
   ]
  },
  {
   "cell_type": "code",
   "execution_count": 105,
   "metadata": {
    "ExecuteTime": {
     "end_time": "2021-05-27T14:48:27.815321Z",
     "start_time": "2021-05-27T14:48:27.799615Z"
    }
   },
   "outputs": [
    {
     "data": {
      "text/plain": [
       "LeBron     6654\n",
       "KD         3447\n",
       "Steph      3363\n",
       "Kyrie      1905\n",
       "Harden     1695\n",
       "Giannis    1531\n",
       "Embiid     1116\n",
       "CP          991\n",
       "Zion        926\n",
       "Dame        864\n",
       "Luka        753\n",
       "Jokic       561\n",
       "Ja          252\n",
       "dtype: int64"
      ]
     },
     "execution_count": 105,
     "metadata": {},
     "output_type": "execute_result"
    }
   ],
   "source": [
    "tweets_player_mentions_df.sum().sort_values(ascending=False)"
   ]
  },
  {
   "cell_type": "code",
   "execution_count": 110,
   "metadata": {
    "ExecuteTime": {
     "end_time": "2021-05-27T14:58:25.734555Z",
     "start_time": "2021-05-27T14:58:25.725715Z"
    }
   },
   "outputs": [],
   "source": [
    "twitter_player_names = list(tweets_player_mentions_df.sum().sort_values(ascending=False).index)"
   ]
  },
  {
   "cell_type": "code",
   "execution_count": 114,
   "metadata": {
    "ExecuteTime": {
     "end_time": "2021-05-27T15:02:39.413065Z",
     "start_time": "2021-05-27T15:02:38.667594Z"
    }
   },
   "outputs": [
    {
     "data": {
      "text/plain": [
       "Text(0.5, 1.0, 'Player Mentions in Tweets from Various NBA Media Outlets')"
      ]
     },
     "execution_count": 114,
     "metadata": {},
     "output_type": "execute_result"
    },
    {
     "data": {
      "image/png": "[encoded data removed]",
      "text/plain": [
       "<Figure size 720x576 with 1 Axes>"
      ]
     },
     "metadata": {
      "needs_background": "light"
     },
     "output_type": "display_data"
    }
   ],
   "source": [
    "plt.figure(figsize=(10,8))\n",
    "sns.barplot(x=twitter_player_names, y=tweets_player_mentions_df.sum().sort_values(ascending=False).values)\n",
    "plt.xlabel('Players')\n",
    "plt.ylabel('Mention Count')\n",
    "plt.title('Player Mentions in Tweets from Various NBA Media Outlets')"
   ]
  },
  {
   "cell_type": "code",
   "execution_count": 75,
   "metadata": {
    "ExecuteTime": {
     "end_time": "2021-05-27T14:20:38.267878Z",
     "start_time": "2021-05-27T14:20:38.243978Z"
    }
   },
   "outputs": [
    {
     "data": {
      "text/html": [
       "<div>\n",
       "<style scoped>\n",
       "    .dataframe tbody tr th:only-of-type {\n",
       "        vertical-align: middle;\n",
       "    }\n",
       "\n",
       "    .dataframe tbody tr th {\n",
       "        vertical-align: top;\n",
       "    }\n",
       "\n",
       "    .dataframe thead th {\n",
       "        text-align: right;\n",
       "    }\n",
       "</style>\n",
       "<table border=\"1\" class=\"dataframe\">\n",
       "  <thead>\n",
       "    <tr style=\"text-align: right;\">\n",
       "      <th></th>\n",
       "      <th>ATL</th>\n",
       "      <th>BOS</th>\n",
       "      <th>BKN</th>\n",
       "      <th>CHA</th>\n",
       "      <th>CHI</th>\n",
       "      <th>CLE</th>\n",
       "      <th>DAL</th>\n",
       "      <th>DEN</th>\n",
       "      <th>DET</th>\n",
       "      <th>GSW</th>\n",
       "      <th>...</th>\n",
       "      <th>OKC</th>\n",
       "      <th>ORL</th>\n",
       "      <th>PHI</th>\n",
       "      <th>PHX</th>\n",
       "      <th>POR</th>\n",
       "      <th>SAC</th>\n",
       "      <th>SAT</th>\n",
       "      <th>TOR</th>\n",
       "      <th>UTAH</th>\n",
       "      <th>WAS</th>\n",
       "    </tr>\n",
       "  </thead>\n",
       "  <tbody>\n",
       "    <tr>\n",
       "      <th>0</th>\n",
       "      <td>0</td>\n",
       "      <td>0</td>\n",
       "      <td>0</td>\n",
       "      <td>0</td>\n",
       "      <td>0</td>\n",
       "      <td>0</td>\n",
       "      <td>0</td>\n",
       "      <td>0</td>\n",
       "      <td>0</td>\n",
       "      <td>0</td>\n",
       "      <td>...</td>\n",
       "      <td>0</td>\n",
       "      <td>0</td>\n",
       "      <td>0</td>\n",
       "      <td>0</td>\n",
       "      <td>0</td>\n",
       "      <td>0</td>\n",
       "      <td>0</td>\n",
       "      <td>0</td>\n",
       "      <td>0</td>\n",
       "      <td>0</td>\n",
       "    </tr>\n",
       "    <tr>\n",
       "      <th>1</th>\n",
       "      <td>0</td>\n",
       "      <td>0</td>\n",
       "      <td>0</td>\n",
       "      <td>0</td>\n",
       "      <td>0</td>\n",
       "      <td>0</td>\n",
       "      <td>0</td>\n",
       "      <td>0</td>\n",
       "      <td>0</td>\n",
       "      <td>0</td>\n",
       "      <td>...</td>\n",
       "      <td>0</td>\n",
       "      <td>0</td>\n",
       "      <td>0</td>\n",
       "      <td>0</td>\n",
       "      <td>0</td>\n",
       "      <td>0</td>\n",
       "      <td>0</td>\n",
       "      <td>0</td>\n",
       "      <td>0</td>\n",
       "      <td>0</td>\n",
       "    </tr>\n",
       "    <tr>\n",
       "      <th>2</th>\n",
       "      <td>0</td>\n",
       "      <td>0</td>\n",
       "      <td>0</td>\n",
       "      <td>0</td>\n",
       "      <td>0</td>\n",
       "      <td>0</td>\n",
       "      <td>0</td>\n",
       "      <td>0</td>\n",
       "      <td>0</td>\n",
       "      <td>0</td>\n",
       "      <td>...</td>\n",
       "      <td>0</td>\n",
       "      <td>0</td>\n",
       "      <td>0</td>\n",
       "      <td>0</td>\n",
       "      <td>0</td>\n",
       "      <td>0</td>\n",
       "      <td>0</td>\n",
       "      <td>0</td>\n",
       "      <td>0</td>\n",
       "      <td>0</td>\n",
       "    </tr>\n",
       "    <tr>\n",
       "      <th>3</th>\n",
       "      <td>0</td>\n",
       "      <td>1</td>\n",
       "      <td>0</td>\n",
       "      <td>0</td>\n",
       "      <td>0</td>\n",
       "      <td>0</td>\n",
       "      <td>0</td>\n",
       "      <td>0</td>\n",
       "      <td>0</td>\n",
       "      <td>0</td>\n",
       "      <td>...</td>\n",
       "      <td>0</td>\n",
       "      <td>0</td>\n",
       "      <td>0</td>\n",
       "      <td>0</td>\n",
       "      <td>0</td>\n",
       "      <td>0</td>\n",
       "      <td>0</td>\n",
       "      <td>0</td>\n",
       "      <td>0</td>\n",
       "      <td>0</td>\n",
       "    </tr>\n",
       "    <tr>\n",
       "      <th>4</th>\n",
       "      <td>0</td>\n",
       "      <td>0</td>\n",
       "      <td>0</td>\n",
       "      <td>0</td>\n",
       "      <td>0</td>\n",
       "      <td>0</td>\n",
       "      <td>0</td>\n",
       "      <td>0</td>\n",
       "      <td>0</td>\n",
       "      <td>0</td>\n",
       "      <td>...</td>\n",
       "      <td>0</td>\n",
       "      <td>0</td>\n",
       "      <td>0</td>\n",
       "      <td>0</td>\n",
       "      <td>0</td>\n",
       "      <td>0</td>\n",
       "      <td>0</td>\n",
       "      <td>0</td>\n",
       "      <td>1</td>\n",
       "      <td>0</td>\n",
       "    </tr>\n",
       "  </tbody>\n",
       "</table>\n",
       "<p>5 rows × 30 columns</p>\n",
       "</div>"
      ],
      "text/plain": [
       "   ATL  BOS  BKN  CHA  CHI  CLE  DAL  DEN  DET  GSW  ...  OKC  ORL  PHI  PHX  \\\n",
       "0    0    0    0    0    0    0    0    0    0    0  ...    0    0    0    0   \n",
       "1    0    0    0    0    0    0    0    0    0    0  ...    0    0    0    0   \n",
       "2    0    0    0    0    0    0    0    0    0    0  ...    0    0    0    0   \n",
       "3    0    1    0    0    0    0    0    0    0    0  ...    0    0    0    0   \n",
       "4    0    0    0    0    0    0    0    0    0    0  ...    0    0    0    0   \n",
       "\n",
       "   POR  SAC  SAT  TOR  UTAH  WAS  \n",
       "0    0    0    0    0     0    0  \n",
       "1    0    0    0    0     0    0  \n",
       "2    0    0    0    0     0    0  \n",
       "3    0    0    0    0     0    0  \n",
       "4    0    0    0    0     1    0  \n",
       "\n",
       "[5 rows x 30 columns]"
      ]
     },
     "execution_count": 75,
     "metadata": {},
     "output_type": "execute_result"
    }
   ],
   "source": [
    "tweets_team_mentions_df.head()"
   ]
  },
  {
   "cell_type": "code",
   "execution_count": 76,
   "metadata": {
    "ExecuteTime": {
     "end_time": "2021-05-27T14:20:39.530364Z",
     "start_time": "2021-05-27T14:20:39.507186Z"
    }
   },
   "outputs": [
    {
     "data": {
      "text/plain": [
       "ATL     1106\n",
       "BOS     2787\n",
       "BKN     1402\n",
       "CHA      712\n",
       "CHI     1421\n",
       "CLE     3871\n",
       "DAL     1117\n",
       "DEN      915\n",
       "DET      745\n",
       "GSW     5922\n",
       "HOU     2471\n",
       "IND      920\n",
       "LAC     1786\n",
       "LAL     3954\n",
       "MEM      804\n",
       "MIA     1677\n",
       "MIL     1441\n",
       "MIN     1222\n",
       "NOP     1200\n",
       "NYK     2186\n",
       "OKC     1990\n",
       "ORL     1172\n",
       "PHI     2313\n",
       "PHX     1043\n",
       "POR     1128\n",
       "SAC     1075\n",
       "SAT     1678\n",
       "TOR     2237\n",
       "UTAH    1023\n",
       "WAS     1296\n",
       "dtype: int64"
      ]
     },
     "execution_count": 76,
     "metadata": {},
     "output_type": "execute_result"
    }
   ],
   "source": [
    "tweets_team_mentions_df.sum()"
   ]
  },
  {
   "cell_type": "code",
   "execution_count": 115,
   "metadata": {
    "ExecuteTime": {
     "end_time": "2021-05-27T15:22:02.076698Z",
     "start_time": "2021-05-27T15:22:02.028073Z"
    }
   },
   "outputs": [],
   "source": [
    "twitter_team_names = list(tweets_team_mentions_df.sum().sort_values(ascending=False).index)"
   ]
  },
  {
   "cell_type": "code",
   "execution_count": 116,
   "metadata": {
    "ExecuteTime": {
     "end_time": "2021-05-27T15:22:56.407272Z",
     "start_time": "2021-05-27T15:22:56.014499Z"
    }
   },
   "outputs": [
    {
     "data": {
      "text/plain": [
       "Text(0.5, 1.0, 'Most Mentioned Teams in Tweets from Various NBA Media Outlets')"
      ]
     },
     "execution_count": 116,
     "metadata": {},
     "output_type": "execute_result"
    },
    {
     "data": {
      "image/png": "[encoded data removed]",
      "text/plain": [
       "<Figure size 1080x720 with 1 Axes>"
      ]
     },
     "metadata": {
      "needs_background": "light"
     },
     "output_type": "display_data"
    }
   ],
   "source": [
    "plt.figure(figsize=(15,10))\n",
    "sns.barplot(x=twitter_team_names, y=tweets_team_mentions_df.sum().sort_values(ascending=False).values)\n",
    "plt.xlabel('Team')\n",
    "plt.ylabel('Mention Count')\n",
    "plt.title('Most Mentioned Teams in Tweets from Various NBA Media Outlets')"
   ]
  },
  {
   "cell_type": "code",
   "execution_count": 77,
   "metadata": {
    "ExecuteTime": {
     "end_time": "2021-05-27T14:20:49.368657Z",
     "start_time": "2021-05-27T14:20:49.122063Z"
    }
   },
   "outputs": [
    {
     "name": "stderr",
     "output_type": "stream",
     "text": [
      "[nltk_data] Downloading package vader_lexicon to\n",
      "[nltk_data]     /Users/jeremylee/nltk_data...\n",
      "[nltk_data]   Package vader_lexicon is already up-to-date!\n"
     ]
    }
   ],
   "source": [
    "#nltk.download('vader_lexicon')\n",
    "from nltk.sentiment.vader import SentimentIntensityAnalyzer "
   ]
  },
  {
   "cell_type": "code",
   "execution_count": 78,
   "metadata": {
    "ExecuteTime": {
     "end_time": "2021-05-27T14:20:58.771711Z",
     "start_time": "2021-05-27T14:20:58.759837Z"
    }
   },
   "outputs": [
    {
     "data": {
      "text/plain": [
       "'Rockets look for repeat against Mavericks'"
      ]
     },
     "execution_count": 78,
     "metadata": {},
     "output_type": "execute_result"
    }
   ],
   "source": [
    "headline_df.loc[3456, 'headlines']"
   ]
  },
  {
   "cell_type": "code",
   "execution_count": 79,
   "metadata": {
    "ExecuteTime": {
     "end_time": "2021-05-27T14:21:00.495163Z",
     "start_time": "2021-05-27T14:21:00.465809Z"
    }
   },
   "outputs": [
    {
     "data": {
      "text/plain": [
       "{'neg': 0.0, 'neu': 1.0, 'pos': 0.0, 'compound': 0.0}"
      ]
     },
     "execution_count": 79,
     "metadata": {},
     "output_type": "execute_result"
    }
   ],
   "source": [
    "#NLTK sentiment\n",
    "sia = SentimentIntensityAnalyzer()\n",
    "test_string_headline = headline_df.loc[3456, 'headlines']\n",
    "sia.polarity_scores(test_string_headline)\n",
    "\n"
   ]
  },
  {
   "cell_type": "code",
   "execution_count": 80,
   "metadata": {
    "ExecuteTime": {
     "end_time": "2021-05-27T14:21:01.287351Z",
     "start_time": "2021-05-27T14:21:01.277322Z"
    }
   },
   "outputs": [
    {
     "data": {
      "text/plain": [
       "Sentiment(polarity=0.0, subjectivity=0.0)"
      ]
     },
     "execution_count": 80,
     "metadata": {},
     "output_type": "execute_result"
    }
   ],
   "source": [
    "#TextBlob Sentiment\n",
    "TextBlob(test_string_headline).sentiment"
   ]
  },
  {
   "cell_type": "code",
   "execution_count": null,
   "metadata": {},
   "outputs": [],
   "source": [
    "def calc_nltk_sentiment\n",
    "\n",
    "\n"
   ]
  },
  {
   "cell_type": "code",
   "execution_count": null,
   "metadata": {},
   "outputs": [],
   "source": [
    "def cacl_textblob_sentiment"
   ]
  }
 ],
 "metadata": {
  "kernelspec": {
   "display_name": "Python 3",
   "language": "python",
   "name": "python3"
  },
  "language_info": {
   "codemirror_mode": {
    "name": "ipython",
    "version": 3
   },
   "file_extension": ".py",
   "mimetype": "text/x-python",
   "name": "python",
   "nbconvert_exporter": "python",
   "pygments_lexer": "ipython3",
   "version": "3.7.6"
  },
  "toc": {
   "base_numbering": 1,
   "nav_menu": {},
   "number_sections": true,
   "sideBar": true,
   "skip_h1_title": false,
   "title_cell": "Table of Contents",
   "title_sidebar": "Contents",
   "toc_cell": false,
   "toc_position": {},
   "toc_section_display": true,
   "toc_window_display": false
  }
 },
 "nbformat": 4,
 "nbformat_minor": 4
}
