{
 "cells": [
  {
   "cell_type": "code",
   "execution_count": 2,
   "metadata": {
    "ExecuteTime": {
     "end_time": "2021-03-15T21:19:27.337839Z",
     "start_time": "2021-03-15T21:19:23.707471Z"
    }
   },
   "outputs": [],
   "source": [
    "import numpy as np\n",
    "import pandas as pd\n",
    "import matplotlib.pyplot as plt\n",
    "import re\n",
    "import string\n",
    "import nltk\n",
    "from nltk.stem import WordNetLemmatizer\n",
    "from sklearn.cluster import KMeans\n",
    "from sklearn.metrics import calinski_harabasz_score\n",
    "from wordcloud import WordCloud, STOPWORDS, ImageColorGenerator\n",
    "from PIL import Image\n",
    "import twint\n",
    "import nest_asyncio\n",
    "\n",
    "\n",
    "%matplotlib inline"
   ]
  },
  {
   "cell_type": "code",
   "execution_count": 3,
   "metadata": {
    "ExecuteTime": {
     "end_time": "2021-03-15T21:19:28.362558Z",
     "start_time": "2021-03-15T21:19:28.348888Z"
    }
   },
   "outputs": [],
   "source": [
    "nest_asyncio.apply()"
   ]
  },
  {
   "cell_type": "code",
   "execution_count": 9,
   "metadata": {
    "ExecuteTime": {
     "end_time": "2021-03-15T21:53:42.981219Z",
     "start_time": "2021-03-15T21:53:39.570207Z"
    }
   },
   "outputs": [
    {
     "name": "stdout",
     "output_type": "stream",
     "text": [
      "1371523338527444993 2021-03-15 14:07:00 -0400 <YahooSportsNBA> The @WNBA unveiled a new logo to celebrate its 25th anniversary 👀 #CountIt   https://t.co/vJwBnTPf7F\n",
      "1371516350213029896 2021-03-15 13:39:14 -0400 <YahooSportsNBA> 🔘 JaVale McGee getting interest from the Nets 🔘 What's going on with DeMar DeRozan? 🔘 Nurk returning soon?   More notes from @ChrisBHaynes in Hoopla with Haynes ➡️  https://t.co/WyjsDGXVcE  https://t.co/r5yXvEatqR\n",
      "1371286088405385216 2021-03-14 22:24:15 -0400 <YahooSportsNBA> ANOTHER DAY, ANOTHER ANTHONY EDWARDS JAM 💥   https://t.co/w96pJBWhUT\n",
      "1371278872881336320 2021-03-14 21:55:35 -0400 <YahooSportsNBA> Jayson Tatum made this look too easy 👀   https://t.co/MyxA5l6b77\n",
      "1371263992836943874 2021-03-14 20:56:27 -0400 <YahooSportsNBA> Jaylen faked 'em out 😂   https://t.co/MNMHPc0qFA\n",
      "1371254793176375302 2021-03-14 20:19:54 -0400 <YahooSportsNBA> Ben Simmons with authority 🔨  (via @sixers)   https://t.co/CMlevDT3dv\n",
      "1371242774528466945 2021-03-14 19:32:08 -0400 <YahooSportsNBA> Jimmy B beat 7’0\" Nikola Vucevic on the jump ball 🤣   https://t.co/9B8aIe8aLq\n",
      "1371198706150731781 2021-03-14 16:37:01 -0400 <YahooSportsNBA> Shai Gilgeous-Alexander dropped 30 in a W.   Averaging almost 24-5-6 for the season 😤   https://t.co/mTk3oHd0rm\n",
      "1371184564698288128 2021-03-14 15:40:50 -0400 <YahooSportsNBA> Ja doin' Ja things 😳   https://t.co/nhylN5BM9L\n",
      "1371179692087255046 2021-03-14 15:21:28 -0400 <YahooSportsNBA> The New Orleans Pelicans announced that \"multiple\" players and staff members have received the COVID-19 vaccine due to the expansion of Louisiana's vaccine guidelines.   ➡️  https://t.co/xGTJxK9tMV  https://t.co/zuo048MEfD\n",
      "1371111798066282503 2021-03-14 10:51:41 -0400 <YahooSportsNBA> Waking up after losing an hour of sleep  https://t.co/yli6S0wzUr\n",
      "1370968654435606529 2021-03-14 00:22:53 -0400 <YahooSportsNBA> Porzingis range 🎯  (via @dallasmavs)   https://t.co/Wx2JLKuJRL\n",
      "1370946922698043392 2021-03-13 22:56:31 -0400 <YahooSportsNBA> Caris LeVert has his first bucket as a Pacer 👏  (via @Pacers)   https://t.co/SSym02gPmR\n",
      "1370918260187623430 2021-03-13 21:02:38 -0400 <YahooSportsNBA> Russ with authority 🔨   https://t.co/u5qsmnaAQ8\n",
      "1370900089963573248 2021-03-13 19:50:26 -0400 <YahooSportsNBA> Kyrie going to work 👏   https://t.co/QeujbdRxPy\n",
      "1370845190504742915 2021-03-13 16:12:17 -0400 <YahooSportsNBA> After a small cancerous mass was discovered on Caris LeVert's left kidney in mid-January, he underwent surgery and has since been given a clean bill of health.  Tonight @CarisLeVert will make his Indiana Pacers debut! 👏  https://t.co/eyJghVoa0L\n",
      "1370803454684372995 2021-03-13 13:26:26 -0400 <YahooSportsNBA> .@KingJames wants to make sure people remember Breonna Taylor a year after her death.  James and his organization — More Than A Vote — both sent out tweets about Taylor.\n",
      "1370786340313444352 2021-03-13 12:18:26 -0400 <YahooSportsNBA> Isaiah Livers, one of Michigan's top players, has been ruled out indefinitely with a foot injury.   ➡️  https://t.co/V5R3kDmhbv  https://t.co/1s6M1MhpfG\n",
      "1370595912305700866 2021-03-12 23:41:44 -0400 <YahooSportsNBA> Rudy says 🚫   https://t.co/8RUHGTpnHx\n",
      "1370556393124552706 2021-03-12 21:04:42 -0400 <YahooSportsNBA> Ja with the all-out effort 👀   https://t.co/pecwt0uipB\n",
      "1370546561634070528 2021-03-12 20:25:38 -0400 <YahooSportsNBA> Welcome back, K. Love 🙌  (via @cavs)   https://t.co/BGncE0JJUq\n",
      "1370544347842629632 2021-03-12 20:16:50 -0400 <YahooSportsNBA> The Thunder are dealing Hamidou Diallo to the Pistons for Svi Mykhailiuk and a 2027 second-round pick, per @wojespn.  https://t.co/jPq37ofjQt\n",
      "1370539643641339906 2021-03-12 19:58:09 -0400 <YahooSportsNBA> Kevin Love is set to take the court for the Cavs for the first time since December 👏   (via @cavs)   https://t.co/6BkpVWFOEw\n",
      "1370442742250106883 2021-03-12 13:33:06 -0400 <YahooSportsNBA> “I had the coldest shoes in the ER that night.” 💀  @LaJethroJenkins breaks down the top 5 shoes he’s ever hooped in.  https://t.co/vUib1jKwC6\n",
      "1370220756521480195 2021-03-11 22:51:00 -0400 <YahooSportsNBA> Oh my, Shai 👀   https://t.co/tKmVEYWfzk\n",
      "1370197929797971970 2021-03-11 21:20:18 -0400 <YahooSportsNBA> Rozier's dagger had MJ happy 👏👏   https://t.co/53xUWxK5WL\n",
      "1370177202797486084 2021-03-11 19:57:56 -0400 <YahooSportsNBA> Harden right past Tatum ✌️   https://t.co/L8R5FqNfsB\n",
      "1370115432812793862 2021-03-11 15:52:29 -0400 <YahooSportsNBA> “I thought this was my building!”  Knicks legend Patrick Ewing keeps getting stopped at Madison Square Garden during the Big East tournament.  ➡️  https://t.co/burvNIYPg8  https://t.co/tZPf5taUL7\n",
      "1370034760156844036 2021-03-11 10:31:55 -0400 <YahooSportsNBA> On this day last year, the NBA shut down due to COVID-19.   @LaJethroJenkins, @SeeratSohi, @VinceGoodwill and @ChrisBHaynes talk about where they were on March 11, how the league pulled off the Bubble and where the NBA goes from here.  https://t.co/McajGthhFq\n",
      "1369850338782674950 2021-03-10 22:19:06 -0400 <YahooSportsNBA> Brandon Clarke INCOMING 💥   https://t.co/BpPUqdzDgA\n",
      "1369750759940775936 2021-03-10 15:43:24 -0400 <YahooSportsNBA> Which NBA team has the best \"Earned\" jerseys?  (via @NickDePaula)  https://t.co/V15xDUoYea\n",
      "1369734704761540616 2021-03-10 14:39:36 -0400 <YahooSportsNBA> Marcus Smart said he expects to return to the Celtics' lineup on Thursday against the Nets.   He has been out since Jan. 30 with a calf injury.  https://t.co/sgmp8hZCNF\n",
      "1369703324447084544 2021-03-10 12:34:55 -0400 <YahooSportsNBA> On this day 17 years ago, T-Mac went off for 62 in Orlando 🔥  (via @NBATV)  https://t.co/v22rUEFZIT\n",
      "1369656198732144640 2021-03-10 09:27:39 -0400 <YahooSportsNBA> On this day eight years ago, DeAndre Jordan did this to Brandon Knight and gave us an iconic reaction 😤  (via @NBATV)  https://t.co/Ht2wg7Qmow\n",
      "1369438524282404874 2021-03-09 19:02:41 -0400 <YahooSportsNBA> @buzzliteyear11 We got you covered! We'll have some more coming!\n",
      "1369437044288729090 2021-03-09 18:56:48 -0400 <YahooSportsNBA> 🏀🌎 WORLD'S GREATEST BASKETBALL COURTS 🌎 🏀  👑 King's Landing Court 📍 Dubrovnick, Croatia  Wouldn't mind playing here! What are some other amazing courts from around the world?  https://t.co/xdq8ESZsUS\n",
      "1369379300202385413 2021-03-09 15:07:21 -0400 <YahooSportsNBA> KG. Dirk.   Who ya got?  https://t.co/THfST14zSg\n",
      "1369315802218983426 2021-03-09 10:55:02 -0400 <YahooSportsNBA> Paige Bueckers won Big East Freshman of the Year, Conference Player of the Year and Big East Tournament Most Outstanding Player in the same season.   Walking bucket 🔥  (via @CBBonFOX)  https://t.co/ZfQNbRur8S\n",
      "1369289174470299653 2021-03-09 09:09:14 -0400 <YahooSportsNBA> On this day 12 years ago, Dwyane Wade hit an iconic game-winner.   Peak Flash was different ⚡️  (via @NBATV)  https://t.co/iVZhSyAuBF\n",
      "1368966801317654530 2021-03-08 11:48:14 -0400 <YahooSportsNBA> @iLLiPin0  https://t.co/ueV0Z9gpbW\n",
      "1368966661030752259 2021-03-08 11:47:40 -0400 <YahooSportsNBA> @TidalLeague  https://t.co/Fu3YswAyRA\n",
      "1368966460492615686 2021-03-08 11:46:53 -0400 <YahooSportsNBA> @SSBurnerAct  https://t.co/Y1M9Wn4xnx\n",
      "1368965947931901960 2021-03-08 11:44:50 -0400 <YahooSportsNBA> What's your wildest prediction for the second half of the NBA season?\n",
      "1368754749282123776 2021-03-07 21:45:37 -0400 <YahooSportsNBA> What are y'all scoring this Cassius Stanley dunk?  (via @NBAonTNT)  https://t.co/Hh8vxx2etg\n",
      "1368751767794647045 2021-03-07 21:33:46 -0400 <YahooSportsNBA> Steph is having SO much fun 😂   https://t.co/CMJbMwXrfQ\n",
      "1368751482942717956 2021-03-07 21:32:38 -0400 <YahooSportsNBA> STEPH LOBBED IT TO CP3 🤣   https://t.co/uxCl9vzE37\n",
      "1368729847376322563 2021-03-07 20:06:40 -0400 <YahooSportsNBA> \"This one goes out to Klay Thompson.\"  Splash Bros 💛  (via @warriors)  https://t.co/uV1Mr8dI9t\n",
      "1368723432658132992 2021-03-07 19:41:10 -0400 <YahooSportsNBA> 31 IN THE FIRST ROUND OF THE 3-PT CONTEST!  Steph's not even fair 🤣  https://t.co/2y1unEs04h\n",
      "1368718499405791232 2021-03-07 19:21:34 -0400 <YahooSportsNBA> Who's taking the #NBAAllStar 3-Point Contest?  Jaylen Brown Jayson Tatum Zach LaVine Mike Conley Donovan Mitchell Steph Curry\n",
      "1368716492724899841 2021-03-07 19:13:36 -0400 <YahooSportsNBA> Domantas Sabonis wins the #NBAllStar Skills Challenge! 🏆  https://t.co/EDiS5g49JU\n",
      "1368684872789860361 2021-03-07 17:07:57 -0400 <YahooSportsNBA> REUNITED  https://t.co/EgEASgqZrZ\n",
      "1368682246698319884 2021-03-07 16:57:31 -0400 <YahooSportsNBA> What do y'all think of these custom Jordan 3s inspired by the 1996 NBA All-Star game in San Antonio? 👀  (via @spurs)  https://t.co/y2TqjxWl7G\n",
      "1368646403715706882 2021-03-07 14:35:05 -0400 <YahooSportsNBA> \"Dad and I are so proud of all your accomplishments and so happy for you.\"  Zach LaVine's mom wrote him a letter ahead of his first #NBAAllStar Game ❤️  (via @chicagobulls)    https://t.co/v2AMW3xQ97\n",
      "1368626702293884929 2021-03-07 13:16:48 -0400 <YahooSportsNBA> Luka 🤝 Dirk  Respect 😤  https://t.co/8T2SyqljJu\n",
      "1368616172652990467 2021-03-07 12:34:57 -0400 <YahooSportsNBA> Zion Williamson will replace Joel Embiid in the Team Durant starting lineup, per @wojespn.  https://t.co/oYWcthOQBZ\n",
      "1368573836002738180 2021-03-07 09:46:44 -0400 <YahooSportsNBA> On this day four years ago, Dirk Nowitzki became the sixth player to ever score 30,000 career points 🔥  (via @dallasmavs)  https://t.co/i6OwrRCOJJ\n",
      "1368340035670401024 2021-03-06 18:17:41 -0400 <YahooSportsNBA> NBA sends out roughly 200 cease-and-desist orders to unsanctioned All-Star parties in Atlanta.  ➡️  https://t.co/C79DpZK8SJ  https://t.co/Lqoc65yZ1s\n",
      "1368307377804619776 2021-03-06 16:07:55 -0400 <YahooSportsNBA> .@JoelEmbiid says he will donate $100,000 from All-Star week to three homeless shelters in Philadelphia. 👏  Players from the winning All-Star team each receive a $100,000 bonus. But even if he loses, he's still committed to the donation.  ➡️  https://t.co/Cur8Y5KA0p  https://t.co/vCeG5AUgpv\n",
      "1368222802445221891 2021-03-06 10:31:51 -0400 <YahooSportsNBA> Happy 49th Birthday @SHAQ! 🎂   ⭐️15x All-Star  🏆4x NBA Champion  🥇3x Finals MVP  https://t.co/DMxehqO5u2\n",
      "1367899585872596993 2021-03-05 13:07:30 -0400 <YahooSportsNBA> \"We will never leave the Knicks!\"  @desusnice  and @THEKIDMERO  joined @LaJethroJenkins  and @seeratsohi  to discuss NBA All-Star festivities, the Knicks, and how to be a fan on Dunk Bait 👀  Full interview ➡️  https://t.co/Sa1mC9B5Yg  https://t.co/8ucAWq4KPx\n",
      "1367879233293451280 2021-03-05 11:46:37 -0400 <YahooSportsNBA> \"Right now, this is Embiid’s award to lose.\" 👀   Yahoo Sports' NBA Insider @ChrisBHaynes breaks down the latest movements in the NBA MVP race. ⤵️\n",
      "1367687608998846466 2021-03-04 23:05:11 -0400 <YahooSportsNBA> JIMMY BUCKETS 🔥  (via @MiamiHEAT)   https://t.co/9iMh3cbH9C\n",
      "1367681259996991488 2021-03-04 22:39:57 -0400 <YahooSportsNBA> Josh Hart with the half-court heave 🚨  (via @PelicansNBA)   https://t.co/2uCxsIalAw\n",
      "1367660758767525890 2021-03-04 21:18:29 -0400 <YahooSportsNBA> Tatum too smooth 🔥   https://t.co/wPT9mKtUxu\n",
      "1367569478943465476 2021-03-04 15:15:46 -0400 <YahooSportsNBA> The 2021 #NBAAllStar court will be HBCU themed 🔥  Players will also wear Beats custom headphones designed by Elijah Rutland — a student at Florida A&amp;M and participant in the \"Beats Black Creator\" program.  https://t.co/cPukNn0FU5\n",
      "1367553523248996352 2021-03-04 14:12:22 -0400 <YahooSportsNBA> Welcome to Atomic Wonder, where we break down one tiny thing with big ripple effects!   This week, @SeeratSohi's talking about the slip 👀  ➡️  https://t.co/D2O49wTMBy  https://t.co/2FDRkQr5fk\n",
      "1367523721213272064 2021-03-04 12:13:57 -0400 <YahooSportsNBA> Caris LeVert is reportedly nearing a \"miraculous\" return after undergoing kidney cancer surgery 👏🙏  ➡️  https://t.co/5UqcIcbPFv  https://t.co/nrfOdHBeTc\n",
      "1367503217874075649 2021-03-04 10:52:28 -0400 <YahooSportsNBA> \"The way that he plays is the exact way that LaVar Ball talks.\"  @LaJethroJenkins and @VinceGoodwill talk the growing legend of LaMelo Ball and comps to Penny Hardaway 👀  Full Dunkbait ⤵️\n",
      "1367329835370999808 2021-03-03 23:23:31 -0400 <YahooSportsNBA> Trezz spin and slam 🙌  (via @Lakers)   https://t.co/SYvKUWv0rc\n",
      "1367315036809531392 2021-03-03 22:24:42 -0400 <YahooSportsNBA> Steph just going to work 🎯  (via @warriors)   https://t.co/NW1f2wwKif\n",
      "1367300968233197569 2021-03-03 21:28:48 -0400 <YahooSportsNBA> First points/assists/steals triple-double since 1998 🤯\n",
      "1367296768124231685 2021-03-03 21:12:07 -0400 <YahooSportsNBA> Dwight doing it all 👏   https://t.co/WZ68Kfh2SA\n",
      "1367292714388131841 2021-03-03 20:56:00 -0400 <YahooSportsNBA> Just how Spida drew it up 😂   https://t.co/j8x8kO057Y\n",
      "1367291074562187272 2021-03-03 20:49:29 -0400 <YahooSportsNBA> Kyrie's handles are insane 👀   https://t.co/Li2BgpzKuX\n",
      "1367225265697546241 2021-03-03 16:27:59 -0400 <YahooSportsNBA> Even the Warriors' trainer is getting in on the logo buckets 👀  (via @warriors)  https://t.co/djhC9fLuD2\n",
      "1367193349820661761 2021-03-03 14:21:10 -0400 <YahooSportsNBA> The full Rising Stars rosters.   Who ya got: Team USA or Team World? 👀  https://t.co/AqiZcJtpZX\n",
      "1367144329148583938 2021-03-03 11:06:23 -0400 <YahooSportsNBA> On this day seven years ago, LeBron put on the mask and dropped 61 👑  🔘 61 points 🔘 22-33 from the field 🔘 8-10 from three 🔘 9-12 from the free-throw line 🔘 7 rebounds 🔘 5 assists  (via @NBATV)  https://t.co/FyisMlIo2L\n",
      "1366983744121425921 2021-03-03 00:28:16 -0400 <YahooSportsNBA> 37 PTS 11 AST  10 REB  Nikola Jokić recorded his 50th career triple-double tonight, joining Wilt Chamberlain as the only centers to do so.  ➡️  https://t.co/sZCaAQM8oF  https://t.co/gOzme2CIPj\n",
      "1366956419023527944 2021-03-02 22:39:41 -0400 <YahooSportsNBA> Bron snatched it right outta Ayton's hands 😤   https://t.co/H2KFQ5zYyU\n",
      "1366848402223472641 2021-03-02 15:30:28 -0400 <YahooSportsNBA> Update: Zion Williamson will not participate in the Dunk Contest, sources tell @ChrisBHaynes.\n",
      "1366589703777001474 2021-03-01 22:22:30 -0400 <YahooSportsNBA> JOKER SLAM 💥   https://t.co/diI47OsywU\n",
      "1366260324878278658 2021-03-01 00:33:39 -0400 <YahooSportsNBA> Throw it DOWN Harrison Barnes 🔨   https://t.co/NowxvjNAPL\n",
      "1366121055757205506 2021-02-28 15:20:15 -0400 <YahooSportsNBA> Happy birthday to one of the brightest young superstars in the league... Alex Caruso 🐐   https://t.co/4EP1XdtxIU\n",
      "1366073258454491141 2021-02-28 12:10:19 -0400 <YahooSportsNBA> You had to be there    https://t.co/ZU1K7GsCDp\n",
      "1366062804726333445 2021-02-28 11:28:47 -0400 <YahooSportsNBA> Happy 22nd birthday to Luka Doncic ⭐️  He and Dirk at the 2019 All-Star Weekend was comedy 🤣   https://t.co/pmNx16xJzK\n",
      "1366038679224004613 2021-02-28 09:52:55 -0400 <YahooSportsNBA> Knicks fans waking up today  https://t.co/EGCILtIcLq\n",
      "1365861842539569152 2021-02-27 22:10:14 -0400 <YahooSportsNBA> Edmond Sumner got up 😬   https://t.co/upIXr5vsIE\n",
      "1365854158872485888 2021-02-27 21:39:42 -0400 <YahooSportsNBA> Luka too smooth 🔥   https://t.co/yUMakDI5O7\n",
      "1365844482193694722 2021-02-27 21:01:15 -0400 <YahooSportsNBA> Bogdanovic with the nutmeg dime 🙌   https://t.co/N6vuuJAWkP\n",
      "1365825054747942912 2021-02-27 19:44:03 -0400 <YahooSportsNBA> Davis Bertans knows to follow the ball 👀   https://t.co/OGwu1EoQeD\n",
      "1365517876476579841 2021-02-26 23:23:26 -0400 <YahooSportsNBA> CARUSO JAM 😤  (via @Lakers)   https://t.co/WpNaA3AxYs\n",
      "1365505115939999745 2021-02-26 22:32:44 -0400 <YahooSportsNBA> Steph with the no-look dime 🔥  (via @warriors)   https://t.co/piGmU9qGiL\n",
      "1365486194230923264 2021-02-26 21:17:32 -0400 <YahooSportsNBA> Dennis Smith Jr. with AUTHORITY 🔨   https://t.co/4nouAAiGor\n",
      "1365477572243431426 2021-02-26 20:43:17 -0400 <YahooSportsNBA> Tatum dishing 👏   https://t.co/KcZGXSR8uT\n",
      "1365475871448915969 2021-02-26 20:36:31 -0400 <YahooSportsNBA> Kawhi. Leonard. 😤  (via @LAClippers)   https://t.co/WF5RRmuoH2\n",
      "1365354807087759365 2021-02-26 12:35:27 -0400 <YahooSportsNBA> Obi Toppin is expected to participate in the NBA Slam Dunk Contest, per @ShamsCharania. 👀  https://t.co/ZP4hey7O2D\n",
      "1365151677129445381 2021-02-25 23:08:17 -0400 <YahooSportsNBA> MPJ SLAM 💥   https://t.co/bp6XsbTzUT\n",
      "1365071282971185153 2021-02-25 17:48:50 -0400 <YahooSportsNBA> Timberwolves G Malik Beasley has been suspended for 12 games due to conduct stemming from charges in the offseason, per @ShamsCharania.  https://t.co/kKV3xC1kpA\n",
      "1365008748712968193 2021-02-25 13:40:20 -0400 <YahooSportsNBA> Luka's game-winner against the Celtics vs. Luka's game-winner against the Clippers.   Unreal 🤯   https://t.co/ai9PEhLUtH\n",
      "1365001323792375812 2021-02-25 13:10:50 -0400 <YahooSportsNBA> It's time to stop underrating the Utah Jazz 👀  From @KrystenPeek ⤵️\n"
     ]
    },
    {
     "name": "stdout",
     "output_type": "stream",
     "text": [
      "1364892898911686658 2021-02-25 06:00:00 -0400 <YahooSportsNBA> \"KD is the best player in the world right now.\"  @LaJethroJenkins and Seerat Sohi break down the red-hot Nets and which teams could potentially matchup best with them.\n",
      "1364799134708867073 2021-02-24 23:47:25 -0400 <YahooSportsNBA> Spida too tough 😬  (via @utahjazz)   https://t.co/XNpGEU0ies\n",
      "1364759455544406021 2021-02-24 21:09:44 -0400 <YahooSportsNBA> Myles says 🚫   https://t.co/6VciNRYd03\n",
      "1364748956891234304 2021-02-24 20:28:01 -0400 <YahooSportsNBA> Anthony Edwards is sooo mean to the rims 😳   https://t.co/74enz4puOw\n",
      "1364748302957219843 2021-02-24 20:25:25 -0400 <YahooSportsNBA> Gallo showing off the range 🎯   https://t.co/vPUvwO4Xtn\n",
      "1364687975511183363 2021-02-24 16:25:42 -0400 <YahooSportsNBA> Fans logging on when they think their team got disrespected on national TV games...  https://t.co/9UwQjJ8A5Q\n",
      "1364675723395403777 2021-02-24 15:37:01 -0400 <YahooSportsNBA> The NBA released the second half of the 2021 schedule.   Some key matchups:  🔘 Suns @ Blazers (March 11) 🔘 Lakers @ Clippers (April 4) 🔘 76ers @ Celtics (April 6) 🔘 Lakers @ Nets (April 10) 🔘 Mavs @ Warriors (April 27) 🔘 Nets @ Bucks (May 4)  ➡️  https://t.co/ZMtgdsXaSN  https://t.co/MR13atVtU8\n",
      "1364630379194327041 2021-02-24 12:36:50 -0400 <YahooSportsNBA> \"We're past that as a society.\"  Cavaliers forward Larry Nance Jr. supports Ohio's LGBTQ discrimination protection bill.  ➡️  https://t.co/HVUuJS67wH  https://t.co/s8t4XnS2bQ\n",
      "1364611462228942849 2021-02-24 11:21:40 -0400 <YahooSportsNBA> There are only two players in the last 25 seasons to make multiple go-ahead threes in the final 20 seconds of the fourth quarter.   Luka Doncic and.... Dan Dickau 😱  (via @ESPNStatsInfo)  https://t.co/zSB3sMdgeU\n",
      "1364595375567372288 2021-02-24 10:17:45 -0400 <YahooSportsNBA> This angle of Luka's game-winner 🔥😤  (via @dallasmavs)  https://t.co/AtXafHB8PB\n",
      "1364449578972442626 2021-02-24 00:38:24 -0400 <YahooSportsNBA> Luka calls game and Nuggets/Blazers battle it out.  https://t.co/b8h7EvEgO8\n",
      "1364424886135889925 2021-02-23 23:00:17 -0400 <YahooSportsNBA> Another Campazzo dime 👀   https://t.co/H8aYIworYo\n",
      "1364403509819367425 2021-02-23 21:35:20 -0400 <YahooSportsNBA> NUTMEG!   https://t.co/MHUdDHCnQR\n",
      "1364384432459669504 2021-02-23 20:19:32 -0400 <YahooSportsNBA> The bank is open for Steph 👏  (via @warriors)    https://t.co/CDR1c7RDjo\n",
      "1364373283936759811 2021-02-23 19:35:14 -0400 <YahooSportsNBA> Anthony Edwards loves him an Irish accent 🤣  (via @Timberwolves)   https://t.co/hpECjrblmd\n",
      "1364369095810969603 2021-02-23 19:18:35 -0400 <YahooSportsNBA> Who was the biggest snub from the #NBAAllStar game?  https://t.co/tKOLnW8FWF\n",
      "1364265133858463747 2021-02-23 12:25:29 -0400 <YahooSportsNBA> Mark Cuban denied that the Mavericks are looking to trade Kristaps Porzingis.  ➡️  https://t.co/rv3AHTLC6h  https://t.co/dxef3zgewc\n",
      "1364258617935892480 2021-02-23 11:59:35 -0400 <YahooSportsNBA> Y'all remember when CP3 vs. D-Will was an actual debate?  https://t.co/WdMKAI0rcQ\n",
      "1364256552320868352 2021-02-23 11:51:23 -0400 <YahooSportsNBA> On this day 10 years ago, the Utah Jazz traded Deron Williams to the New Jersey Nets for Devin Harris and Derrick Favors.   D-Will in Utah was something else 🔥  (via @SLAMonline)    https://t.co/OHtvSPodgG\n",
      "1364219827787767811 2021-02-23 09:25:27 -0400 <YahooSportsNBA> Steph Curry plays in Madison Square Garden tonight.   Let's just say he likes that arena 🔥   https://t.co/YMYZaTAqQH\n",
      "1363895891753463809 2021-02-22 11:58:15 -0400 <YahooSportsNBA> DIME OF THE YEAR 🤯  (via @nbagleague)  https://t.co/64LTKBjfoH\n",
      "1363863151146536962 2021-02-22 09:48:09 -0400 <YahooSportsNBA> On this day 10 years ago, the Knicks got Carmelo Anthony 😤  🔘 Knicks got: Melo, Chauncey Billups, Corey Brewer, Renaldo Balkman, Shelden Williams, Anthony Carter  🔘 Nuggets got: Gallinari, Wilson Chandler, Mosgov, Raymond Felton  🔘 T-Wolves got: Anthony Randolph, Eddy Curry  https://t.co/rAuWIkwN7q\n",
      "1363694968418762753 2021-02-21 22:39:51 -0400 <YahooSportsNBA> TFW the game ends on an offensive foul...  (via @WorldWideWob)  https://t.co/3Y1MLwNDwG\n",
      "1363650260019646471 2021-02-21 19:42:12 -0400 <YahooSportsNBA> FRED!!!   https://t.co/R5TUQYB6d1\n",
      "1363635516227338245 2021-02-21 18:43:36 -0400 <YahooSportsNBA> Largest comeback in Pelicans franchise history ⚜️\n",
      "1363627868174041088 2021-02-21 18:13:13 -0400 <YahooSportsNBA> Tatum floats one to force OT 👀   https://t.co/LspQmFhDje\n",
      "1363618824482914308 2021-02-21 17:37:17 -0400 <YahooSportsNBA> Zion just floats    https://t.co/BSziDkxta0\n",
      "1363614181283405825 2021-02-21 17:18:50 -0400 <YahooSportsNBA> Robert Williams has rockets in his shoes 🚀🤯  (via @celtics)   https://t.co/xWA2cGtOTv\n",
      "1363606232745930754 2021-02-21 16:47:15 -0400 <YahooSportsNBA> FILTHY move from Jayson Tatum 😤  (via @NBATV)   https://t.co/2TAiedr0Xj\n",
      "1363594062616387585 2021-02-21 15:58:53 -0400 <YahooSportsNBA> Don't get in Zion's way 🤕  (via @PelicansNBA)    https://t.co/8tkfPVFCgb\n",
      "1363346189014327302 2021-02-20 23:33:55 -0400 <YahooSportsNBA> Zach LaVine closes it down 👏   https://t.co/FU0RHWUwrs\n",
      "1363306884413853697 2021-02-20 20:57:44 -0400 <YahooSportsNBA> Oubre cleaning up the glass 💪   https://t.co/iKhXJ2LxYi\n",
      "1363224283720396805 2021-02-20 15:29:31 -0400 <YahooSportsNBA> Jimmy Butler gives a blunt assessment of the Heat's poor start 👀\n",
      "1362985947265081351 2021-02-19 23:42:27 -0400 <YahooSportsNBA> Spida coming through 😤  (via @utahjazz)   https://t.co/qpP88CExRB\n",
      "1362955083600728064 2021-02-19 21:39:49 -0400 <YahooSportsNBA> Arcidiacono with the all-out effort 👏   https://t.co/s24NmWkO5g\n",
      "1362941089326358529 2021-02-19 20:44:12 -0400 <YahooSportsNBA> What a lob 👀   https://t.co/WO4opLYU3z\n",
      "1362915140899794946 2021-02-19 19:01:05 -0400 <YahooSportsNBA> Steph ready to go to work 🎯  (via @warriors)   https://t.co/DsRaCSy0AJ\n",
      "1362591383471595520 2021-02-18 21:34:36 -0400 <YahooSportsNBA> FVV too smooth 🔥   https://t.co/RLKeIaHQ6a\n",
      "1362588585380077571 2021-02-18 21:23:29 -0400 <YahooSportsNBA> Siakam ➡️ OG 🔨   https://t.co/prTVhA9Kd7\n",
      "1362571316931538948 2021-02-18 20:14:51 -0400 <YahooSportsNBA> \"He's not playin' like an All Star. This isn't a lifetime achievement award.\"  Charles Barkley thinks Jordan Clarkson's having a better season than AD. Agree or disagree?  (via @NBAonTNT)  https://t.co/Favym1t4u4\n",
      "1362500018830155778 2021-02-18 15:31:33 -0400 <YahooSportsNBA> All-Star starters are being announced tonight  Agree with these picks? 👀  ➡️  https://t.co/hFBsqRLhED  https://t.co/5Q2Hkrlqgx\n",
      "1362487416397905924 2021-02-18 14:41:28 -0400 <YahooSportsNBA> LeBron James pays tribute to Kobe Bryant and Nipsey Hussle with custom artwork for his house 🙌  (via @KingJames)  ➡️  https://t.co/rAHvzyjls8  https://t.co/7VKFGy4dhp\n",
      "1362467468543811585 2021-02-18 13:22:12 -0400 <YahooSportsNBA> The NBA All-Star Game will follow the same format as last season, incorporating 24 points into determining the final score to honor Kobe Bryant.  https://t.co/6dUXzlMbah\n",
      "1362405236770398208 2021-02-18 09:14:55 -0400 <YahooSportsNBA> Doc Rivers called out a reporter for laying in bed during a press conference 💀  (via @NBCSPhilly)    https://t.co/JcaDH6uPWc\n",
      "1362271773257920512 2021-02-18 00:24:35 -0400 <YahooSportsNBA> OT in the Bay 😬  (via @warriors)   https://t.co/Ma2KQX4M7O\n",
      "1362249499083644932 2021-02-17 22:56:04 -0400 <YahooSportsNBA> Iggy back in the Bay 💪   https://t.co/sTYfrR9Loe\n",
      "1362239102460989440 2021-02-17 22:14:45 -0400 <YahooSportsNBA> Why does it look like it takes zero effort for Zion to make this block? 😮   https://t.co/AYCmsDAIrn\n",
      "1362237298562203649 2021-02-17 22:07:35 -0400 <YahooSportsNBA> SHEESH 😳   https://t.co/jfxLV9IV1f\n",
      "1362224917391941632 2021-02-17 21:18:23 -0400 <YahooSportsNBA> Edwards throws down the hammer 🔨  (via @Timberwolves)   https://t.co/X8ynwvk1Hu\n",
      "1362160540454330370 2021-02-17 17:02:35 -0400 <YahooSportsNBA> Someone check on @tobias31\n",
      "1362160218369445890 2021-02-17 17:01:18 -0400 <YahooSportsNBA> Luka Doncic was named to the TIME100 Next list.   And Boban Marjanovic wrote his profile 🤗  ➡️  https://t.co/yaR9VPwhoR  https://t.co/JIIraV6XZF\n",
      "1362106903216623616 2021-02-17 13:29:27 -0400 <YahooSportsNBA> Happy 58th birthday to Michael Jordan.  What's the GOAT MJ meme? 💀  https://t.co/yoiNPUZnbW\n",
      "1361904785339785221 2021-02-17 00:06:18 -0400 <YahooSportsNBA> Booker lob ➡️ Ayton slam   https://t.co/5nrgIZVhYB\n",
      "1361873683573338112 2021-02-16 22:02:43 -0400 <YahooSportsNBA> B.I. got em turned around    https://t.co/jkiwgxD8kj\n",
      "1361845696815587328 2021-02-16 20:11:30 -0400 <YahooSportsNBA> Jokic is cookin' at the half ♨️  29 PTS 10-12 FG 3-3 3PT 4 REB 2 STL  (via @nuggets)   https://t.co/H7gkgRotjV\n",
      "1361817375193124864 2021-02-16 18:18:58 -0400 <YahooSportsNBA> D'Angelo Russell will undergo arthroscopic surgery to remove a loose body from his left knee, per @wojespn.   He will miss 4-6 weeks.  https://t.co/wrKLFybNWD\n",
      "1361771056986550281 2021-02-16 15:14:55 -0400 <YahooSportsNBA> 🚨 The NBA has postponed the Pistons and Mavericks matchup tomorrow due to severe weather and power outages in Dallas.   ➡️  https://t.co/5U8renhQYQ  https://t.co/ECk26kmJG6\n",
      "1361703667037057027 2021-02-16 10:47:08 -0400 <YahooSportsNBA> \"At some point as players, we need to be treated with the same respect and have the same rights that the team can have.\"  Draymond Green sounded off on the NBA's double standard in player trades.   ➡️  https://t.co/BeG3ewkx8B  https://t.co/IkJL3qqAMA\n",
      "1361534622308384768 2021-02-15 23:35:24 -0400 <YahooSportsNBA> Jordan Clarkson had a night 👀  40 PTS 8-13 3PT Another W   https://t.co/qkE3GG88g6\n",
      "1361512002540228609 2021-02-15 22:05:31 -0400 <YahooSportsNBA> WENT OFF.  44 PTS | 9 REB | 5 AST | 7 3PT\n",
      "1361509257875759105 2021-02-15 21:54:37 -0400 <YahooSportsNBA> Julius Randle has a 40 piece right now 👀  (via @nyknicks)  https://t.co/8N2HkKnj75\n",
      "1361484678587445248 2021-02-15 20:16:57 -0400 <YahooSportsNBA> John Wall had himself a nice first half against his old squad 👀  22 pts 7 ast 2 stl  https://t.co/t96xqHko21\n",
      "1361472383656357894 2021-02-15 19:28:05 -0400 <YahooSportsNBA> Many call it unlucky, but some all-time greats of the game have worn the No. 13.  Who comes to mind when you think of a player wearing the No. 13? 🤔  https://t.co/7DycSgH9aY\n",
      "1361436071423336450 2021-02-15 17:03:48 -0400 <YahooSportsNBA> Anthony Davis will be re-evaluated in 2-3 weeks after suffering a calf strain, per @wojespn.\n",
      "1361424120618057730 2021-02-15 16:16:19 -0400 <YahooSportsNBA> \"What can we do to stop another man or woman from finding themselves in front of a judge or behind bars because they committed no crime other than being Black?\"  Masai Ujiri released a statement on his vindication from the incident at the 2019 NBA Finals.   (via @Raptors)  https://t.co/QU00s0UnHy\n",
      "1361412836228882433 2021-02-15 15:31:28 -0400 <YahooSportsNBA> KD returned to the Bay this weekend. John Wall returns to Washington tonight.   What's your favorite \"reunion\" game of all time? ⤵️\n",
      "1361406564800864265 2021-02-15 15:06:33 -0400 <YahooSportsNBA> The Pistons will sit Blake Griffin as he seeks a trade or buyout to join a contender.  Where do you want to see him land? 👀  From @VinceGoodwill ➡️  https://t.co/g9UzAshdQo  https://t.co/ef8av66E0o\n",
      "1361161712796327941 2021-02-14 22:53:36 -0400 <YahooSportsNBA> This no-look by Facundo Campazzo is WILD 🤯   https://t.co/jhrFB4t5Yo\n",
      "1361139477784182785 2021-02-14 21:25:14 -0400 <YahooSportsNBA> Derrick Jones Jr. gettin' things done at both ends of the court 👀   https://t.co/xNVrLtny6Y\n",
      "1361127010068811776 2021-02-14 20:35:42 -0400 <YahooSportsNBA> 💥 MELO 💥   https://t.co/HWKk9Egj82\n",
      "1361120694512279553 2021-02-14 20:10:36 -0400 <YahooSportsNBA> Windmilled right outta his pants 😂  (via @trailblazers)   https://t.co/vHilanHDdC\n",
      "1361108834815770627 2021-02-14 19:23:29 -0400 <YahooSportsNBA> Klay's having himself a nice little Valentine's Day 🤣  (via @KlayThompson)  https://t.co/dI6gHDGcCG\n",
      "1361039952209928194 2021-02-14 14:49:46 -0400 <YahooSportsNBA> \"You're the point guard, and I'm shooting guard.\"  Kyrie Irving has decided the Nets roles with James Harden 🤝  ➡️  https://t.co/enZ20VN45v  https://t.co/UjME095jK0\n",
      "1360990985086513154 2021-02-14 11:35:11 -0400 <YahooSportsNBA> “I felt like I deserved the honesty and respect because I’ve been there for 10 years.\"  John Wall wishes the Wizards would have been honest with him before they traded him to the Rockets.  ➡️  https://t.co/cgeJI9ZKXF  https://t.co/EcZqRG8O98\n",
      "1360792464379019266 2021-02-13 22:26:20 -0400 <YahooSportsNBA> Kyrie too smooth 👀   https://t.co/aMjxtkOLKT\n",
      "1360770536796782593 2021-02-13 20:59:12 -0400 <YahooSportsNBA> D-Rose looking right at home 🌹   https://t.co/FWva879VCm\n",
      "1360762161212047362 2021-02-13 20:25:55 -0400 <YahooSportsNBA> Throw it down, Cam 🔨   https://t.co/nJCBsv3AJF\n",
      "1360717352141119492 2021-02-13 17:27:52 -0400 <YahooSportsNBA> Booker range 🔥   https://t.co/061GRax84E\n",
      "1360711049465401344 2021-02-13 17:02:49 -0400 <YahooSportsNBA> Embiid going to work 💪   https://t.co/tlHlwmOXZP\n",
      "1360670977001218051 2021-02-13 14:23:35 -0400 <YahooSportsNBA> Rule #1: Can't jump with Cade   https://t.co/Sbi9MnEEF0\n",
      "1360666228935839750 2021-02-13 14:04:43 -0400 <YahooSportsNBA> Report: Knicks' Mitchell Robinson will be out 4-6 weeks with fractured hand.  ➡️  https://t.co/tz6W419F5D  https://t.co/jADVk1mZfC\n",
      "1360660913729253377 2021-02-13 13:43:36 -0400 <YahooSportsNBA> BJ Boston floored the defender then finished off the highlight by nailing the step-back 3 😤  (via @CBSSports)   https://t.co/bppx87FR7M\n",
      "1360634810948067335 2021-02-13 11:59:52 -0400 <YahooSportsNBA> LeBron James delivers the worst flop of the NBA season 👀  Link to full article ➡️  https://t.co/2KC9AUcYeY  https://t.co/7ZdDarFhaV\n",
      "1360450350809894913 2021-02-12 23:46:54 -0400 <YahooSportsNBA> The Utah Jazz are legit!  Join @seeratsohi and @LaJethroJenkins on Tik Tok.   https://t.co/Ow6vYq8F6k\n",
      "1360386194568224770 2021-02-12 19:31:58 -0400 <YahooSportsNBA> LaMelo with the strip and the bucket 👀   https://t.co/cVJpY1zmX9\n",
      "1360346989821652993 2021-02-12 16:56:11 -0400 <YahooSportsNBA> Ben Simmons says he's the best defender in the NBA 😤🗣  ➡️  https://t.co/NSOE8g5ZpN  https://t.co/dF7JCJ4Ryw\n",
      "1360330930456584196 2021-02-12 15:52:22 -0400 <YahooSportsNBA> Happy #LunarNewYear   The Nets celebrated early yesterday 🧧  https://t.co/mRIiz46NKT\n",
      "1360302658914033668 2021-02-12 14:00:01 -0400 <YahooSportsNBA> Does @JalenGreen think he's the No. 1 player in this loaded draft class?   \"Of course.\" 😤  Full conversation with @krystenpeek ➡️  https://t.co/c1PIDEOFYq  https://t.co/VVqKs9whiI\n",
      "1360298362277425153 2021-02-12 13:42:57 -0400 <YahooSportsNBA> Kevin Durant will be available when the Nets play the Warriors tomorrow.   He was pulled from last Friday's game against the Raptors and has missed the last week due to health &amp; safety protocols.  https://t.co/TNfT0yOP7v\n",
      "1360284904001568772 2021-02-12 12:49:28 -0400 <YahooSportsNBA> A security camera caught this middle school custodian making a backwards half-court shot in an empty gym 👀😱  https://t.co/0GRff0v5Ek\n",
      "1360276304654983170 2021-02-12 12:15:18 -0400 <YahooSportsNBA> ☘️ 11x NBA champ ☘️ 12x All Star ☘️ 5x MVP ☘️ 21,620 rebounds   Happy 87th birthday to the legend Bill Russell. Celebrated in style 😂  (via @RealBillRussell)  https://t.co/e8rGiIfLWm\n",
      "1360227658974560264 2021-02-12 09:02:00 -0400 <YahooSportsNBA> 🚨 NEW DUNK BAIT 🚨  @KamaiuJohnson breaks down NBA players' golf swings with @LaJethroJenkins 💀  https://t.co/ykUZNdKQ1q\n",
      "1359946795787370504 2021-02-11 14:25:57 -0400 <YahooSportsNBA> “He doesn’t want to quit on something.”  Bradley Beal is off the trade market 😤  From @brohrbach ➡️  https://t.co/jn70T6TsRp  https://t.co/1HVG9AB8iC\n",
      "1359913394078420992 2021-02-11 12:13:13 -0400 <YahooSportsNBA> 🚨NEW DUNK BAIT🚨  @SeeratSohi on why every lead guard needs to have Steph Curry's behind-the-back pass 🔥  ➡️  https://t.co/OGDI2LPNz6  https://t.co/CdsNE3il9g\n",
      "1359879872617807874 2021-02-11 10:00:01 -0400 <YahooSportsNBA> \"It's something that's unexplainable.\"  Melo, KP, Beal and more talk about what it's like to be in the zone 😤🔥  Full episode ➡️  https://t.co/JdXCJWsdSC  https://t.co/R7ZbvNfUem\n",
      "1359742452219875328 2021-02-11 00:53:58 -0400 <YahooSportsNBA> Bron with the defense and the Lakers come away with another OT win 👀   https://t.co/THRxrh50mF\n",
      "1359737581320105989 2021-02-11 00:34:36 -0400 <YahooSportsNBA> LEBRON JAMES. OT IN LA 🔥   https://t.co/0hvCIK8Jmv\n",
      "1359677383649861633 2021-02-10 20:35:24 -0400 <YahooSportsNBA> Welcome back, KAT 👏👏👏   https://t.co/VW4X1Y6pdc\n",
      "1359628108173889537 2021-02-10 17:19:36 -0400 <YahooSportsNBA> New York governor Andrew Cuomo has cleared the Knicks and Nets to host 2,000 fans at games starting Feb. 23.  ➡️  https://t.co/Ox2dxu7en6  https://t.co/R5qlURxGke\n",
      "1359584121241100290 2021-02-10 14:24:49 -0400 <YahooSportsNBA> The NBA says all teams will play national anthem before games going forward after the Mavericks stopped.   Mark Cuban says the Mavs will abide by the policy.   ➡️  https://t.co/KlFeAZe0ev  https://t.co/dGjqeK6fVB\n"
     ]
    },
    {
     "name": "stdout",
     "output_type": "stream",
     "text": [
      "1359224066096443397 2021-02-09 14:34:05 -0400 <YahooSportsNBA> After 11 seasons, @ReneeMontgomery is retiring to focus on her social justice work in Atlanta.  ➡️  https://t.co/1Z63bp8bop  https://t.co/6pP4oAt3ob\n",
      "1358988145140797443 2021-02-08 22:56:37 -0400 <YahooSportsNBA> Holy Murray 😱   https://t.co/8T4xggYYUO\n",
      "1358973403214999568 2021-02-08 21:58:02 -0400 <YahooSportsNBA> Anthony Edwards got up 😤   https://t.co/97I4VqQukq\n",
      "1358944748271140864 2021-02-08 20:04:10 -0400 <YahooSportsNBA> The typically old school Kevin Garnett was unexpectedly complimentary of today’s NBA 👀  ➡️  https://t.co/Tj2ZBB248Q  https://t.co/S25EEzg10v\n",
      "1358895865566486531 2021-02-08 16:49:56 -0400 <YahooSportsNBA> \"Racism is taught.\"  Donovan Mitchell and Rudy Gobert called out a Utah school for initially allowing parents to opt their students out of Black History Month curriculum.   ➡️  https://t.co/eaOm0nIwSg  https://t.co/et2OyFL6Pv\n",
      "1358888071119450118 2021-02-08 16:18:57 -0400 <YahooSportsNBA> \"You didn't lose any money did you?\"  \"I gained money!\"  @JaValeMcGee joined @ChrisBHaynes to talk about his time with the Lakers, the Bubble and GameStop 😂  Full podcast ➡️  https://t.co/apYpBAqkTW  https://t.co/BrBpSWDMVe\n",
      "1358882146547609603 2021-02-08 15:55:25 -0400 <YahooSportsNBA> What Tom Brady's GOAT case says about Michael Jordan, LeBron James and the NBA's discourse 🐐  From @brohrbach ➡️  https://t.co/4Hponz3hhf  https://t.co/jcye9nFeMH\n",
      "1358840256154468353 2021-02-08 13:08:57 -0400 <YahooSportsNBA> On this day 23 years ago, Jordan and Kobe went at it in the All-Star Game 🐐🐐  (via @NBAAllStar)  https://t.co/4TaQKfOwY2\n",
      "1358522146411134976 2021-02-07 16:04:54 -0400 <YahooSportsNBA> The deal is done 🌹  The Pistons are trading Derrick Rose to the Knicks for Dennis Smith Jr. and a 2021 second-round pick.   D-Rose and Thibs are reuniting.   From @VinceGoodwill ➡️  https://t.co/5JvJvkM4an  https://t.co/DeH5gWSlhQ\n",
      "1358504082525274119 2021-02-07 14:53:07 -0400 <YahooSportsNBA> Reggie Bullock is torching the Heat with 7 3's heading into the fourth quarter 🔥  (via @nyknicks)   https://t.co/S8nP9wKyiu\n",
      "1358477318956670976 2021-02-07 13:06:46 -0400 <YahooSportsNBA> Pistons are nearing an agreement to send Derrick Rose to the Knicks for Dennis Smith Jr. and draft compensation, per @ShamsCharania. 👀  https://t.co/xrRr96qnUS\n",
      "1358268747438428162 2021-02-06 23:17:59 -0400 <YahooSportsNBA> LeBron making it look easy 👑  (via @Lakers)   https://t.co/pba7dWGnrg\n",
      "1358252356211720194 2021-02-06 22:12:51 -0400 <YahooSportsNBA> Steph range 😱   https://t.co/TsJVe6yVcJ\n",
      "1358216955765817345 2021-02-06 19:52:11 -0400 <YahooSportsNBA> Steph casually getting that pregame work in 🎯  (via @warriors)   https://t.co/3KQhEiGOYl\n",
      "1358139297170415619 2021-02-06 14:43:36 -0400 <YahooSportsNBA> Dame with the sideline inbound pocket pass 👀  (via @trailblazers)   https://t.co/RSe7BXDUCM\n",
      "1358115620571799552 2021-02-06 13:09:31 -0400 <YahooSportsNBA> Report: NBA tells players, coaches and staff to keep Super Bowl parties to a minimum amid pandemic.  ➡️  https://t.co/A7yEMMMNdd  https://t.co/gaNybefOrZ\n",
      "1357906223492833280 2021-02-05 23:17:27 -0400 <YahooSportsNBA> Jayson Tatum making it happen 🔥  (via @celtics)   https://t.co/gbX4nxdyhv\n",
      "1357885218892353536 2021-02-05 21:53:59 -0400 <YahooSportsNBA> The Pelicans hold on for the one-point win over the Pacers 👀   https://t.co/LT5tMNJ7BM\n",
      "1357862919300517888 2021-02-05 20:25:22 -0400 <YahooSportsNBA> Not on Jarrett Allen's watch 🚫   https://t.co/56v0Z4kiXw\n",
      "1357849971941199872 2021-02-05 19:33:55 -0400 <YahooSportsNBA> Zion going to work 💪   https://t.co/fm5tlyyiUG\n",
      "1357535079313063936 2021-02-04 22:42:39 -0400 <YahooSportsNBA> Jamal Murray COMING THROUGH 😤   https://t.co/oAS0xTsEnN\n",
      "1357477318785138689 2021-02-04 18:53:08 -0400 <YahooSportsNBA> I mean, @swipathefox isn't wrong 🤷‍♂️  ➡️  https://t.co/T1wT5uxtAo  https://t.co/4ZvPIz40IO\n",
      "1357393416326365186 2021-02-04 13:19:44 -0400 <YahooSportsNBA> The first NBA All-Star voting returns are here 👀  West frontcourt leader: LeBron West guards leader: Steph East frontcourt leader: KD East guards leader: Bradley Beal  https://t.co/3jA7KIRMPa\n",
      "1357370632695119873 2021-02-04 11:49:12 -0400 <YahooSportsNBA> “I just arrived to get my COVID shot, and this is one shot I won’t block.\"  Bill Russell is the latest legend to take part in the NBA's COVID-19 vaccine PSA.   From @VinceGoodwill ➡️  https://t.co/9GIgzap5Ej  https://t.co/LFZO3omzzu\n",
      "1357358687166357504 2021-02-04 11:01:44 -0400 <YahooSportsNBA> Get hit in the head. Dance it off.   Josh Richardson got a surprise 😂  (via @sportscenter)  https://t.co/bVs01mnmlx\n",
      "1357169549955670017 2021-02-03 22:30:10 -0400 <YahooSportsNBA> Vintage CP3 🔥   https://t.co/J1vHmUeVgn\n",
      "1357163885954928646 2021-02-03 22:07:39 -0400 <YahooSportsNBA> 🚨 PAUL GEORGE BUZZER BEATER 🚨   https://t.co/075XtHUlFo\n",
      "1357148427939770370 2021-02-03 21:06:14 -0400 <YahooSportsNBA> Dejounte Murray dishing 👀   https://t.co/CGiRLNDqT2\n",
      "1357130402520064007 2021-02-03 19:54:36 -0400 <YahooSportsNBA> Luka picked his pocket then dropped a dime    https://t.co/aVBjNaHkme\n",
      "1357087706325614594 2021-02-03 17:04:57 -0400 <YahooSportsNBA> Who's the bigger disappointment this season?\n",
      "1357087622921936896 2021-02-03 17:04:37 -0400 <YahooSportsNBA> Luka Doncic's Mavs are 8-13.   Jimmy Butler's Heat are 7-13.   Could both of them miss the playoffs? 😬  ➡️  https://t.co/DQ1fgEpieu  https://t.co/CRWPaFPT37\n",
      "1357000871868039185 2021-02-03 11:19:54 -0400 <YahooSportsNBA> “We have to come out and not embarrass ourselves.\"  Pride bailed out the Nets' league-worst defense in yesterday's win over the Clippers. Respect is what Brooklyn needs next.   From @VinceGoodwill ➡️  https://t.co/astoKvGXBm  https://t.co/Q82cnTP8vW\n",
      "1356836603268915200 2021-02-03 00:27:09 -0400 <YahooSportsNBA> Steph is WILD 🤯   https://t.co/xUs6ENvsre\n",
      "1356831781702483968 2021-02-03 00:08:00 -0400 <YahooSportsNBA> Blake Griffin was not happy about being down big at the half 😳  (via @NicolasHenkel)  https://t.co/gms5FGNydb\n",
      "1356811943961530369 2021-02-02 22:49:10 -0400 <YahooSportsNBA> The Raptors locker room went crazy for Fred VanVleet after his record-setting game 🎉  (via jamaal.magloire | IG)  https://t.co/rAwBkNWoUc\n",
      "1356445479647682561 2021-02-01 22:32:58 -0400 <YahooSportsNBA> The announcer went crazy on this one 😂   https://t.co/UfwBRuxenf\n",
      "1356421778235559937 2021-02-01 20:58:47 -0400 <YahooSportsNBA> The Nuggets-Pistons game tonight has been postponed, per @ShamsCharania.  https://t.co/cOlWdbxkCc\n",
      "1356402830756737028 2021-02-01 19:43:30 -0400 <YahooSportsNBA> It's the end of an era in LA for Candace Parker and the Sparks.  ✨ 13 seasons ✨ WNBA Champion ✨ 2x WNBA MVP ✨ Finals MVP ✨ 5x WNBA All-Star ✨ WNBA Rookie of the Year  (via @LASparks)  https://t.co/pwU5uUjB3J\n",
      "1356346051549081603 2021-02-01 15:57:53 -0400 <YahooSportsNBA> \"A blue collar Jimmy Butler type. A poor man's Jimmy Butler.\" 😂  Would love to see @MikeEvans13_ hoopin' and @JimmyButler show off those WR skills 🏈x🏀  https://t.co/AFhU1BhLo2\n",
      "1356333123596918786 2021-02-01 15:06:30 -0400 <YahooSportsNBA> The NBA and NBPA are discussing adding a dunk and 3-point contest to the proposed All-Star weekend in Atlanta on March 6-7, per @TheSteinLine.  https://t.co/urXu2E5dCf\n",
      "1356301385025916933 2021-02-01 13:00:23 -0400 <YahooSportsNBA> \"You got all these guys who are living this right now.\"  On a new Posted Up, @ChrisBHaynes talked to @AldisHodge &amp; @TheRealEliGoree about \"One Night in Miami\" and activism in the NBA.   ➡️  https://t.co/omfFBODZdP  https://t.co/IMDOjUPXGJ\n",
      "1356297905682976769 2021-02-01 12:46:34 -0400 <YahooSportsNBA> On this day 13 years ago, the Lakers traded for Pau Gasol and the rest is history.   Lakers received: Gasol, second-round pick  Grizzlies received: Kwame Brown, Javaris Crittenton, Aaron McKie, the draft rights to Marc Gasol, two first-round picks  https://t.co/HlQrNR2Fcm\n",
      "1356046737107013633 2021-01-31 20:08:30 -0400 <YahooSportsNBA> KD ON HIS HEAD!! 🗣️🗣️🗣️   https://t.co/9yfp7etUMc\n",
      "1356033836715560963 2021-01-31 19:17:15 -0400 <YahooSportsNBA> .@kevinlove has announced his engagement to @katebock 🥰  https://t.co/Lm2YnVncM3\n",
      "1355996654084751360 2021-01-31 16:49:30 -0400 <YahooSportsNBA> Nikola Jokic's first half against Utah:  🃏 33 points 🃏 4-4 from three 🃏 5 rebounds 🃏 3 assists 🃏 Nuggets up 79-54  Unreal 🔥  (via @NBATV)   https://t.co/1SWzJatrie\n",
      "1355974525511479298 2021-01-31 15:21:34 -0400 <YahooSportsNBA> \"You're one of my favorite players.\"  Immanuel Quickley showing respect to Lou Williams 🔥  (via @espn)  https://t.co/Hk9zpVpYD2\n",
      "1355958296138698771 2021-01-31 14:17:04 -0400 <YahooSportsNBA> 👀  https://t.co/hVJ8p7m27U\n",
      "1355910719166967818 2021-01-31 11:08:01 -0400 <YahooSportsNBA> Marcus Smart has been diagnosed with a Grade 1 left calf strain, per @ShamsCharania.  https://t.co/udFscmUCyO\n",
      "1355886615911084033 2021-01-31 09:32:15 -0400 <YahooSportsNBA> @YahooSports @KNBR \"This dude might be out of the league soon.\"  Klay called out McGruder too 😬  (via @NBCSWarriors)   https://t.co/G9HQ3kkf5C\n",
      "1355882090605244420 2021-01-31 09:14:16 -0400 <YahooSportsNBA> Klay interviewing Steph is 💀  Can't wait until these two are together again on the court.   (via @warriors)  https://t.co/k9PMAbluVt\n"
     ]
    },
    {
     "name": "stdout",
     "output_type": "stream",
     "text": [
      "[!] No more data! Scraping will stop now.\n",
      "found 0 deleted tweets in this search.\n"
     ]
    }
   ],
   "source": [
    "t = twint.Config()\n",
    "t.Username = \"YahooSportsNBA\"\n",
    "t.Since = '2021-01-31'\n",
    "t.Pandas = True\n",
    "twint.run.Search(t)"
   ]
  },
  {
   "cell_type": "code",
   "execution_count": 10,
   "metadata": {
    "ExecuteTime": {
     "end_time": "2021-03-15T21:53:45.373940Z",
     "start_time": "2021-03-15T21:53:45.368431Z"
    }
   },
   "outputs": [],
   "source": [
    "df = twint.storage.panda.Tweets_df"
   ]
  },
  {
   "cell_type": "code",
   "execution_count": 11,
   "metadata": {
    "ExecuteTime": {
     "end_time": "2021-03-15T21:53:50.069125Z",
     "start_time": "2021-03-15T21:53:50.006571Z"
    }
   },
   "outputs": [
    {
     "data": {
      "text/html": [
       "<div>\n",
       "<style scoped>\n",
       "    .dataframe tbody tr th:only-of-type {\n",
       "        vertical-align: middle;\n",
       "    }\n",
       "\n",
       "    .dataframe tbody tr th {\n",
       "        vertical-align: top;\n",
       "    }\n",
       "\n",
       "    .dataframe thead th {\n",
       "        text-align: right;\n",
       "    }\n",
       "</style>\n",
       "<table border=\"1\" class=\"dataframe\">\n",
       "  <thead>\n",
       "    <tr style=\"text-align: right;\">\n",
       "      <th></th>\n",
       "      <th>id</th>\n",
       "      <th>conversation_id</th>\n",
       "      <th>created_at</th>\n",
       "      <th>date</th>\n",
       "      <th>timezone</th>\n",
       "      <th>place</th>\n",
       "      <th>tweet</th>\n",
       "      <th>language</th>\n",
       "      <th>hashtags</th>\n",
       "      <th>cashtags</th>\n",
       "      <th>...</th>\n",
       "      <th>geo</th>\n",
       "      <th>source</th>\n",
       "      <th>user_rt_id</th>\n",
       "      <th>user_rt</th>\n",
       "      <th>retweet_id</th>\n",
       "      <th>reply_to</th>\n",
       "      <th>retweet_date</th>\n",
       "      <th>translate</th>\n",
       "      <th>trans_src</th>\n",
       "      <th>trans_dest</th>\n",
       "    </tr>\n",
       "  </thead>\n",
       "  <tbody>\n",
       "    <tr>\n",
       "      <td>0</td>\n",
       "      <td>1371523338527444993</td>\n",
       "      <td>1371523338527444993</td>\n",
       "      <td>1.615832e+12</td>\n",
       "      <td>2021-03-15 14:07:00</td>\n",
       "      <td>-0400</td>\n",
       "      <td></td>\n",
       "      <td>The @WNBA unveiled a new logo to celebrate its...</td>\n",
       "      <td>en</td>\n",
       "      <td>[countit]</td>\n",
       "      <td>[]</td>\n",
       "      <td>...</td>\n",
       "      <td></td>\n",
       "      <td></td>\n",
       "      <td></td>\n",
       "      <td></td>\n",
       "      <td></td>\n",
       "      <td>[]</td>\n",
       "      <td></td>\n",
       "      <td></td>\n",
       "      <td></td>\n",
       "      <td></td>\n",
       "    </tr>\n",
       "    <tr>\n",
       "      <td>1</td>\n",
       "      <td>1371516350213029896</td>\n",
       "      <td>1371516350213029896</td>\n",
       "      <td>1.615830e+12</td>\n",
       "      <td>2021-03-15 13:39:14</td>\n",
       "      <td>-0400</td>\n",
       "      <td></td>\n",
       "      <td>🔘 JaVale McGee getting interest from the Nets ...</td>\n",
       "      <td>en</td>\n",
       "      <td>[]</td>\n",
       "      <td>[]</td>\n",
       "      <td>...</td>\n",
       "      <td></td>\n",
       "      <td></td>\n",
       "      <td></td>\n",
       "      <td></td>\n",
       "      <td></td>\n",
       "      <td>[]</td>\n",
       "      <td></td>\n",
       "      <td></td>\n",
       "      <td></td>\n",
       "      <td></td>\n",
       "    </tr>\n",
       "    <tr>\n",
       "      <td>2</td>\n",
       "      <td>1371286088405385216</td>\n",
       "      <td>1371286088405385216</td>\n",
       "      <td>1.615775e+12</td>\n",
       "      <td>2021-03-14 22:24:15</td>\n",
       "      <td>-0400</td>\n",
       "      <td></td>\n",
       "      <td>ANOTHER DAY, ANOTHER ANTHONY EDWARDS JAM 💥   h...</td>\n",
       "      <td>en</td>\n",
       "      <td>[]</td>\n",
       "      <td>[]</td>\n",
       "      <td>...</td>\n",
       "      <td></td>\n",
       "      <td></td>\n",
       "      <td></td>\n",
       "      <td></td>\n",
       "      <td></td>\n",
       "      <td>[]</td>\n",
       "      <td></td>\n",
       "      <td></td>\n",
       "      <td></td>\n",
       "      <td></td>\n",
       "    </tr>\n",
       "    <tr>\n",
       "      <td>3</td>\n",
       "      <td>1371278872881336320</td>\n",
       "      <td>1371278872881336320</td>\n",
       "      <td>1.615773e+12</td>\n",
       "      <td>2021-03-14 21:55:35</td>\n",
       "      <td>-0400</td>\n",
       "      <td></td>\n",
       "      <td>Jayson Tatum made this look too easy 👀   https...</td>\n",
       "      <td>en</td>\n",
       "      <td>[]</td>\n",
       "      <td>[]</td>\n",
       "      <td>...</td>\n",
       "      <td></td>\n",
       "      <td></td>\n",
       "      <td></td>\n",
       "      <td></td>\n",
       "      <td></td>\n",
       "      <td>[]</td>\n",
       "      <td></td>\n",
       "      <td></td>\n",
       "      <td></td>\n",
       "      <td></td>\n",
       "    </tr>\n",
       "    <tr>\n",
       "      <td>4</td>\n",
       "      <td>1371263992836943874</td>\n",
       "      <td>1371263992836943874</td>\n",
       "      <td>1.615770e+12</td>\n",
       "      <td>2021-03-14 20:56:27</td>\n",
       "      <td>-0400</td>\n",
       "      <td></td>\n",
       "      <td>Jaylen faked 'em out 😂   https://t.co/MNMHPc0qFA</td>\n",
       "      <td>en</td>\n",
       "      <td>[]</td>\n",
       "      <td>[]</td>\n",
       "      <td>...</td>\n",
       "      <td></td>\n",
       "      <td></td>\n",
       "      <td></td>\n",
       "      <td></td>\n",
       "      <td></td>\n",
       "      <td>[]</td>\n",
       "      <td></td>\n",
       "      <td></td>\n",
       "      <td></td>\n",
       "      <td></td>\n",
       "    </tr>\n",
       "  </tbody>\n",
       "</table>\n",
       "<p>5 rows × 38 columns</p>\n",
       "</div>"
      ],
      "text/plain": [
       "                    id      conversation_id    created_at  \\\n",
       "0  1371523338527444993  1371523338527444993  1.615832e+12   \n",
       "1  1371516350213029896  1371516350213029896  1.615830e+12   \n",
       "2  1371286088405385216  1371286088405385216  1.615775e+12   \n",
       "3  1371278872881336320  1371278872881336320  1.615773e+12   \n",
       "4  1371263992836943874  1371263992836943874  1.615770e+12   \n",
       "\n",
       "                  date timezone place  \\\n",
       "0  2021-03-15 14:07:00    -0400         \n",
       "1  2021-03-15 13:39:14    -0400         \n",
       "2  2021-03-14 22:24:15    -0400         \n",
       "3  2021-03-14 21:55:35    -0400         \n",
       "4  2021-03-14 20:56:27    -0400         \n",
       "\n",
       "                                               tweet language   hashtags  \\\n",
       "0  The @WNBA unveiled a new logo to celebrate its...       en  [countit]   \n",
       "1  🔘 JaVale McGee getting interest from the Nets ...       en         []   \n",
       "2  ANOTHER DAY, ANOTHER ANTHONY EDWARDS JAM 💥   h...       en         []   \n",
       "3  Jayson Tatum made this look too easy 👀   https...       en         []   \n",
       "4   Jaylen faked 'em out 😂   https://t.co/MNMHPc0qFA       en         []   \n",
       "\n",
       "  cashtags  ...  geo source user_rt_id user_rt  retweet_id reply_to  \\\n",
       "0       []  ...                                                  []   \n",
       "1       []  ...                                                  []   \n",
       "2       []  ...                                                  []   \n",
       "3       []  ...                                                  []   \n",
       "4       []  ...                                                  []   \n",
       "\n",
       "  retweet_date translate trans_src  trans_dest  \n",
       "0                                               \n",
       "1                                               \n",
       "2                                               \n",
       "3                                               \n",
       "4                                               \n",
       "\n",
       "[5 rows x 38 columns]"
      ]
     },
     "execution_count": 11,
     "metadata": {},
     "output_type": "execute_result"
    }
   ],
   "source": [
    "df.head()"
   ]
  },
  {
   "cell_type": "code",
   "execution_count": 16,
   "metadata": {
    "ExecuteTime": {
     "end_time": "2021-03-15T22:22:36.153806Z",
     "start_time": "2021-03-15T22:22:36.142139Z"
    }
   },
   "outputs": [
    {
     "data": {
      "text/plain": [
       "\"Jaylen faked 'em out    https://t.co/MNMHPc0qFA\""
      ]
     },
     "execution_count": 16,
     "metadata": {},
     "output_type": "execute_result"
    }
   ],
   "source": [
    "test_str = df.loc[4,'tweet']\n",
    "encoded_test_str = test_str.encode('ascii', \"ignore\")\n",
    "decoded_test_str = encoded_test_str.decode()\n",
    "decoded_test_str"
   ]
  },
  {
   "cell_type": "code",
   "execution_count": 19,
   "metadata": {
    "ExecuteTime": {
     "end_time": "2021-03-15T22:35:02.816136Z",
     "start_time": "2021-03-15T22:35:02.809132Z"
    }
   },
   "outputs": [],
   "source": [
    "def create_tweets_dataframe(username, start_date, end_date):\n",
    "    c = twint.Config()\n",
    "    c.Username = username\n",
    "    c.Since = start_date\n",
    "    c.Until = end_date\n",
    "    c.Pandas = True\n",
    "    c.Hide_output = True\n",
    "    twint.run.Search(c)\n",
    "    \n",
    "    dataframe = twint.storage.panda.Tweets_df\n",
    "    return dataframe\n",
    "    \n",
    "    \n",
    "    "
   ]
  },
  {
   "cell_type": "code",
   "execution_count": 20,
   "metadata": {
    "ExecuteTime": {
     "end_time": "2021-03-15T22:37:15.056506Z",
     "start_time": "2021-03-15T22:35:22.409466Z"
    }
   },
   "outputs": [
    {
     "name": "stdout",
     "output_type": "stream",
     "text": [
      "[!] No more data! Scraping will stop now.\n",
      "found 0 deleted tweets in this search.\n"
     ]
    }
   ],
   "source": [
    "yahoo_df = create_tweets_dataframe('YahooSportsNBA', '2016-01-01', '2021-02-28')"
   ]
  },
  {
   "cell_type": "code",
   "execution_count": 22,
   "metadata": {
    "ExecuteTime": {
     "end_time": "2021-03-15T23:02:00.909521Z",
     "start_time": "2021-03-15T22:54:45.505683Z"
    }
   },
   "outputs": [
    {
     "name": "stdout",
     "output_type": "stream",
     "text": [
      "[!] No more data! Scraping will stop now.\n",
      "found 0 deleted tweets in this search.\n"
     ]
    }
   ],
   "source": [
    "crossover_df = create_tweets_dataframe('TheCrossover', '2016-01-01', '2021-02-28')"
   ]
  },
  {
   "cell_type": "code",
   "execution_count": 23,
   "metadata": {
    "ExecuteTime": {
     "end_time": "2021-03-15T23:04:12.676863Z",
     "start_time": "2021-03-15T23:03:12.413429Z"
    }
   },
   "outputs": [
    {
     "name": "stdout",
     "output_type": "stream",
     "text": [
      "[!] No more data! Scraping will stop now.\n",
      "found 0 deleted tweets in this search.\n"
     ]
    }
   ],
   "source": [
    "athletic_df = create_tweets_dataframe('TheAthleticNBA', '2016-01-01', '2021-02-28')"
   ]
  },
  {
   "cell_type": "code",
   "execution_count": 24,
   "metadata": {
    "ExecuteTime": {
     "end_time": "2021-03-15T23:59:16.543054Z",
     "start_time": "2021-03-15T23:58:51.305134Z"
    }
   },
   "outputs": [
    {
     "name": "stdout",
     "output_type": "stream",
     "text": [
      "[!] No more data! Scraping will stop now.\n",
      "found 0 deleted tweets in this search.\n"
     ]
    }
   ],
   "source": [
    "slam_df = create_tweets_dataframe('Slamnewswire', '2016-01-01', '2021-02-28')"
   ]
  },
  {
   "cell_type": "code",
   "execution_count": 25,
   "metadata": {
    "ExecuteTime": {
     "end_time": "2021-03-16T00:39:04.002098Z",
     "start_time": "2021-03-16T00:23:28.597146Z"
    }
   },
   "outputs": [
    {
     "name": "stdout",
     "output_type": "stream",
     "text": [
      "[!] No more data! Scraping will stop now.\n",
      "found 0 deleted tweets in this search.\n"
     ]
    }
   ],
   "source": [
    "nba_df = create_tweets_dataframe('NBA', '2016-01-01', '2021-02-28')"
   ]
  },
  {
   "cell_type": "code",
   "execution_count": 26,
   "metadata": {
    "ExecuteTime": {
     "end_time": "2021-03-16T00:39:16.385030Z",
     "start_time": "2021-03-16T00:39:10.601213Z"
    }
   },
   "outputs": [
    {
     "name": "stdout",
     "output_type": "stream",
     "text": [
      "[!] No more data! Scraping will stop now.\n",
      "found 0 deleted tweets in this search.\n"
     ]
    }
   ],
   "source": [
    "bball_news_df = create_tweets_dataframe('basketbllnews', '2016-01-01', '2021-02-28')"
   ]
  },
  {
   "cell_type": "code",
   "execution_count": 35,
   "metadata": {
    "ExecuteTime": {
     "end_time": "2021-03-16T00:46:01.260738Z",
     "start_time": "2021-03-16T00:46:01.247080Z"
    }
   },
   "outputs": [
    {
     "data": {
      "text/plain": [
       "185008"
      ]
     },
     "execution_count": 35,
     "metadata": {},
     "output_type": "execute_result"
    }
   ],
   "source": [
    "len(yahoo_df) + len(crossover_df) + len(athletic_df) + len(slam_df) + len(nba_df) + len(bball_news_df)"
   ]
  },
  {
   "cell_type": "code",
   "execution_count": 37,
   "metadata": {
    "ExecuteTime": {
     "end_time": "2021-03-16T00:53:36.113898Z",
     "start_time": "2021-03-16T00:53:36.106073Z"
    }
   },
   "outputs": [
    {
     "data": {
      "text/plain": [
       "Index(['id', 'conversation_id', 'created_at', 'date', 'timezone', 'place',\n",
       "       'tweet', 'language', 'hashtags', 'cashtags', 'user_id', 'user_id_str',\n",
       "       'username', 'name', 'day', 'hour', 'link', 'urls', 'photos', 'video',\n",
       "       'thumbnail', 'retweet', 'nlikes', 'nreplies', 'nretweets', 'quote_url',\n",
       "       'search', 'near', 'geo', 'source', 'user_rt_id', 'user_rt',\n",
       "       'retweet_id', 'reply_to', 'retweet_date', 'translate', 'trans_src',\n",
       "       'trans_dest'],\n",
       "      dtype='object')"
      ]
     },
     "execution_count": 37,
     "metadata": {},
     "output_type": "execute_result"
    }
   ],
   "source": [
    "nba_df.columns"
   ]
  },
  {
   "cell_type": "code",
   "execution_count": null,
   "metadata": {},
   "outputs": [],
   "source": [
    "df_list = [yahoo_df, crossover_df, athletic_df, slam_df, nba_df, bball_news_df]\n",
    "for dataframe in df_list:\n",
    "    dataframe.drop(columns=[], inplace=True)"
   ]
  }
 ],
 "metadata": {
  "kernelspec": {
   "display_name": "learn-env",
   "language": "python",
   "name": "learn-env"
  },
  "language_info": {
   "codemirror_mode": {
    "name": "ipython",
    "version": 3
   },
   "file_extension": ".py",
   "mimetype": "text/x-python",
   "name": "python",
   "nbconvert_exporter": "python",
   "pygments_lexer": "ipython3",
   "version": "3.6.9"
  },
  "toc": {
   "base_numbering": 1,
   "nav_menu": {},
   "number_sections": true,
   "sideBar": true,
   "skip_h1_title": false,
   "title_cell": "Table of Contents",
   "title_sidebar": "Contents",
   "toc_cell": false,
   "toc_position": {},
   "toc_section_display": true,
   "toc_window_display": false
  }
 },
 "nbformat": 4,
 "nbformat_minor": 2
}
