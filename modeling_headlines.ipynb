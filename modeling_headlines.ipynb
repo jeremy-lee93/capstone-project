{
 "cells": [
  {
   "cell_type": "code",
   "execution_count": 23,
   "metadata": {
    "ExecuteTime": {
     "end_time": "2021-03-13T18:27:09.289804Z",
     "start_time": "2021-03-13T18:27:08.185314Z"
    }
   },
   "outputs": [],
   "source": [
    "import numpy as np\n",
    "import pandas as pd\n",
    "import matplotlib.pyplot as plt\n",
    "import seaborn as sns\n",
    "\n",
    "from sklearn.model_selection import train_test_split, cross_val_score, GridSearchCV\n",
    "from sklearn.naive_bayes import MultinomialNB\n",
    "from sklearn.ensemble import RandomForestClassifier\n",
    "from sklearn.svm import SVC\n",
    "from sklearn.feature_extraction.text import TfidfVectorizer\n",
    "import string\n",
    "import nltk\n",
    "from nltk.stem import WordNetLemmatizer\n",
    "%matplotlib inline"
   ]
  },
  {
   "cell_type": "code",
   "execution_count": 13,
   "metadata": {
    "ExecuteTime": {
     "end_time": "2021-03-13T18:19:10.380423Z",
     "start_time": "2021-03-13T18:19:10.238578Z"
    }
   },
   "outputs": [],
   "source": [
    "df = pd.read_csv('data/espn_three_classes.csv')"
   ]
  },
  {
   "cell_type": "code",
   "execution_count": 14,
   "metadata": {
    "ExecuteTime": {
     "end_time": "2021-03-13T18:19:11.977656Z",
     "start_time": "2021-03-13T18:19:11.958332Z"
    }
   },
   "outputs": [
    {
     "data": {
      "text/plain": [
       "headlines      2\n",
       "posted_time    0\n",
       "tokens         0\n",
       "labels         0\n",
       "word_length    0\n",
       "dtype: int64"
      ]
     },
     "execution_count": 14,
     "metadata": {},
     "output_type": "execute_result"
    }
   ],
   "source": [
    "#check for null values\n",
    "df.isna().sum()"
   ]
  },
  {
   "cell_type": "code",
   "execution_count": 15,
   "metadata": {
    "ExecuteTime": {
     "end_time": "2021-03-13T18:19:13.523367Z",
     "start_time": "2021-03-13T18:19:13.498852Z"
    }
   },
   "outputs": [],
   "source": [
    "df.dropna(inplace=True)"
   ]
  },
  {
   "cell_type": "code",
   "execution_count": 16,
   "metadata": {
    "ExecuteTime": {
     "end_time": "2021-03-13T18:19:16.580463Z",
     "start_time": "2021-03-13T18:19:16.510483Z"
    }
   },
   "outputs": [
    {
     "data": {
      "text/plain": [
       "headlines      36081\n",
       "posted_time     1880\n",
       "tokens         36063\n",
       "labels             3\n",
       "word_length       20\n",
       "dtype: int64"
      ]
     },
     "execution_count": 16,
     "metadata": {},
     "output_type": "execute_result"
    }
   ],
   "source": [
    "df.nunique()"
   ]
  },
  {
   "cell_type": "code",
   "execution_count": 17,
   "metadata": {
    "ExecuteTime": {
     "end_time": "2021-03-13T18:20:10.370613Z",
     "start_time": "2021-03-13T18:20:10.316001Z"
    }
   },
   "outputs": [],
   "source": [
    "df.drop_duplicates(inplace=True)"
   ]
  },
  {
   "cell_type": "code",
   "execution_count": 18,
   "metadata": {
    "ExecuteTime": {
     "end_time": "2021-03-13T18:20:12.973316Z",
     "start_time": "2021-03-13T18:20:12.961403Z"
    }
   },
   "outputs": [
    {
     "data": {
      "text/plain": [
       "0    25189\n",
       "1     6069\n",
       "2     5280\n",
       "Name: labels, dtype: int64"
      ]
     },
     "execution_count": 18,
     "metadata": {},
     "output_type": "execute_result"
    }
   ],
   "source": [
    "df['labels'].value_counts()"
   ]
  },
  {
   "cell_type": "code",
   "execution_count": 19,
   "metadata": {
    "ExecuteTime": {
     "end_time": "2021-03-13T18:20:49.657356Z",
     "start_time": "2021-03-13T18:20:49.626148Z"
    }
   },
   "outputs": [
    {
     "name": "stdout",
     "output_type": "stream",
     "text": [
      "<class 'pandas.core.frame.DataFrame'>\n",
      "Int64Index: 36538 entries, 0 to 36640\n",
      "Data columns (total 5 columns):\n",
      "headlines      36538 non-null object\n",
      "posted_time    36538 non-null object\n",
      "tokens         36538 non-null object\n",
      "labels         36538 non-null int64\n",
      "word_length    36538 non-null int64\n",
      "dtypes: int64(2), object(3)\n",
      "memory usage: 1.7+ MB\n"
     ]
    }
   ],
   "source": [
    "df.info()"
   ]
  },
  {
   "cell_type": "code",
   "execution_count": 24,
   "metadata": {
    "ExecuteTime": {
     "end_time": "2021-03-13T18:27:12.236922Z",
     "start_time": "2021-03-13T18:27:12.217513Z"
    }
   },
   "outputs": [],
   "source": [
    "stopwords = nltk.corpus.stopwords.words('english')\n",
    "wnl = WordNetLemmatizer()"
   ]
  },
  {
   "cell_type": "code",
   "execution_count": 30,
   "metadata": {
    "ExecuteTime": {
     "end_time": "2021-03-13T18:36:47.820580Z",
     "start_time": "2021-03-13T18:36:47.810658Z"
    }
   },
   "outputs": [],
   "source": [
    "def tfidf_vectorizer(dataframe):\n",
    "    \n",
    "    tfidf = TfidfVectorizer(stop_words=stopwords)\n",
    "    tfidf_sparse_mat = tfidf.fit_transform(dataframe['headlines'])\n",
    "    \n",
    "    tfidf_df = pd.DataFrame(tfidf_sparse_mat.toarray())\n",
    "    tfidf_df.columns = tfidf.get_feature_names()\n",
    "    \n",
    "    return tfidf_df"
   ]
  },
  {
   "cell_type": "code",
   "execution_count": 48,
   "metadata": {
    "ExecuteTime": {
     "end_time": "2021-03-13T19:27:27.098691Z",
     "start_time": "2021-03-13T19:27:27.081937Z"
    }
   },
   "outputs": [],
   "source": [
    "from sklearn.metrics import plot_confusion_matrix\n",
    "from sklearn.metrics import classification_report"
   ]
  },
  {
   "cell_type": "code",
   "execution_count": 31,
   "metadata": {
    "ExecuteTime": {
     "end_time": "2021-03-13T18:36:49.724334Z",
     "start_time": "2021-03-13T18:36:48.779255Z"
    }
   },
   "outputs": [],
   "source": [
    "df_modeling = tfidf_vectorizer(df)"
   ]
  },
  {
   "cell_type": "code",
   "execution_count": 32,
   "metadata": {
    "ExecuteTime": {
     "end_time": "2021-03-13T18:45:01.193870Z",
     "start_time": "2021-03-13T18:44:55.212492Z"
    }
   },
   "outputs": [],
   "source": [
    "X = df_modeling\n",
    "y = df['labels']\n",
    "X_train, X_test, y_train, y_test = train_test_split(X, y, test_size=0.3, stratify=y, random_state=123)"
   ]
  },
  {
   "cell_type": "code",
   "execution_count": 46,
   "metadata": {
    "ExecuteTime": {
     "end_time": "2021-03-13T19:10:37.565733Z",
     "start_time": "2021-03-13T19:09:34.398440Z"
    }
   },
   "outputs": [],
   "source": [
    "mnb_vanilla = MultinomialNB()\n",
    "mnb_vanilla.fit(X_train, y_train)\n",
    "mnb_vanilla_cv = cross_val_score(mnb_vanilla, X_train, y_train, cv=5, scoring='accuracy', n_jobs=-1)\n"
   ]
  },
  {
   "cell_type": "code",
   "execution_count": 45,
   "metadata": {
    "ExecuteTime": {
     "end_time": "2021-03-13T19:07:49.247001Z",
     "start_time": "2021-03-13T19:07:49.241739Z"
    }
   },
   "outputs": [],
   "source": [
    "def summary_scores(model, train_set_x, test_set_x, train_set_y, test_set_y, cross_val_var):\n",
    "    print(f'Training Accuracy: {model.score(train_set_x, train_set_y)}')\n",
    "    print(f'Cross Validation Accuracy: {np.mean(cross_val_var)}')\n",
    "    print(f'Testing Accuracy: {model.score(test_set_x, test_set_y)}')\n",
    "    "
   ]
  },
  {
   "cell_type": "code",
   "execution_count": 47,
   "metadata": {
    "ExecuteTime": {
     "end_time": "2021-03-13T19:11:34.889428Z",
     "start_time": "2021-03-13T19:11:31.762149Z"
    }
   },
   "outputs": [
    {
     "name": "stdout",
     "output_type": "stream",
     "text": [
      "Training Accuracy: 0.919885830466062\n",
      "Cross Validation Accuracy: 0.8973646245806955\n",
      "Testing Accuracy: 0.9064951651158548\n"
     ]
    }
   ],
   "source": [
    "summary_scores(mnb_vanilla, X_train, X_test, y_train, y_test, mnb_vanilla_cv)"
   ]
  },
  {
   "cell_type": "code",
   "execution_count": 50,
   "metadata": {
    "ExecuteTime": {
     "end_time": "2021-03-13T19:56:55.953598Z",
     "start_time": "2021-03-13T19:56:54.843620Z"
    }
   },
   "outputs": [
    {
     "name": "stdout",
     "output_type": "stream",
     "text": [
      "              precision    recall  f1-score   support\n",
      "\n",
      "           0       0.90      0.97      0.93      7557\n",
      "           1       0.89      0.85      0.87      1821\n",
      "           2       0.94      0.68      0.79      1584\n",
      "\n",
      "    accuracy                           0.91     10962\n",
      "   macro avg       0.91      0.83      0.87     10962\n",
      "weighted avg       0.91      0.91      0.90     10962\n",
      "\n"
     ]
    }
   ],
   "source": [
    "print(classification_report(y_test, mnb_vanilla.predict(X_test)))"
   ]
  },
  {
   "cell_type": "code",
   "execution_count": 51,
   "metadata": {
    "ExecuteTime": {
     "end_time": "2021-03-13T20:03:00.421659Z",
     "start_time": "2021-03-13T20:02:59.557891Z"
    }
   },
   "outputs": [
    {
     "data": {
      "text/plain": [
       "<sklearn.metrics._plot.confusion_matrix.ConfusionMatrixDisplay at 0x7f9d0556abe0>"
      ]
     },
     "execution_count": 51,
     "metadata": {},
     "output_type": "execute_result"
    },
    {
     "data": {
      "image/png": "[encoded data removed]",
      "text/plain": [
       "<Figure size 432x432 with 2 Axes>"
      ]
     },
     "metadata": {
      "needs_background": "light"
     },
     "output_type": "display_data"
    }
   ],
   "source": [
    "fig, ax = plt.subplots(figsize=(6, 6))\n",
    "plt.grid(False)\n",
    "plot_confusion_matrix(mnb_vanilla, X_test, y_test, cmap='Blues', ax=ax)"
   ]
  },
  {
   "cell_type": "code",
   "execution_count": 56,
   "metadata": {
    "ExecuteTime": {
     "end_time": "2021-03-13T23:47:36.088366Z",
     "start_time": "2021-03-13T23:39:10.561712Z"
    }
   },
   "outputs": [
    {
     "data": {
      "text/plain": [
       "{'alpha': 10, 'fit_prior': False}"
      ]
     },
     "execution_count": 56,
     "metadata": {},
     "output_type": "execute_result"
    }
   ],
   "source": [
    "mnb_vanilla_param = {'alpha':[0, 0.01, 1, 2, 10],\n",
    "                     'fit_prior':[True, False]}\n",
    "\n",
    "gs_mnb = GridSearchCV(mnb_vanilla, param_grid=mnb_vanilla_param, cv=5, n_jobs=-1)\n",
    "gs_mnb.fit(X_train, y_train)\n",
    "gs_mnb.best_params_"
   ]
  },
  {
   "cell_type": "code",
   "execution_count": 57,
   "metadata": {
    "ExecuteTime": {
     "end_time": "2021-03-14T00:14:55.087073Z",
     "start_time": "2021-03-13T23:47:36.092628Z"
    }
   },
   "outputs": [],
   "source": [
    "gs_mnb_vanilla_cv_mean = cross_val_score(gs_mnb, X_train, y_train,\n",
    "                                                 cv=5, scoring='accuracy', n_jobs=-1)"
   ]
  },
  {
   "cell_type": "code",
   "execution_count": 58,
   "metadata": {
    "ExecuteTime": {
     "end_time": "2021-03-14T00:31:32.803205Z",
     "start_time": "2021-03-14T00:31:27.971144Z"
    }
   },
   "outputs": [
    {
     "name": "stdout",
     "output_type": "stream",
     "text": [
      "Training Accuracy: 0.9183609634031905\n",
      "Cross Validation Accuracy: 0.9081169688256878\n",
      "Testing Accuracy: 0.9069512862616311\n"
     ]
    }
   ],
   "source": [
    "summary_scores(gs_mnb, X_train, X_test, y_train, y_test, gs_mnb_vanilla_cv_mean)"
   ]
  },
  {
   "cell_type": "code",
   "execution_count": 52,
   "metadata": {
    "ExecuteTime": {
     "end_time": "2021-03-13T21:13:02.458551Z",
     "start_time": "2021-03-13T20:38:56.294843Z"
    }
   },
   "outputs": [],
   "source": [
    "rf_vanilla = RandomForestClassifier()\n",
    "rf_vanilla.fit(X_train, y_train)\n",
    "rf_vanilla_cv = cross_val_score(rf_vanilla, X_train, y_train, cv=5, scoring='accuracy', n_jobs=-1)"
   ]
  },
  {
   "cell_type": "code",
   "execution_count": 53,
   "metadata": {
    "ExecuteTime": {
     "end_time": "2021-03-13T21:18:06.944269Z",
     "start_time": "2021-03-13T21:17:54.644673Z"
    }
   },
   "outputs": [
    {
     "name": "stdout",
     "output_type": "stream",
     "text": [
      "Training Accuracy: 1.0\n",
      "Cross Validation Accuracy: 0.9765013523975918\n",
      "Testing Accuracy: 0.9787447546068235\n"
     ]
    }
   ],
   "source": [
    "summary_scores(rf_vanilla, X_train, X_test, y_train, y_test, rf_vanilla_cv)"
   ]
  },
  {
   "cell_type": "code",
   "execution_count": 54,
   "metadata": {
    "ExecuteTime": {
     "end_time": "2021-03-13T21:31:35.349185Z",
     "start_time": "2021-03-13T21:31:32.548700Z"
    }
   },
   "outputs": [
    {
     "name": "stdout",
     "output_type": "stream",
     "text": [
      "              precision    recall  f1-score   support\n",
      "\n",
      "           0       0.99      0.97      0.98      7557\n",
      "           1       0.91      0.99      0.94      1821\n",
      "           2       0.99      0.99      0.99      1584\n",
      "\n",
      "    accuracy                           0.98     10962\n",
      "   macro avg       0.96      0.98      0.97     10962\n",
      "weighted avg       0.98      0.98      0.98     10962\n",
      "\n"
     ]
    }
   ],
   "source": [
    "print(classification_report(y_test, rf_vanilla.predict(X_test)))"
   ]
  },
  {
   "cell_type": "code",
   "execution_count": 55,
   "metadata": {
    "ExecuteTime": {
     "end_time": "2021-03-13T21:32:23.334897Z",
     "start_time": "2021-03-13T21:32:21.238204Z"
    }
   },
   "outputs": [
    {
     "data": {
      "text/plain": [
       "<sklearn.metrics._plot.confusion_matrix.ConfusionMatrixDisplay at 0x7f9aa18ccfd0>"
      ]
     },
     "execution_count": 55,
     "metadata": {},
     "output_type": "execute_result"
    },
    {
     "data": {
      "image/png": "[encoded data removed]",
      "text/plain": [
       "<Figure size 432x432 with 2 Axes>"
      ]
     },
     "metadata": {
      "needs_background": "light"
     },
     "output_type": "display_data"
    }
   ],
   "source": [
    "fig, ax = plt.subplots(figsize=(6, 6))\n",
    "plt.grid(False)\n",
    "plot_confusion_matrix(rf_vanilla, X_test, y_test, cmap='Blues', ax=ax)"
   ]
  },
  {
   "cell_type": "code",
   "execution_count": null,
   "metadata": {},
   "outputs": [],
   "source": []
  }
 ],
 "metadata": {
  "kernelspec": {
   "display_name": "learn-env",
   "language": "python",
   "name": "learn-env"
  },
  "language_info": {
   "codemirror_mode": {
    "name": "ipython",
    "version": 3
   },
   "file_extension": ".py",
   "mimetype": "text/x-python",
   "name": "python",
   "nbconvert_exporter": "python",
   "pygments_lexer": "ipython3",
   "version": "3.6.9"
  },
  "toc": {
   "base_numbering": 1,
   "nav_menu": {},
   "number_sections": true,
   "sideBar": true,
   "skip_h1_title": false,
   "title_cell": "Table of Contents",
   "title_sidebar": "Contents",
   "toc_cell": false,
   "toc_position": {},
   "toc_section_display": true,
   "toc_window_display": false
  }
 },
 "nbformat": 4,
 "nbformat_minor": 2
}
