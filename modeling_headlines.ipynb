{
 "cells": [
  {
   "cell_type": "markdown",
   "metadata": {},
   "source": [
    "In this notebook I will build and test models using the ESPN headlines data that I webscraped. I will be using both the Multinomial Naive Bayes and Random Forest algorithm from sklearn."
   ]
  },
  {
   "cell_type": "code",
   "execution_count": 2,
   "metadata": {
    "ExecuteTime": {
     "end_time": "2021-07-06T20:32:33.223376Z",
     "start_time": "2021-07-06T20:32:33.202831Z"
    }
   },
   "outputs": [],
   "source": [
    "#import libraries\n",
    "import numpy as np\n",
    "import pandas as pd\n",
    "import matplotlib.pyplot as plt\n",
    "import seaborn as sns\n",
    "\n",
    "from sklearn.model_selection import train_test_split, cross_val_score, GridSearchCV\n",
    "from sklearn.naive_bayes import MultinomialNB\n",
    "from sklearn.ensemble import RandomForestClassifier\n",
    "from sklearn.svm import SVC\n",
    "from sklearn.feature_extraction.text import TfidfVectorizer\n",
    "import string\n",
    "import nltk\n",
    "from nltk.stem import WordNetLemmatizer\n",
    "from sklearn.metrics import f1_score, recall_score, precision_score\n",
    "%matplotlib inline\n"
   ]
  },
  {
   "cell_type": "code",
   "execution_count": 3,
   "metadata": {
    "ExecuteTime": {
     "end_time": "2021-07-06T20:32:37.031726Z",
     "start_time": "2021-07-06T20:32:36.900315Z"
    }
   },
   "outputs": [],
   "source": [
    "df = pd.read_csv('data/espn_three_classes.csv') #import the data "
   ]
  },
  {
   "cell_type": "code",
   "execution_count": 4,
   "metadata": {
    "ExecuteTime": {
     "end_time": "2021-07-06T20:32:37.360100Z",
     "start_time": "2021-07-06T20:32:37.338653Z"
    }
   },
   "outputs": [
    {
     "data": {
      "text/plain": [
       "headlines      2\n",
       "posted_time    0\n",
       "tokens         0\n",
       "labels         0\n",
       "word_length    0\n",
       "dtype: int64"
      ]
     },
     "execution_count": 4,
     "metadata": {},
     "output_type": "execute_result"
    }
   ],
   "source": [
    "#check for null values\n",
    "df.isna().sum()"
   ]
  },
  {
   "cell_type": "code",
   "execution_count": 5,
   "metadata": {
    "ExecuteTime": {
     "end_time": "2021-07-06T20:32:37.823071Z",
     "start_time": "2021-07-06T20:32:37.780210Z"
    }
   },
   "outputs": [],
   "source": [
    "df.dropna(inplace=True) #drop all null rows"
   ]
  },
  {
   "cell_type": "code",
   "execution_count": 6,
   "metadata": {
    "ExecuteTime": {
     "end_time": "2021-07-06T20:32:38.298734Z",
     "start_time": "2021-07-06T20:32:38.230582Z"
    }
   },
   "outputs": [
    {
     "data": {
      "text/plain": [
       "headlines      36081\n",
       "posted_time     1880\n",
       "tokens         36063\n",
       "labels             3\n",
       "word_length       20\n",
       "dtype: int64"
      ]
     },
     "execution_count": 6,
     "metadata": {},
     "output_type": "execute_result"
    }
   ],
   "source": [
    "df.nunique()"
   ]
  },
  {
   "cell_type": "code",
   "execution_count": 7,
   "metadata": {
    "ExecuteTime": {
     "end_time": "2021-07-06T20:32:38.724585Z",
     "start_time": "2021-07-06T20:32:38.673214Z"
    }
   },
   "outputs": [],
   "source": [
    "df.drop_duplicates(inplace=True) #drop duplicates"
   ]
  },
  {
   "cell_type": "code",
   "execution_count": 8,
   "metadata": {
    "ExecuteTime": {
     "end_time": "2021-07-06T20:32:39.187606Z",
     "start_time": "2021-07-06T20:32:39.172149Z"
    }
   },
   "outputs": [
    {
     "data": {
      "text/plain": [
       "0    25189\n",
       "1     6069\n",
       "2     5280\n",
       "Name: labels, dtype: int64"
      ]
     },
     "execution_count": 8,
     "metadata": {},
     "output_type": "execute_result"
    }
   ],
   "source": [
    "df['labels'].value_counts() #checking class balance prior to modeling"
   ]
  },
  {
   "cell_type": "markdown",
   "metadata": {},
   "source": [
    "As a reminder here are the descriptions of the topics:\n",
    "\n",
    "0. Mixed Bag of Topics - major keywords are 'LeBron', 'Warriors', and 'Lakers' and 'Source'\n",
    "1. Game Scores/Outcomes \n",
    "2. NBA Draft and Daily Fantasy Basketball Updates\n",
    "\n",
    "Although we have a class imbalance, we will build and test baseline models to evaluate performance before deciding if we need to undersample or oversample."
   ]
  },
  {
   "cell_type": "code",
   "execution_count": 9,
   "metadata": {
    "ExecuteTime": {
     "end_time": "2021-07-06T20:32:41.434174Z",
     "start_time": "2021-07-06T20:32:41.420531Z"
    }
   },
   "outputs": [],
   "source": [
    "stopwords = nltk.corpus.stopwords.words('english')\n",
    "wnl = WordNetLemmatizer()"
   ]
  },
  {
   "cell_type": "code",
   "execution_count": 10,
   "metadata": {
    "ExecuteTime": {
     "end_time": "2021-07-06T20:32:41.877967Z",
     "start_time": "2021-07-06T20:32:41.872782Z"
    }
   },
   "outputs": [],
   "source": [
    "from sklearn.metrics import plot_confusion_matrix\n",
    "from sklearn.metrics import classification_report"
   ]
  },
  {
   "cell_type": "code",
   "execution_count": 11,
   "metadata": {
    "ExecuteTime": {
     "end_time": "2021-07-06T20:32:42.471017Z",
     "start_time": "2021-07-06T20:32:42.432185Z"
    }
   },
   "outputs": [],
   "source": [
    "X = df['headlines'] #split headlines \n",
    "y = df['labels']\n",
    "X_train, X_test, y_train, y_test = train_test_split(X, y, test_size=0.3, stratify=y, random_state=123)"
   ]
  },
  {
   "cell_type": "code",
   "execution_count": 12,
   "metadata": {
    "ExecuteTime": {
     "end_time": "2021-07-06T20:32:43.931806Z",
     "start_time": "2021-07-06T20:32:43.536472Z"
    }
   },
   "outputs": [],
   "source": [
    "vectorizer = TfidfVectorizer(stop_words=stopwords)\n",
    "\n",
    "X_train_sparse = vectorizer.fit_transform(X_train) #fit transform on training data\n",
    "X_test_sparse = vectorizer.transform(X_test) #transform on testing data"
   ]
  },
  {
   "cell_type": "markdown",
   "metadata": {},
   "source": [
    "## Multinomial Naive Bayes"
   ]
  },
  {
   "cell_type": "code",
   "execution_count": 13,
   "metadata": {
    "ExecuteTime": {
     "end_time": "2021-07-06T20:32:52.485044Z",
     "start_time": "2021-07-06T20:32:49.126709Z"
    }
   },
   "outputs": [],
   "source": [
    "mnb_vanilla = MultinomialNB() #instantiate model\n",
    "mnb_vanilla.fit(X_train_sparse, y_train) #train model\n",
    "\n",
    "#perform cross validation to ensure we have a robust model\n",
    "mnb_vanilla_cv = cross_val_score(mnb_vanilla, X_train_sparse, y_train, cv=5, scoring='accuracy', n_jobs=-1)\n"
   ]
  },
  {
   "cell_type": "code",
   "execution_count": 14,
   "metadata": {
    "ExecuteTime": {
     "end_time": "2021-07-06T20:34:19.442753Z",
     "start_time": "2021-07-06T20:34:19.433889Z"
    }
   },
   "outputs": [],
   "source": [
    "def summary_scores(model, train_set_x, test_set_x, train_set_y, test_set_y, cross_val_var):\n",
    "    \n",
    "    \"\"\"This is a simple function that will compute the accuracy score for model based on training and \n",
    "    testing data.  The user inputs are as follows:\n",
    "    \n",
    "    model: instantiated and trained model object.\n",
    "    train_set_x: training data\n",
    "    test_set_x: testing data\n",
    "    train_set_y: target values for training data\n",
    "    test_set_y: target values for testing data\n",
    "    cross_Val_var: array-like. Collection of cross-validated scoring metric.\n",
    "    \"\"\"\n",
    "    print(f'Training Accuracy: {model.score(train_set_x, train_set_y)}')\n",
    "    print(f'Cross Validation Accuracy: {np.mean(cross_val_var)}')\n",
    "    print(f'Testing Accuracy: {model.score(test_set_x, test_set_y)}')\n",
    "    print(f'F1 Score: {f1_score(test_set_y, model.predict(test_set_x), average=\"weighted\")}')\n",
    "    print(f'Recall: {recall_score(test_set_y, model.predict(test_set_x), average=\"weighted\")}')\n",
    "    print(f'Precision: {precision_score(test_set_y, model.predict(test_set_x), average=\"weighted\")}')"
   ]
  },
  {
   "cell_type": "code",
   "execution_count": 15,
   "metadata": {
    "ExecuteTime": {
     "end_time": "2021-07-06T20:34:20.392281Z",
     "start_time": "2021-07-06T20:34:20.345364Z"
    }
   },
   "outputs": [
    {
     "name": "stdout",
     "output_type": "stream",
     "text": [
      "Training Accuracy: 0.9234438536127619\n",
      "Cross Validation Accuracy: 0.9008835715219231\n",
      "Testing Accuracy: 0.9088669950738916\n",
      "F1 Score: 0.9059673155940781\n",
      "Recall: 0.9088669950738916\n",
      "Precision: 0.9102216564216669\n"
     ]
    }
   ],
   "source": [
    "summary_scores(mnb_vanilla, X_train_sparse, X_test_sparse, y_train, y_test, mnb_vanilla_cv)"
   ]
  },
  {
   "cell_type": "code",
   "execution_count": 16,
   "metadata": {
    "ExecuteTime": {
     "end_time": "2021-07-06T20:34:22.772810Z",
     "start_time": "2021-07-06T20:34:22.738499Z"
    }
   },
   "outputs": [
    {
     "name": "stdout",
     "output_type": "stream",
     "text": [
      "              precision    recall  f1-score   support\n",
      "\n",
      "           0       0.91      0.97      0.94      7557\n",
      "           1       0.89      0.86      0.87      1821\n",
      "           2       0.94      0.69      0.80      1584\n",
      "\n",
      "    accuracy                           0.91     10962\n",
      "   macro avg       0.91      0.84      0.87     10962\n",
      "weighted avg       0.91      0.91      0.91     10962\n",
      "\n"
     ]
    }
   ],
   "source": [
    "print(classification_report(y_test, mnb_vanilla.predict(X_test_sparse)))"
   ]
  },
  {
   "cell_type": "code",
   "execution_count": 17,
   "metadata": {
    "ExecuteTime": {
     "end_time": "2021-07-06T20:34:23.612654Z",
     "start_time": "2021-07-06T20:34:23.275150Z"
    }
   },
   "outputs": [
    {
     "data": {
      "image/png": "[encoded data removed]",
      "text/plain": [
       "<Figure size 432x432 with 2 Axes>"
      ]
     },
     "metadata": {
      "needs_background": "light"
     },
     "output_type": "display_data"
    }
   ],
   "source": [
    "fig, ax = plt.subplots(figsize=(6, 6))\n",
    "plt.grid(False)\n",
    "plot_confusion_matrix(mnb_vanilla, X_test_sparse, y_test, cmap='Blues', ax=ax)\n",
    "plt.savefig('MultinomialNB_vanilla_conf_matrix.png')"
   ]
  },
  {
   "cell_type": "markdown",
   "metadata": {},
   "source": [
    "The Multinomial Naive Bayes model does incredibly well for a vanilla model.  The worst predicted class is group 2. Given that group zero is a mixed bag of topics, there may be a large enough number of headlines in group zero that are closely related to the NBA draft or NBA fantasy updates to cause those misclassifications. \n",
    "\n",
    "We will perform a grid search to see if we can improve the model performance."
   ]
  },
  {
   "cell_type": "code",
   "execution_count": 18,
   "metadata": {
    "ExecuteTime": {
     "end_time": "2021-07-06T20:34:24.812110Z",
     "start_time": "2021-07-06T20:34:24.303244Z"
    }
   },
   "outputs": [
    {
     "data": {
      "text/plain": [
       "{'alpha': 10, 'fit_prior': False}"
      ]
     },
     "execution_count": 18,
     "metadata": {},
     "output_type": "execute_result"
    }
   ],
   "source": [
    "mnb_vanilla_param = {'alpha':[0, 0.01, 1, 2, 10],\n",
    "                     'fit_prior':[True, False]}\n",
    "\n",
    "gs_mnb = GridSearchCV(mnb_vanilla, param_grid=mnb_vanilla_param, cv=5, n_jobs=-1)\n",
    "gs_mnb.fit(X_train_sparse, y_train)\n",
    "gs_mnb.best_params_"
   ]
  },
  {
   "cell_type": "code",
   "execution_count": 19,
   "metadata": {
    "ExecuteTime": {
     "end_time": "2021-07-06T20:34:26.089494Z",
     "start_time": "2021-07-06T20:34:24.851934Z"
    }
   },
   "outputs": [],
   "source": [
    "gs_mnb_vanilla_cv_mean = cross_val_score(gs_mnb, X_train_sparse, y_train,\n",
    "                                                 cv=5, scoring='accuracy', n_jobs=-1)"
   ]
  },
  {
   "cell_type": "code",
   "execution_count": 20,
   "metadata": {
    "ExecuteTime": {
     "end_time": "2021-07-06T20:34:26.142018Z",
     "start_time": "2021-07-06T20:34:26.093115Z"
    }
   },
   "outputs": [
    {
     "name": "stdout",
     "output_type": "stream",
     "text": [
      "Training Accuracy: 0.9162105098529871\n",
      "Cross Validation Accuracy: 0.9060056847320082\n",
      "Testing Accuracy: 0.9116037219485496\n",
      "F1 Score: 0.911725412964057\n",
      "Recall: 0.9116037219485496\n",
      "Precision: 0.9120937244076862\n"
     ]
    }
   ],
   "source": [
    "summary_scores(gs_mnb, X_train_sparse, X_test_sparse, y_train, y_test, gs_mnb_vanilla_cv_mean)"
   ]
  },
  {
   "cell_type": "markdown",
   "metadata": {},
   "source": [
    "The grid search optimization does improve the cross validation accuracy slightly, but there is a slight dip in testing accuracy.\n",
    "\n",
    "Considering that we haven't used PCA to reduce the components (and still have ~12,000 unique tokens) it is encouraging to know that the model is not overfitting the data. Obviously, we would need to test the model on a new set of headlines that weren't part of the clustering we did previously to ensure the the model is fully generalizable."
   ]
  },
  {
   "cell_type": "markdown",
   "metadata": {},
   "source": [
    "## Random Forests"
   ]
  },
  {
   "cell_type": "code",
   "execution_count": 21,
   "metadata": {
    "ExecuteTime": {
     "end_time": "2021-07-06T20:35:53.605439Z",
     "start_time": "2021-07-06T20:34:26.768729Z"
    }
   },
   "outputs": [],
   "source": [
    "rf_vanilla = RandomForestClassifier()\n",
    "rf_vanilla.fit(X_train_sparse, y_train)\n",
    "rf_vanilla_cv = cross_val_score(rf_vanilla, X_train_sparse, y_train, cv=5, scoring='accuracy', n_jobs=-1)"
   ]
  },
  {
   "cell_type": "code",
   "execution_count": 22,
   "metadata": {
    "ExecuteTime": {
     "end_time": "2021-07-06T20:35:57.616368Z",
     "start_time": "2021-07-06T20:35:53.607700Z"
    }
   },
   "outputs": [
    {
     "name": "stdout",
     "output_type": "stream",
     "text": [
      "Training Accuracy: 1.0\n",
      "Cross Validation Accuracy: 0.9759539351751009\n",
      "Testing Accuracy: 0.9767378215654078\n",
      "F1 Score: 0.9770638103387119\n",
      "Recall: 0.9767378215654078\n",
      "Precision: 0.9781790460544196\n"
     ]
    }
   ],
   "source": [
    "summary_scores(rf_vanilla, X_train_sparse, X_test_sparse, y_train, y_test, rf_vanilla_cv)"
   ]
  },
  {
   "cell_type": "code",
   "execution_count": 23,
   "metadata": {
    "ExecuteTime": {
     "end_time": "2021-07-06T20:35:58.340747Z",
     "start_time": "2021-07-06T20:35:57.632356Z"
    }
   },
   "outputs": [
    {
     "name": "stdout",
     "output_type": "stream",
     "text": [
      "              precision    recall  f1-score   support\n",
      "\n",
      "           0       0.99      0.97      0.98      7557\n",
      "           1       0.90      0.98      0.94      1821\n",
      "           2       0.99      0.99      0.99      1584\n",
      "\n",
      "    accuracy                           0.98     10962\n",
      "   macro avg       0.96      0.98      0.97     10962\n",
      "weighted avg       0.98      0.98      0.98     10962\n",
      "\n"
     ]
    }
   ],
   "source": [
    "print(classification_report(y_test, rf_vanilla.predict(X_test_sparse)))"
   ]
  },
  {
   "cell_type": "code",
   "execution_count": 24,
   "metadata": {
    "ExecuteTime": {
     "end_time": "2021-07-06T20:35:59.220817Z",
     "start_time": "2021-07-06T20:35:58.343588Z"
    }
   },
   "outputs": [
    {
     "data": {
      "image/png": "[encoded data removed]",
      "text/plain": [
       "<Figure size 432x432 with 2 Axes>"
      ]
     },
     "metadata": {
      "needs_background": "light"
     },
     "output_type": "display_data"
    }
   ],
   "source": [
    "fig, ax = plt.subplots(figsize=(6, 6))\n",
    "plt.grid(False)\n",
    "plot_confusion_matrix(rf_vanilla, X_test_sparse, y_test, cmap='Blues', ax=ax)\n",
    "plt.savefig('random_forest_vanilla_conf_matrix.png')"
   ]
  },
  {
   "cell_type": "code",
   "execution_count": 25,
   "metadata": {
    "ExecuteTime": {
     "end_time": "2021-07-06T20:35:59.230001Z",
     "start_time": "2021-07-06T20:35:59.223642Z"
    }
   },
   "outputs": [],
   "source": [
    "#store tree depths in a list\n",
    "vanilla_tree_depths = [estimator.get_depth() for estimator in rf_vanilla.estimators_] "
   ]
  },
  {
   "cell_type": "code",
   "execution_count": 26,
   "metadata": {
    "ExecuteTime": {
     "end_time": "2021-07-06T20:35:59.241002Z",
     "start_time": "2021-07-06T20:35:59.233158Z"
    },
    "scrolled": true
   },
   "outputs": [
    {
     "data": {
      "text/plain": [
       "[332,\n",
       " 179,\n",
       " 294,\n",
       " 342,\n",
       " 182,\n",
       " 207,\n",
       " 285,\n",
       " 208,\n",
       " 217,\n",
       " 305,\n",
       " 181,\n",
       " 196,\n",
       " 286,\n",
       " 247,\n",
       " 242,\n",
       " 366,\n",
       " 197,\n",
       " 221,\n",
       " 219,\n",
       " 253,\n",
       " 302,\n",
       " 213,\n",
       " 243,\n",
       " 249,\n",
       " 171,\n",
       " 305,\n",
       " 266,\n",
       " 403,\n",
       " 174,\n",
       " 307,\n",
       " 216,\n",
       " 181,\n",
       " 230,\n",
       " 379,\n",
       " 427,\n",
       " 425,\n",
       " 198,\n",
       " 212,\n",
       " 269,\n",
       " 276,\n",
       " 268,\n",
       " 333,\n",
       " 253,\n",
       " 339,\n",
       " 333,\n",
       " 236,\n",
       " 198,\n",
       " 229,\n",
       " 171,\n",
       " 234,\n",
       " 263,\n",
       " 200,\n",
       " 228,\n",
       " 229,\n",
       " 493,\n",
       " 259,\n",
       " 307,\n",
       " 301,\n",
       " 319,\n",
       " 443,\n",
       " 258,\n",
       " 237,\n",
       " 245,\n",
       " 227,\n",
       " 168,\n",
       " 207,\n",
       " 258,\n",
       " 256,\n",
       " 194,\n",
       " 192,\n",
       " 226,\n",
       " 305,\n",
       " 193,\n",
       " 267,\n",
       " 219,\n",
       " 424,\n",
       " 286,\n",
       " 196,\n",
       " 207,\n",
       " 206,\n",
       " 224,\n",
       " 262,\n",
       " 324,\n",
       " 254,\n",
       " 249,\n",
       " 278,\n",
       " 271,\n",
       " 213,\n",
       " 235,\n",
       " 248,\n",
       " 247,\n",
       " 232,\n",
       " 310,\n",
       " 264,\n",
       " 292,\n",
       " 215,\n",
       " 230,\n",
       " 253,\n",
       " 320,\n",
       " 203]"
      ]
     },
     "execution_count": 26,
     "metadata": {},
     "output_type": "execute_result"
    }
   ],
   "source": [
    "vanilla_tree_depths #check depths of each tree"
   ]
  },
  {
   "cell_type": "markdown",
   "metadata": {},
   "source": [
    "The vanilla model for the random forest is even more accurate than the naive bayes model! With three general topics, we can pretty easily classify these headlines which means we could certainly (after more testing) use this classification model as the first half to a recommendation engine."
   ]
  },
  {
   "cell_type": "markdown",
   "metadata": {},
   "source": [
    "## Using Relabeled Data from Group Zero"
   ]
  },
  {
   "cell_type": "markdown",
   "metadata": {},
   "source": [
    "Since the two vanilla models we built that had 3 classes performed so well, it is time to see if the model peformance holds up when we introduce more specific classes. Again I'll just be using the multinomial bayes and random forest algorithms."
   ]
  },
  {
   "cell_type": "code",
   "execution_count": 27,
   "metadata": {
    "ExecuteTime": {
     "end_time": "2021-07-06T20:35:59.378336Z",
     "start_time": "2021-07-06T20:35:59.244119Z"
    }
   },
   "outputs": [],
   "source": [
    "espn_df = pd.read_csv('data/espn_three_classes.csv')"
   ]
  },
  {
   "cell_type": "code",
   "execution_count": 28,
   "metadata": {
    "ExecuteTime": {
     "end_time": "2021-07-06T20:35:59.473017Z",
     "start_time": "2021-07-06T20:35:59.385945Z"
    }
   },
   "outputs": [],
   "source": [
    "grp_zero_recluster = pd.read_csv('data/espn_grp_zero_recluster.csv')"
   ]
  },
  {
   "cell_type": "code",
   "execution_count": 29,
   "metadata": {
    "ExecuteTime": {
     "end_time": "2021-07-06T20:35:59.500899Z",
     "start_time": "2021-07-06T20:35:59.476314Z"
    }
   },
   "outputs": [
    {
     "data": {
      "text/html": [
       "<div>\n",
       "<style scoped>\n",
       "    .dataframe tbody tr th:only-of-type {\n",
       "        vertical-align: middle;\n",
       "    }\n",
       "\n",
       "    .dataframe tbody tr th {\n",
       "        vertical-align: top;\n",
       "    }\n",
       "\n",
       "    .dataframe thead th {\n",
       "        text-align: right;\n",
       "    }\n",
       "</style>\n",
       "<table border=\"1\" class=\"dataframe\">\n",
       "  <thead>\n",
       "    <tr style=\"text-align: right;\">\n",
       "      <th></th>\n",
       "      <th>headlines</th>\n",
       "      <th>posted_time</th>\n",
       "      <th>tokens</th>\n",
       "      <th>labels</th>\n",
       "      <th>secondary_labels</th>\n",
       "      <th>kmeans_3_labels</th>\n",
       "    </tr>\n",
       "  </thead>\n",
       "  <tbody>\n",
       "    <tr>\n",
       "      <td>0</td>\n",
       "      <td>Wade matches King for 42nd on scoring list in win</td>\n",
       "      <td>2016-02-01</td>\n",
       "      <td>['wade', 'match', 'king', '42nd', 'scoring', '...</td>\n",
       "      <td>0</td>\n",
       "      <td>0</td>\n",
       "      <td>0</td>\n",
       "    </tr>\n",
       "    <tr>\n",
       "      <td>1</td>\n",
       "      <td>Chick Hearn's widow, Marge Hearn, dies at 98</td>\n",
       "      <td>2016-01-31</td>\n",
       "      <td>['chick', 'hearns', 'widow', 'marge', 'hearn',...</td>\n",
       "      <td>0</td>\n",
       "      <td>0</td>\n",
       "      <td>0</td>\n",
       "    </tr>\n",
       "    <tr>\n",
       "      <td>2</td>\n",
       "      <td>Wittman to miss 2 games after brother's death</td>\n",
       "      <td>2016-01-31</td>\n",
       "      <td>['wittman', 'miss', '2', 'game', 'brother', 'd...</td>\n",
       "      <td>0</td>\n",
       "      <td>0</td>\n",
       "      <td>0</td>\n",
       "    </tr>\n",
       "    <tr>\n",
       "      <td>3</td>\n",
       "      <td>LeBron atones for wardrobe mismatch vs. Spurs</td>\n",
       "      <td>2016-01-31</td>\n",
       "      <td>['lebron', 'atones', 'wardrobe', 'mismatch', '...</td>\n",
       "      <td>0</td>\n",
       "      <td>0</td>\n",
       "      <td>1</td>\n",
       "    </tr>\n",
       "    <tr>\n",
       "      <td>4</td>\n",
       "      <td>Source: Rockets petition to rescind Howard's t...</td>\n",
       "      <td>2016-01-31</td>\n",
       "      <td>['source', 'rocket', 'petition', 'rescind', 'h...</td>\n",
       "      <td>0</td>\n",
       "      <td>0</td>\n",
       "      <td>0</td>\n",
       "    </tr>\n",
       "  </tbody>\n",
       "</table>\n",
       "</div>"
      ],
      "text/plain": [
       "                                           headlines posted_time  \\\n",
       "0  Wade matches King for 42nd on scoring list in win  2016-02-01   \n",
       "1       Chick Hearn's widow, Marge Hearn, dies at 98  2016-01-31   \n",
       "2      Wittman to miss 2 games after brother's death  2016-01-31   \n",
       "3      LeBron atones for wardrobe mismatch vs. Spurs  2016-01-31   \n",
       "4  Source: Rockets petition to rescind Howard's t...  2016-01-31   \n",
       "\n",
       "                                              tokens  labels  \\\n",
       "0  ['wade', 'match', 'king', '42nd', 'scoring', '...       0   \n",
       "1  ['chick', 'hearns', 'widow', 'marge', 'hearn',...       0   \n",
       "2  ['wittman', 'miss', '2', 'game', 'brother', 'd...       0   \n",
       "3  ['lebron', 'atones', 'wardrobe', 'mismatch', '...       0   \n",
       "4  ['source', 'rocket', 'petition', 'rescind', 'h...       0   \n",
       "\n",
       "   secondary_labels  kmeans_3_labels  \n",
       "0                 0                0  \n",
       "1                 0                0  \n",
       "2                 0                0  \n",
       "3                 0                1  \n",
       "4                 0                0  "
      ]
     },
     "execution_count": 29,
     "metadata": {},
     "output_type": "execute_result"
    }
   ],
   "source": [
    "grp_zero_recluster.head()"
   ]
  },
  {
   "cell_type": "code",
   "execution_count": 30,
   "metadata": {
    "ExecuteTime": {
     "end_time": "2021-07-06T20:35:59.515788Z",
     "start_time": "2021-07-06T20:35:59.505645Z"
    }
   },
   "outputs": [
    {
     "data": {
      "text/plain": [
       "0    23413\n",
       "1     1808\n",
       "Name: secondary_labels, dtype: int64"
      ]
     },
     "execution_count": 30,
     "metadata": {},
     "output_type": "execute_result"
    }
   ],
   "source": [
    "grp_zero_recluster['secondary_labels'].value_counts()"
   ]
  },
  {
   "cell_type": "code",
   "execution_count": 31,
   "metadata": {
    "ExecuteTime": {
     "end_time": "2021-07-06T20:35:59.527765Z",
     "start_time": "2021-07-06T20:35:59.518707Z"
    }
   },
   "outputs": [],
   "source": [
    "grp_zero_recluster.rename(columns={'secondary_labels':'four_labels','kmeans_3_labels':'five_labels'}, \n",
    "                          inplace=True) #rename columns"
   ]
  },
  {
   "cell_type": "code",
   "execution_count": 32,
   "metadata": {
    "ExecuteTime": {
     "end_time": "2021-07-06T20:35:59.609480Z",
     "start_time": "2021-07-06T20:35:59.530554Z"
    }
   },
   "outputs": [],
   "source": [
    "grp_zero_recluster['four_labels'] = grp_zero_recluster['four_labels'] + 3 #change value of labels for subclusters\n",
    "grp_zero_recluster['five_labels'] = grp_zero_recluster['five_labels'] + 3"
   ]
  },
  {
   "cell_type": "code",
   "execution_count": 33,
   "metadata": {
    "ExecuteTime": {
     "end_time": "2021-07-06T20:35:59.626600Z",
     "start_time": "2021-07-06T20:35:59.612474Z"
    }
   },
   "outputs": [
    {
     "name": "stdout",
     "output_type": "stream",
     "text": [
      "<class 'pandas.core.frame.DataFrame'>\n",
      "RangeIndex: 25221 entries, 0 to 25220\n",
      "Data columns (total 6 columns):\n",
      "headlines      25219 non-null object\n",
      "posted_time    25221 non-null object\n",
      "tokens         25221 non-null object\n",
      "labels         25221 non-null int64\n",
      "four_labels    25221 non-null int64\n",
      "five_labels    25221 non-null int64\n",
      "dtypes: int64(3), object(3)\n",
      "memory usage: 1.2+ MB\n"
     ]
    }
   ],
   "source": [
    "grp_zero_recluster.info()"
   ]
  },
  {
   "cell_type": "code",
   "execution_count": 38,
   "metadata": {
    "ExecuteTime": {
     "end_time": "2021-07-06T21:12:08.085160Z",
     "start_time": "2021-07-06T21:12:08.065890Z"
    },
    "scrolled": true
   },
   "outputs": [
    {
     "name": "stderr",
     "output_type": "stream",
     "text": [
      "/Users/jeremylee/opt/anaconda3/envs/learn-env/lib/python3.6/site-packages/ipykernel_launcher.py:5: SettingWithCopyWarning: \n",
      "A value is trying to be set on a copy of a slice from a DataFrame.\n",
      "Try using .loc[row_indexer,col_indexer] = value instead\n",
      "\n",
      "See the caveats in the documentation: http://pandas.pydata.org/pandas-docs/stable/user_guide/indexing.html#returning-a-view-versus-a-copy\n",
      "  \"\"\"\n",
      "/Users/jeremylee/opt/anaconda3/envs/learn-env/lib/python3.6/site-packages/ipykernel_launcher.py:6: SettingWithCopyWarning: \n",
      "A value is trying to be set on a copy of a slice from a DataFrame.\n",
      "Try using .loc[row_indexer,col_indexer] = value instead\n",
      "\n",
      "See the caveats in the documentation: http://pandas.pydata.org/pandas-docs/stable/user_guide/indexing.html#returning-a-view-versus-a-copy\n",
      "  \n",
      "/Users/jeremylee/opt/anaconda3/envs/learn-env/lib/python3.6/site-packages/ipykernel_launcher.py:8: SettingWithCopyWarning: \n",
      "A value is trying to be set on a copy of a slice from a DataFrame.\n",
      "Try using .loc[row_indexer,col_indexer] = value instead\n",
      "\n",
      "See the caveats in the documentation: http://pandas.pydata.org/pandas-docs/stable/user_guide/indexing.html#returning-a-view-versus-a-copy\n",
      "  \n",
      "/Users/jeremylee/opt/anaconda3/envs/learn-env/lib/python3.6/site-packages/ipykernel_launcher.py:9: SettingWithCopyWarning: \n",
      "A value is trying to be set on a copy of a slice from a DataFrame.\n",
      "Try using .loc[row_indexer,col_indexer] = value instead\n",
      "\n",
      "See the caveats in the documentation: http://pandas.pydata.org/pandas-docs/stable/user_guide/indexing.html#returning-a-view-versus-a-copy\n",
      "  if __name__ == '__main__':\n"
     ]
    }
   ],
   "source": [
    "espn_df_grp_one = espn_df.loc[espn_df['labels'] == 1] #grab all original group one headlines\n",
    "espn_df_grp_two = espn_df.loc[espn_df['labels'] == 2] #grab all original group two headlines\n",
    "\n",
    "\n",
    "espn_df_grp_one['four_labels'] = 1\n",
    "espn_df_grp_one['five_labels'] = 1\n",
    "\n",
    "espn_df_grp_two['four_labels'] = 2\n",
    "espn_df_grp_two['five_labels'] = 2"
   ]
  },
  {
   "cell_type": "code",
   "execution_count": 39,
   "metadata": {
    "ExecuteTime": {
     "end_time": "2021-07-06T21:12:09.225186Z",
     "start_time": "2021-07-06T21:12:09.199726Z"
    }
   },
   "outputs": [
    {
     "name": "stderr",
     "output_type": "stream",
     "text": [
      "/Users/jeremylee/opt/anaconda3/envs/learn-env/lib/python3.6/site-packages/pandas/core/frame.py:4102: SettingWithCopyWarning: \n",
      "A value is trying to be set on a copy of a slice from a DataFrame\n",
      "\n",
      "See the caveats in the documentation: http://pandas.pydata.org/pandas-docs/stable/user_guide/indexing.html#returning-a-view-versus-a-copy\n",
      "  errors=errors,\n"
     ]
    }
   ],
   "source": [
    "espn_df_grp_one.drop(columns=['word_length'], inplace=True)\n",
    "espn_df_grp_two.drop(columns=['word_length'], inplace=True)"
   ]
  },
  {
   "cell_type": "code",
   "execution_count": 40,
   "metadata": {
    "ExecuteTime": {
     "end_time": "2021-07-06T21:12:11.583349Z",
     "start_time": "2021-07-06T21:12:11.567897Z"
    }
   },
   "outputs": [],
   "source": [
    "#create new variable for relabeled dataframe\n",
    "df_relabel = pd.concat([grp_zero_recluster, espn_df_grp_one, espn_df_grp_two], ignore_index=True)"
   ]
  },
  {
   "cell_type": "code",
   "execution_count": 41,
   "metadata": {
    "ExecuteTime": {
     "end_time": "2021-07-06T21:12:14.019338Z",
     "start_time": "2021-07-06T21:12:14.004296Z"
    }
   },
   "outputs": [
    {
     "data": {
      "text/html": [
       "<div>\n",
       "<style scoped>\n",
       "    .dataframe tbody tr th:only-of-type {\n",
       "        vertical-align: middle;\n",
       "    }\n",
       "\n",
       "    .dataframe tbody tr th {\n",
       "        vertical-align: top;\n",
       "    }\n",
       "\n",
       "    .dataframe thead th {\n",
       "        text-align: right;\n",
       "    }\n",
       "</style>\n",
       "<table border=\"1\" class=\"dataframe\">\n",
       "  <thead>\n",
       "    <tr style=\"text-align: right;\">\n",
       "      <th></th>\n",
       "      <th>headlines</th>\n",
       "      <th>posted_time</th>\n",
       "      <th>tokens</th>\n",
       "      <th>labels</th>\n",
       "      <th>four_labels</th>\n",
       "      <th>five_labels</th>\n",
       "    </tr>\n",
       "  </thead>\n",
       "  <tbody>\n",
       "    <tr>\n",
       "      <td>0</td>\n",
       "      <td>Wade matches King for 42nd on scoring list in win</td>\n",
       "      <td>2016-02-01</td>\n",
       "      <td>['wade', 'match', 'king', '42nd', 'scoring', '...</td>\n",
       "      <td>0</td>\n",
       "      <td>3</td>\n",
       "      <td>3</td>\n",
       "    </tr>\n",
       "    <tr>\n",
       "      <td>1</td>\n",
       "      <td>Chick Hearn's widow, Marge Hearn, dies at 98</td>\n",
       "      <td>2016-01-31</td>\n",
       "      <td>['chick', 'hearns', 'widow', 'marge', 'hearn',...</td>\n",
       "      <td>0</td>\n",
       "      <td>3</td>\n",
       "      <td>3</td>\n",
       "    </tr>\n",
       "    <tr>\n",
       "      <td>2</td>\n",
       "      <td>Wittman to miss 2 games after brother's death</td>\n",
       "      <td>2016-01-31</td>\n",
       "      <td>['wittman', 'miss', '2', 'game', 'brother', 'd...</td>\n",
       "      <td>0</td>\n",
       "      <td>3</td>\n",
       "      <td>3</td>\n",
       "    </tr>\n",
       "    <tr>\n",
       "      <td>3</td>\n",
       "      <td>LeBron atones for wardrobe mismatch vs. Spurs</td>\n",
       "      <td>2016-01-31</td>\n",
       "      <td>['lebron', 'atones', 'wardrobe', 'mismatch', '...</td>\n",
       "      <td>0</td>\n",
       "      <td>3</td>\n",
       "      <td>4</td>\n",
       "    </tr>\n",
       "    <tr>\n",
       "      <td>4</td>\n",
       "      <td>Source: Rockets petition to rescind Howard's t...</td>\n",
       "      <td>2016-01-31</td>\n",
       "      <td>['source', 'rocket', 'petition', 'rescind', 'h...</td>\n",
       "      <td>0</td>\n",
       "      <td>3</td>\n",
       "      <td>3</td>\n",
       "    </tr>\n",
       "  </tbody>\n",
       "</table>\n",
       "</div>"
      ],
      "text/plain": [
       "                                           headlines posted_time  \\\n",
       "0  Wade matches King for 42nd on scoring list in win  2016-02-01   \n",
       "1       Chick Hearn's widow, Marge Hearn, dies at 98  2016-01-31   \n",
       "2      Wittman to miss 2 games after brother's death  2016-01-31   \n",
       "3      LeBron atones for wardrobe mismatch vs. Spurs  2016-01-31   \n",
       "4  Source: Rockets petition to rescind Howard's t...  2016-01-31   \n",
       "\n",
       "                                              tokens  labels  four_labels  \\\n",
       "0  ['wade', 'match', 'king', '42nd', 'scoring', '...       0            3   \n",
       "1  ['chick', 'hearns', 'widow', 'marge', 'hearn',...       0            3   \n",
       "2  ['wittman', 'miss', '2', 'game', 'brother', 'd...       0            3   \n",
       "3  ['lebron', 'atones', 'wardrobe', 'mismatch', '...       0            3   \n",
       "4  ['source', 'rocket', 'petition', 'rescind', 'h...       0            3   \n",
       "\n",
       "   five_labels  \n",
       "0            3  \n",
       "1            3  \n",
       "2            3  \n",
       "3            4  \n",
       "4            3  "
      ]
     },
     "execution_count": 41,
     "metadata": {},
     "output_type": "execute_result"
    }
   ],
   "source": [
    "df_relabel.head()"
   ]
  },
  {
   "cell_type": "code",
   "execution_count": null,
   "metadata": {
    "ExecuteTime": {
     "end_time": "2021-07-06T20:35:59.696502Z",
     "start_time": "2021-07-06T20:34:36.397Z"
    }
   },
   "outputs": [],
   "source": [
    "df_relabel.to_csv('espn_df_recluster.csv', index=False)"
   ]
  },
  {
   "cell_type": "code",
   "execution_count": 42,
   "metadata": {
    "ExecuteTime": {
     "end_time": "2021-07-06T21:13:22.645413Z",
     "start_time": "2021-07-06T21:13:22.624763Z"
    }
   },
   "outputs": [
    {
     "data": {
      "text/plain": [
       "headlines      2\n",
       "posted_time    0\n",
       "tokens         0\n",
       "labels         0\n",
       "four_labels    0\n",
       "five_labels    0\n",
       "dtype: int64"
      ]
     },
     "execution_count": 42,
     "metadata": {},
     "output_type": "execute_result"
    }
   ],
   "source": [
    "df_relabel.isna().sum()"
   ]
  },
  {
   "cell_type": "code",
   "execution_count": 43,
   "metadata": {
    "ExecuteTime": {
     "end_time": "2021-07-06T21:13:25.998414Z",
     "start_time": "2021-07-06T21:13:25.916792Z"
    }
   },
   "outputs": [],
   "source": [
    "df_relabel.dropna(inplace=True) #drop nulls and duplicates\n",
    "df_relabel.drop_duplicates(inplace=True)"
   ]
  },
  {
   "cell_type": "code",
   "execution_count": 44,
   "metadata": {
    "ExecuteTime": {
     "end_time": "2021-07-06T21:13:26.824405Z",
     "start_time": "2021-07-06T21:13:26.812598Z"
    }
   },
   "outputs": [
    {
     "data": {
      "text/plain": [
       "3    23382\n",
       "1     6069\n",
       "2     5280\n",
       "4     1807\n",
       "Name: four_labels, dtype: int64"
      ]
     },
     "execution_count": 44,
     "metadata": {},
     "output_type": "execute_result"
    }
   ],
   "source": [
    "df_relabel['four_labels'].value_counts()"
   ]
  },
  {
   "cell_type": "markdown",
   "metadata": {},
   "source": [
    "Because we relabeled the classes the topics are as follows (for 4 classes):\n",
    "\n",
    "1. Game Scores and Outcomes\n",
    "2. NBA Draft and Daily Fantasy Basketball Updates\n",
    "3. Mixed Bag of Topics\n",
    "4. Contracts and Player Signings"
   ]
  },
  {
   "cell_type": "code",
   "execution_count": 45,
   "metadata": {
    "ExecuteTime": {
     "end_time": "2021-07-06T21:13:29.299288Z",
     "start_time": "2021-07-06T21:13:29.281107Z"
    }
   },
   "outputs": [
    {
     "data": {
      "text/plain": [
       "3    22547\n",
       "1     6069\n",
       "2     5280\n",
       "5     1382\n",
       "4     1260\n",
       "Name: five_labels, dtype: int64"
      ]
     },
     "execution_count": 45,
     "metadata": {},
     "output_type": "execute_result"
    }
   ],
   "source": [
    "df_relabel['five_labels'].value_counts()"
   ]
  },
  {
   "cell_type": "markdown",
   "metadata": {},
   "source": [
    "For 5 classes the topics are as follows:\n",
    "\n",
    "1. Game Scores and Outcomes\n",
    "2. NBA Draft and Daily Fantasy Basketball Updates\n",
    "3. Mixed Bag of Topics\n",
    "4. Contracts and Player Signings\n",
    "5. Golden State Warriors"
   ]
  },
  {
   "cell_type": "code",
   "execution_count": 46,
   "metadata": {
    "ExecuteTime": {
     "end_time": "2021-07-06T21:13:30.659232Z",
     "start_time": "2021-07-06T21:13:30.651561Z"
    }
   },
   "outputs": [],
   "source": [
    "vectorizer_four = TfidfVectorizer() #instantiate vectorizers\n",
    "vectorizer_five = TfidfVectorizer()\n",
    "X_relab = df_relabel['headlines']\n",
    "y_four = df_relabel['four_labels'] #create target variable for 4 classes\n",
    "y_five = df_relabel['five_labels'] #create target variable for 5 classes"
   ]
  },
  {
   "cell_type": "code",
   "execution_count": 47,
   "metadata": {
    "ExecuteTime": {
     "end_time": "2021-07-06T21:13:34.629727Z",
     "start_time": "2021-07-06T21:13:34.592628Z"
    }
   },
   "outputs": [],
   "source": [
    "#test train split\n",
    "X_train_four, X_test_four, y_train_four, y_test_four = train_test_split(X_relab, y_four, \n",
    "                                                                        test_size=0.3, stratify=y_four,\n",
    "                                                                        random_state=123)"
   ]
  },
  {
   "cell_type": "code",
   "execution_count": 48,
   "metadata": {
    "ExecuteTime": {
     "end_time": "2021-07-06T21:13:35.675577Z",
     "start_time": "2021-07-06T21:13:35.641016Z"
    }
   },
   "outputs": [],
   "source": [
    "X_train_five, X_test_five, y_train_five, y_test_five = train_test_split(X_relab, y_five, test_size=0.3,\n",
    "                                                                       stratify=y_five, random_state=123)"
   ]
  },
  {
   "cell_type": "code",
   "execution_count": 49,
   "metadata": {
    "ExecuteTime": {
     "end_time": "2021-07-06T21:13:37.439572Z",
     "start_time": "2021-07-06T21:13:36.735632Z"
    }
   },
   "outputs": [],
   "source": [
    "X_train_four_sparse = vectorizer_four.fit_transform(X_train_four) \n",
    "X_test_four_sparse = vectorizer_four.transform(X_test_four)\n",
    "X_train_five_sparse = vectorizer_five.fit_transform(X_train_five)\n",
    "X_test_five_sparse = vectorizer_five.transform(X_test_five)"
   ]
  },
  {
   "cell_type": "code",
   "execution_count": 50,
   "metadata": {
    "ExecuteTime": {
     "end_time": "2021-07-06T21:13:41.621299Z",
     "start_time": "2021-07-06T21:13:38.240247Z"
    }
   },
   "outputs": [],
   "source": [
    "mnb_four = MultinomialNB()\n",
    "mnb_four.fit(X_train_four_sparse, y_train_four)\n",
    "mnb_four_cv_mean = cross_val_score(mnb_four, X_train_four_sparse, \n",
    "                                   y_train_four, cv=5, n_jobs=-1, scoring='accuracy')"
   ]
  },
  {
   "cell_type": "code",
   "execution_count": 51,
   "metadata": {
    "ExecuteTime": {
     "end_time": "2021-07-06T21:13:42.956784Z",
     "start_time": "2021-07-06T21:13:42.905537Z"
    }
   },
   "outputs": [
    {
     "name": "stdout",
     "output_type": "stream",
     "text": [
      "Training Accuracy: 0.8897012824522991\n",
      "Cross Validation Accuracy: 0.8613152840417083\n",
      "Testing Accuracy: 0.8641671227878125\n",
      "F1 Score: 0.8523048721302369\n",
      "Recall: 0.8641671227878125\n",
      "Precision: 0.8733885821508949\n"
     ]
    }
   ],
   "source": [
    "summary_scores(mnb_four, X_train_four_sparse, X_test_four_sparse, y_train_four, y_test_four, mnb_four_cv_mean)"
   ]
  },
  {
   "cell_type": "code",
   "execution_count": 52,
   "metadata": {
    "ExecuteTime": {
     "end_time": "2021-07-06T21:13:45.006169Z",
     "start_time": "2021-07-06T21:13:44.838473Z"
    }
   },
   "outputs": [],
   "source": [
    "mnb_five = MultinomialNB()\n",
    "mnb_five.fit(X_train_five_sparse, y_train_five)\n",
    "mnb_five_cv = cross_val_score(mnb_five, X_train_five_sparse, y_train_five, cv=5, n_jobs=-1, scoring='accuracy')"
   ]
  },
  {
   "cell_type": "code",
   "execution_count": 53,
   "metadata": {
    "ExecuteTime": {
     "end_time": "2021-07-06T21:13:45.822659Z",
     "start_time": "2021-07-06T21:13:45.771412Z"
    }
   },
   "outputs": [
    {
     "name": "stdout",
     "output_type": "stream",
     "text": [
      "Training Accuracy: 0.8567015952455427\n",
      "Cross Validation Accuracy: 0.8330856752854785\n",
      "Testing Accuracy: 0.8345192483123518\n",
      "F1 Score: 0.8005556755562844\n",
      "Recall: 0.8345192483123518\n",
      "Precision: 0.8152184714765602\n"
     ]
    },
    {
     "name": "stderr",
     "output_type": "stream",
     "text": [
      "/Users/jeremylee/opt/anaconda3/envs/learn-env/lib/python3.6/site-packages/sklearn/metrics/_classification.py:1221: UndefinedMetricWarning: Precision is ill-defined and being set to 0.0 in labels with no predicted samples. Use `zero_division` parameter to control this behavior.\n",
      "  _warn_prf(average, modifier, msg_start, len(result))\n"
     ]
    }
   ],
   "source": [
    "summary_scores(mnb_five, X_train_five_sparse, X_test_five_sparse, y_train_five, y_test_five, mnb_five_cv)"
   ]
  },
  {
   "cell_type": "code",
   "execution_count": 54,
   "metadata": {
    "ExecuteTime": {
     "end_time": "2021-07-06T21:15:10.029185Z",
     "start_time": "2021-07-06T21:13:50.417639Z"
    }
   },
   "outputs": [],
   "source": [
    "rf_four = RandomForestClassifier()\n",
    "rf_four.fit(X_train_four_sparse, y_train_four)\n",
    "rf_four_cv = cross_val_score(rf_four, X_train_four_sparse, y_train_four, cv=5, n_jobs=-1, scoring='accuracy')"
   ]
  },
  {
   "cell_type": "code",
   "execution_count": 55,
   "metadata": {
    "ExecuteTime": {
     "end_time": "2021-07-06T21:15:45.337492Z",
     "start_time": "2021-07-06T21:15:41.511916Z"
    }
   },
   "outputs": [
    {
     "name": "stdout",
     "output_type": "stream",
     "text": [
      "Training Accuracy: 1.0\n",
      "Cross Validation Accuracy: 0.9750937277641608\n",
      "Testing Accuracy: 0.972997628170042\n",
      "F1 Score: 0.9733017635379674\n",
      "Recall: 0.972997628170042\n",
      "Precision: 0.9743580857306723\n"
     ]
    }
   ],
   "source": [
    "summary_scores(rf_four, X_train_four_sparse, X_test_four_sparse, y_train_four, y_test_four, rf_four_cv)"
   ]
  },
  {
   "cell_type": "code",
   "execution_count": 56,
   "metadata": {
    "ExecuteTime": {
     "end_time": "2021-07-06T21:17:12.559864Z",
     "start_time": "2021-07-06T21:15:45.339916Z"
    }
   },
   "outputs": [],
   "source": [
    "rf_five = RandomForestClassifier()\n",
    "rf_five.fit(X_train_five_sparse, y_train_five)\n",
    "rf_five_cv = cross_val_score(rf_five, X_train_five_sparse, y_train_five, cv=5, n_jobs=-1, scoring='accuracy')"
   ]
  },
  {
   "cell_type": "code",
   "execution_count": 57,
   "metadata": {
    "ExecuteTime": {
     "end_time": "2021-07-06T21:17:16.440197Z",
     "start_time": "2021-07-06T21:17:12.562582Z"
    }
   },
   "outputs": [
    {
     "name": "stdout",
     "output_type": "stream",
     "text": [
      "Training Accuracy: 1.0\n",
      "Cross Validation Accuracy: 0.9750547646507192\n",
      "Testing Accuracy: 0.9727239554825762\n",
      "F1 Score: 0.9730679628166591\n",
      "Recall: 0.9727239554825762\n",
      "Precision: 0.974227836821246\n"
     ]
    }
   ],
   "source": [
    "summary_scores(rf_five, X_train_five_sparse, X_test_five_sparse, y_train_five, y_test_five, rf_five_cv)"
   ]
  },
  {
   "cell_type": "code",
   "execution_count": 58,
   "metadata": {
    "ExecuteTime": {
     "end_time": "2021-07-06T21:17:19.718810Z",
     "start_time": "2021-07-06T21:17:18.644890Z"
    }
   },
   "outputs": [
    {
     "data": {
      "image/png": "[encoded data removed]",
      "text/plain": [
       "<Figure size 576x576 with 2 Axes>"
      ]
     },
     "metadata": {
      "needs_background": "light"
     },
     "output_type": "display_data"
    }
   ],
   "source": [
    "fig, ax = plt.subplots(figsize=(8, 8))\n",
    "plt.grid(False)\n",
    "plot_confusion_matrix(rf_five, X_test_five_sparse, y_test_five, cmap='Blues', ax=ax)\n",
    "plt.savefig('random_forest_five_classes_conf_matrix.png')"
   ]
  },
  {
   "cell_type": "code",
   "execution_count": 59,
   "metadata": {
    "ExecuteTime": {
     "end_time": "2021-07-06T21:17:20.542488Z",
     "start_time": "2021-07-06T21:17:19.721525Z"
    }
   },
   "outputs": [
    {
     "name": "stdout",
     "output_type": "stream",
     "text": [
      "              precision    recall  f1-score   support\n",
      "\n",
      "           1       0.89      0.98      0.93      1821\n",
      "           2       0.98      0.99      0.99      1584\n",
      "           3       0.99      0.97      0.98      6764\n",
      "           4       0.99      0.98      0.99       378\n",
      "           5       0.99      0.95      0.97       415\n",
      "\n",
      "    accuracy                           0.97     10962\n",
      "   macro avg       0.97      0.97      0.97     10962\n",
      "weighted avg       0.97      0.97      0.97     10962\n",
      "\n"
     ]
    }
   ],
   "source": [
    "print(classification_report(y_test_five, rf_five.predict(X_test_five_sparse)))"
   ]
  },
  {
   "cell_type": "markdown",
   "metadata": {},
   "source": [
    "For Multinomial Naive Bayes, the performance suffers as we increase the number of classes. Introducing four classes caused a 4% overall drop in accuracy and 5 classes caused another 3% drop in accuracy. Notably, 83% accuracy with 5 classes is not terrible but if we were to try and further segment the data, the naive bayes model likely would not be our best choice.\n",
    "\n",
    "The random forest model manages to hold up in terms of performance as we increase the number of classes. The headlines from the mixed bag of topics class(i.e. class 3 when relabeled) and the game scores/outcomes class seem like they may be close to each other if we were to map them in 2D space. We might try to further segment the mixed bag of topics class in order to prevent misclassification given that the random forest model still has high accuracy with a greater number of classes. The random forest model does slightly worse with 5 topics but I argue that the difference is negligible if we can be more specific in our classification and therefore more specific in classifying content for a potential user."
   ]
  },
  {
   "cell_type": "markdown",
   "metadata": {},
   "source": [
    "## Conclusion \n",
    "\n",
    "The random forest algorithm outperforms the naive Bayes algorithm for both 3 and 5 classes and is the preferred algorithm when putting a model into production.\n",
    "\n",
    "A top down approach is best for identifying topics. Although we have one cluster that is a mixed bag of topics, we can look for smaller clusters within that larger cluster as necessary if we want to develop a more unique experience for fans.\n",
    "\n",
    "Rankings/fantasy sports is one of the major clusters found using kmeans. We might look for specific team or players clusters (like the cluster with headlines about the Golden State Warriors) so that we can develop a model that sources news about the players on individual's fantasy team.\n",
    "\n",
    "With respect to headlines, we would look to gather more headlines from different sources to see if the topics within a corpus remain consistent. If the topics changed that would require separate data analysis and modeling."
   ]
  },
  {
   "cell_type": "code",
   "execution_count": null,
   "metadata": {},
   "outputs": [],
   "source": []
  }
 ],
 "metadata": {
  "kernelspec": {
   "display_name": "learn-env",
   "language": "python",
   "name": "learn-env"
  },
  "language_info": {
   "codemirror_mode": {
    "name": "ipython",
    "version": 3
   },
   "file_extension": ".py",
   "mimetype": "text/x-python",
   "name": "python",
   "nbconvert_exporter": "python",
   "pygments_lexer": "ipython3",
   "version": "3.6.9"
  },
  "toc": {
   "base_numbering": 1,
   "nav_menu": {},
   "number_sections": true,
   "sideBar": true,
   "skip_h1_title": false,
   "title_cell": "Table of Contents",
   "title_sidebar": "Contents",
   "toc_cell": false,
   "toc_position": {},
   "toc_section_display": true,
   "toc_window_display": false
  }
 },
 "nbformat": 4,
 "nbformat_minor": 2
}
