{
 "cells": [
  {
   "cell_type": "code",
   "execution_count": 141,
   "metadata": {
    "ExecuteTime": {
     "end_time": "2021-03-22T17:41:46.304506Z",
     "start_time": "2021-03-22T17:41:45.860610Z"
    }
   },
   "outputs": [],
   "source": [
    "import numpy as np\n",
    "import pandas as pd\n",
    "import matplotlib.pyplot as plt\n",
    "import seaborn as sns\n",
    "\n",
    "from sklearn.model_selection import train_test_split, cross_val_score, GridSearchCV\n",
    "from sklearn.naive_bayes import MultinomialNB\n",
    "from sklearn.ensemble import RandomForestClassifier\n",
    "from sklearn.svm import SVC\n",
    "from sklearn.feature_extraction.text import TfidfVectorizer\n",
    "import string\n",
    "import nltk\n",
    "from nltk.stem import WordNetLemmatizer\n",
    "%matplotlib inline"
   ]
  },
  {
   "cell_type": "code",
   "execution_count": 142,
   "metadata": {
    "ExecuteTime": {
     "end_time": "2021-03-22T17:41:48.956908Z",
     "start_time": "2021-03-22T17:41:48.683429Z"
    }
   },
   "outputs": [],
   "source": [
    "df = pd.read_csv('data/espn_three_classes.csv')"
   ]
  },
  {
   "cell_type": "code",
   "execution_count": 143,
   "metadata": {
    "ExecuteTime": {
     "end_time": "2021-03-22T17:41:54.068589Z",
     "start_time": "2021-03-22T17:41:54.016390Z"
    }
   },
   "outputs": [
    {
     "data": {
      "text/plain": [
       "headlines      2\n",
       "posted_time    0\n",
       "tokens         0\n",
       "labels         0\n",
       "word_length    0\n",
       "dtype: int64"
      ]
     },
     "execution_count": 143,
     "metadata": {},
     "output_type": "execute_result"
    }
   ],
   "source": [
    "#check for null values\n",
    "df.isna().sum()"
   ]
  },
  {
   "cell_type": "code",
   "execution_count": 144,
   "metadata": {
    "ExecuteTime": {
     "end_time": "2021-03-22T17:41:56.220017Z",
     "start_time": "2021-03-22T17:41:56.177880Z"
    }
   },
   "outputs": [],
   "source": [
    "df.dropna(inplace=True)"
   ]
  },
  {
   "cell_type": "code",
   "execution_count": 145,
   "metadata": {
    "ExecuteTime": {
     "end_time": "2021-03-22T17:41:57.696304Z",
     "start_time": "2021-03-22T17:41:57.631592Z"
    }
   },
   "outputs": [
    {
     "data": {
      "text/plain": [
       "headlines      36081\n",
       "posted_time     1880\n",
       "tokens         36063\n",
       "labels             3\n",
       "word_length       20\n",
       "dtype: int64"
      ]
     },
     "execution_count": 145,
     "metadata": {},
     "output_type": "execute_result"
    }
   ],
   "source": [
    "df.nunique()"
   ]
  },
  {
   "cell_type": "code",
   "execution_count": 146,
   "metadata": {
    "ExecuteTime": {
     "end_time": "2021-03-22T17:42:04.664169Z",
     "start_time": "2021-03-22T17:42:04.614937Z"
    }
   },
   "outputs": [],
   "source": [
    "df.drop_duplicates(inplace=True)"
   ]
  },
  {
   "cell_type": "code",
   "execution_count": 147,
   "metadata": {
    "ExecuteTime": {
     "end_time": "2021-03-22T17:42:05.882992Z",
     "start_time": "2021-03-22T17:42:05.868048Z"
    }
   },
   "outputs": [
    {
     "data": {
      "text/plain": [
       "0    25189\n",
       "1     6069\n",
       "2     5280\n",
       "Name: labels, dtype: int64"
      ]
     },
     "execution_count": 147,
     "metadata": {},
     "output_type": "execute_result"
    }
   ],
   "source": [
    "df['labels'].value_counts()"
   ]
  },
  {
   "cell_type": "code",
   "execution_count": 148,
   "metadata": {
    "ExecuteTime": {
     "end_time": "2021-03-22T17:43:11.243721Z",
     "start_time": "2021-03-22T17:43:11.161316Z"
    }
   },
   "outputs": [],
   "source": [
    "stopwords = nltk.corpus.stopwords.words('english')\n",
    "wnl = WordNetLemmatizer()"
   ]
  },
  {
   "cell_type": "code",
   "execution_count": 149,
   "metadata": {
    "ExecuteTime": {
     "end_time": "2021-03-22T17:43:15.817347Z",
     "start_time": "2021-03-22T17:43:15.803212Z"
    }
   },
   "outputs": [],
   "source": [
    "from sklearn.metrics import plot_confusion_matrix\n",
    "from sklearn.metrics import classification_report"
   ]
  },
  {
   "cell_type": "code",
   "execution_count": 150,
   "metadata": {
    "ExecuteTime": {
     "end_time": "2021-03-22T17:44:00.402317Z",
     "start_time": "2021-03-22T17:44:00.165885Z"
    }
   },
   "outputs": [],
   "source": [
    "X = df['headlines']\n",
    "y = df['labels']\n",
    "X_train, X_test, y_train, y_test = train_test_split(X, y, test_size=0.3, stratify=y, random_state=123)"
   ]
  },
  {
   "cell_type": "code",
   "execution_count": 151,
   "metadata": {
    "ExecuteTime": {
     "end_time": "2021-03-22T17:50:30.717386Z",
     "start_time": "2021-03-22T17:50:29.865506Z"
    }
   },
   "outputs": [],
   "source": [
    "vectorizer = TfidfVectorizer(stop_words=stopwords)\n",
    "\n",
    "X_train_sparse = vectorizer.fit_transform(X_train)\n",
    "X_test_sparse = vectorizer.transform(X_test)"
   ]
  },
  {
   "cell_type": "code",
   "execution_count": 152,
   "metadata": {
    "ExecuteTime": {
     "end_time": "2021-03-22T17:50:57.830547Z",
     "start_time": "2021-03-22T17:50:54.127172Z"
    }
   },
   "outputs": [],
   "source": [
    "mnb_vanilla = MultinomialNB()\n",
    "mnb_vanilla.fit(X_train_sparse, y_train)\n",
    "mnb_vanilla_cv = cross_val_score(mnb_vanilla, X_train_sparse, y_train, cv=5, scoring='accuracy', n_jobs=-1)\n"
   ]
  },
  {
   "cell_type": "code",
   "execution_count": 153,
   "metadata": {
    "ExecuteTime": {
     "end_time": "2021-03-22T17:51:01.934555Z",
     "start_time": "2021-03-22T17:51:01.914665Z"
    }
   },
   "outputs": [],
   "source": [
    "def summary_scores(model, train_set_x, test_set_x, train_set_y, test_set_y, cross_val_var):\n",
    "    print(f'Training Accuracy: {model.score(train_set_x, train_set_y)}')\n",
    "    print(f'Cross Validation Accuracy: {np.mean(cross_val_var)}')\n",
    "    print(f'Testing Accuracy: {model.score(test_set_x, test_set_y)}')\n",
    "    "
   ]
  },
  {
   "cell_type": "code",
   "execution_count": 154,
   "metadata": {
    "ExecuteTime": {
     "end_time": "2021-03-22T17:51:03.331897Z",
     "start_time": "2021-03-22T17:51:03.305771Z"
    }
   },
   "outputs": [
    {
     "name": "stdout",
     "output_type": "stream",
     "text": [
      "Training Accuracy: 0.9234438536127619\n",
      "Cross Validation Accuracy: 0.9008835715219231\n",
      "Testing Accuracy: 0.9088669950738916\n"
     ]
    }
   ],
   "source": [
    "summary_scores(mnb_vanilla, X_train_sparse, X_test_sparse, y_train, y_test, mnb_vanilla_cv)"
   ]
  },
  {
   "cell_type": "code",
   "execution_count": 155,
   "metadata": {
    "ExecuteTime": {
     "end_time": "2021-03-22T17:51:07.923838Z",
     "start_time": "2021-03-22T17:51:07.877449Z"
    }
   },
   "outputs": [
    {
     "name": "stdout",
     "output_type": "stream",
     "text": [
      "              precision    recall  f1-score   support\n",
      "\n",
      "           0       0.91      0.97      0.94      7557\n",
      "           1       0.89      0.86      0.87      1821\n",
      "           2       0.94      0.69      0.80      1584\n",
      "\n",
      "    accuracy                           0.91     10962\n",
      "   macro avg       0.91      0.84      0.87     10962\n",
      "weighted avg       0.91      0.91      0.91     10962\n",
      "\n"
     ]
    }
   ],
   "source": [
    "print(classification_report(y_test, mnb_vanilla.predict(X_test_sparse)))"
   ]
  },
  {
   "cell_type": "code",
   "execution_count": 156,
   "metadata": {
    "ExecuteTime": {
     "end_time": "2021-03-22T17:51:14.691009Z",
     "start_time": "2021-03-22T17:51:14.152301Z"
    }
   },
   "outputs": [
    {
     "data": {
      "image/png": "[encoded data removed]",
      "text/plain": [
       "<Figure size 432x432 with 2 Axes>"
      ]
     },
     "metadata": {
      "needs_background": "light"
     },
     "output_type": "display_data"
    }
   ],
   "source": [
    "fig, ax = plt.subplots(figsize=(6, 6))\n",
    "plt.grid(False)\n",
    "plot_confusion_matrix(mnb_vanilla, X_test_sparse, y_test, cmap='Blues', ax=ax)\n",
    "plt.savefig('MultinomialNB_vanilla_conf_matrix.png')"
   ]
  },
  {
   "cell_type": "code",
   "execution_count": 56,
   "metadata": {
    "ExecuteTime": {
     "end_time": "2021-03-13T23:47:36.088366Z",
     "start_time": "2021-03-13T23:39:10.561712Z"
    }
   },
   "outputs": [
    {
     "data": {
      "text/plain": [
       "{'alpha': 10, 'fit_prior': False}"
      ]
     },
     "execution_count": 56,
     "metadata": {},
     "output_type": "execute_result"
    }
   ],
   "source": [
    "mnb_vanilla_param = {'alpha':[0, 0.01, 1, 2, 10],\n",
    "                     'fit_prior':[True, False]}\n",
    "\n",
    "gs_mnb = GridSearchCV(mnb_vanilla, param_grid=mnb_vanilla_param, cv=5, n_jobs=-1)\n",
    "gs_mnb.fit(X_train_sparse, y_train)\n",
    "gs_mnb.best_params_"
   ]
  },
  {
   "cell_type": "code",
   "execution_count": 57,
   "metadata": {
    "ExecuteTime": {
     "end_time": "2021-03-14T00:14:55.087073Z",
     "start_time": "2021-03-13T23:47:36.092628Z"
    }
   },
   "outputs": [],
   "source": [
    "gs_mnb_vanilla_cv_mean = cross_val_score(gs_mnb, X_train_sparse, y_train,\n",
    "                                                 cv=5, scoring='accuracy', n_jobs=-1)"
   ]
  },
  {
   "cell_type": "code",
   "execution_count": 58,
   "metadata": {
    "ExecuteTime": {
     "end_time": "2021-03-14T00:31:32.803205Z",
     "start_time": "2021-03-14T00:31:27.971144Z"
    }
   },
   "outputs": [
    {
     "name": "stdout",
     "output_type": "stream",
     "text": [
      "Training Accuracy: 0.9183609634031905\n",
      "Cross Validation Accuracy: 0.9081169688256878\n",
      "Testing Accuracy: 0.9069512862616311\n"
     ]
    }
   ],
   "source": [
    "summary_scores(gs_mnb, X_train_sparse, X_test_sparse, y_train, y_test, gs_mnb_vanilla_cv_mean)"
   ]
  },
  {
   "cell_type": "code",
   "execution_count": 157,
   "metadata": {
    "ExecuteTime": {
     "end_time": "2021-03-22T17:54:30.799981Z",
     "start_time": "2021-03-22T17:52:56.589846Z"
    }
   },
   "outputs": [],
   "source": [
    "rf_vanilla = RandomForestClassifier()\n",
    "rf_vanilla.fit(X_train_sparse, y_train)\n",
    "rf_vanilla_cv = cross_val_score(rf_vanilla, X_train_sparse, y_train, cv=5, scoring='accuracy', n_jobs=-1)"
   ]
  },
  {
   "cell_type": "code",
   "execution_count": 158,
   "metadata": {
    "ExecuteTime": {
     "end_time": "2021-03-22T17:54:32.953898Z",
     "start_time": "2021-03-22T17:54:30.802223Z"
    }
   },
   "outputs": [
    {
     "name": "stdout",
     "output_type": "stream",
     "text": [
      "Training Accuracy: 1.0\n",
      "Cross Validation Accuracy: 0.9754848263206608\n",
      "Testing Accuracy: 0.9773763911694946\n"
     ]
    }
   ],
   "source": [
    "summary_scores(rf_vanilla, X_train_sparse, X_test_sparse, y_train, y_test, rf_vanilla_cv)"
   ]
  },
  {
   "cell_type": "code",
   "execution_count": 159,
   "metadata": {
    "ExecuteTime": {
     "end_time": "2021-03-22T17:55:40.268560Z",
     "start_time": "2021-03-22T17:55:39.620761Z"
    }
   },
   "outputs": [
    {
     "name": "stdout",
     "output_type": "stream",
     "text": [
      "              precision    recall  f1-score   support\n",
      "\n",
      "           0       0.99      0.97      0.98      7557\n",
      "           1       0.90      0.98      0.94      1821\n",
      "           2       0.99      0.99      0.99      1584\n",
      "\n",
      "    accuracy                           0.98     10962\n",
      "   macro avg       0.96      0.98      0.97     10962\n",
      "weighted avg       0.98      0.98      0.98     10962\n",
      "\n"
     ]
    }
   ],
   "source": [
    "print(classification_report(y_test, rf_vanilla.predict(X_test_sparse)))"
   ]
  },
  {
   "cell_type": "code",
   "execution_count": 160,
   "metadata": {
    "ExecuteTime": {
     "end_time": "2021-03-22T17:55:44.803037Z",
     "start_time": "2021-03-22T17:55:43.979721Z"
    }
   },
   "outputs": [
    {
     "data": {
      "image/png": "[encoded data removed]",
      "text/plain": [
       "<Figure size 432x432 with 2 Axes>"
      ]
     },
     "metadata": {
      "needs_background": "light"
     },
     "output_type": "display_data"
    }
   ],
   "source": [
    "fig, ax = plt.subplots(figsize=(6, 6))\n",
    "plt.grid(False)\n",
    "plot_confusion_matrix(rf_vanilla, X_test_sparse, y_test, cmap='Blues', ax=ax)\n",
    "plt.savefig('random_forest_vanilla_conf_matrix.png')"
   ]
  },
  {
   "cell_type": "code",
   "execution_count": 161,
   "metadata": {
    "ExecuteTime": {
     "end_time": "2021-03-22T17:55:49.075407Z",
     "start_time": "2021-03-22T17:55:49.060222Z"
    }
   },
   "outputs": [],
   "source": [
    "vanilla_tree_depths = [estimator.get_depth() for estimator in rf_vanilla.estimators_]"
   ]
  },
  {
   "cell_type": "code",
   "execution_count": 162,
   "metadata": {
    "ExecuteTime": {
     "end_time": "2021-03-22T17:55:49.799160Z",
     "start_time": "2021-03-22T17:55:49.789169Z"
    },
    "scrolled": true
   },
   "outputs": [
    {
     "data": {
      "text/plain": [
       "[211,\n",
       " 247,\n",
       " 218,\n",
       " 206,\n",
       " 200,\n",
       " 275,\n",
       " 380,\n",
       " 240,\n",
       " 286,\n",
       " 294,\n",
       " 197,\n",
       " 189,\n",
       " 399,\n",
       " 363,\n",
       " 235,\n",
       " 195,\n",
       " 246,\n",
       " 335,\n",
       " 200,\n",
       " 231,\n",
       " 260,\n",
       " 349,\n",
       " 245,\n",
       " 185,\n",
       " 288,\n",
       " 273,\n",
       " 220,\n",
       " 286,\n",
       " 229,\n",
       " 208,\n",
       " 192,\n",
       " 189,\n",
       " 209,\n",
       " 258,\n",
       " 206,\n",
       " 254,\n",
       " 209,\n",
       " 187,\n",
       " 326,\n",
       " 207,\n",
       " 186,\n",
       " 245,\n",
       " 300,\n",
       " 166,\n",
       " 190,\n",
       " 220,\n",
       " 287,\n",
       " 453,\n",
       " 224,\n",
       " 279,\n",
       " 248,\n",
       " 257,\n",
       " 239,\n",
       " 180,\n",
       " 244,\n",
       " 176,\n",
       " 155,\n",
       " 247,\n",
       " 202,\n",
       " 312,\n",
       " 276,\n",
       " 195,\n",
       " 209,\n",
       " 269,\n",
       " 214,\n",
       " 278,\n",
       " 185,\n",
       " 299,\n",
       " 309,\n",
       " 297,\n",
       " 411,\n",
       " 265,\n",
       " 202,\n",
       " 378,\n",
       " 499,\n",
       " 234,\n",
       " 419,\n",
       " 208,\n",
       " 267,\n",
       " 270,\n",
       " 193,\n",
       " 241,\n",
       " 212,\n",
       " 271,\n",
       " 242,\n",
       " 213,\n",
       " 240,\n",
       " 357,\n",
       " 242,\n",
       " 286,\n",
       " 242,\n",
       " 256,\n",
       " 236,\n",
       " 190,\n",
       " 206,\n",
       " 196,\n",
       " 253,\n",
       " 255,\n",
       " 253,\n",
       " 374]"
      ]
     },
     "execution_count": 162,
     "metadata": {},
     "output_type": "execute_result"
    }
   ],
   "source": [
    "vanilla_tree_depths"
   ]
  },
  {
   "cell_type": "code",
   "execution_count": 166,
   "metadata": {
    "ExecuteTime": {
     "end_time": "2021-03-22T18:00:48.410517Z",
     "start_time": "2021-03-22T18:00:48.292520Z"
    }
   },
   "outputs": [],
   "source": [
    "espn_df = pd.read_csv('data/espn_three_classes.csv')"
   ]
  },
  {
   "cell_type": "code",
   "execution_count": 167,
   "metadata": {
    "ExecuteTime": {
     "end_time": "2021-03-22T18:00:50.426677Z",
     "start_time": "2021-03-22T18:00:50.339285Z"
    }
   },
   "outputs": [],
   "source": [
    "grp_zero_recluster = pd.read_csv('data/espn_grp_zero_recluster.csv')"
   ]
  },
  {
   "cell_type": "code",
   "execution_count": 168,
   "metadata": {
    "ExecuteTime": {
     "end_time": "2021-03-22T18:00:51.887522Z",
     "start_time": "2021-03-22T18:00:51.870434Z"
    }
   },
   "outputs": [
    {
     "data": {
      "text/html": [
       "<div>\n",
       "<style scoped>\n",
       "    .dataframe tbody tr th:only-of-type {\n",
       "        vertical-align: middle;\n",
       "    }\n",
       "\n",
       "    .dataframe tbody tr th {\n",
       "        vertical-align: top;\n",
       "    }\n",
       "\n",
       "    .dataframe thead th {\n",
       "        text-align: right;\n",
       "    }\n",
       "</style>\n",
       "<table border=\"1\" class=\"dataframe\">\n",
       "  <thead>\n",
       "    <tr style=\"text-align: right;\">\n",
       "      <th></th>\n",
       "      <th>headlines</th>\n",
       "      <th>posted_time</th>\n",
       "      <th>tokens</th>\n",
       "      <th>labels</th>\n",
       "      <th>secondary_labels</th>\n",
       "      <th>kmeans_3_labels</th>\n",
       "    </tr>\n",
       "  </thead>\n",
       "  <tbody>\n",
       "    <tr>\n",
       "      <td>0</td>\n",
       "      <td>Wade matches King for 42nd on scoring list in win</td>\n",
       "      <td>2016-02-01</td>\n",
       "      <td>['wade', 'match', 'king', '42nd', 'scoring', '...</td>\n",
       "      <td>0</td>\n",
       "      <td>0</td>\n",
       "      <td>0</td>\n",
       "    </tr>\n",
       "    <tr>\n",
       "      <td>1</td>\n",
       "      <td>Chick Hearn's widow, Marge Hearn, dies at 98</td>\n",
       "      <td>2016-01-31</td>\n",
       "      <td>['chick', 'hearns', 'widow', 'marge', 'hearn',...</td>\n",
       "      <td>0</td>\n",
       "      <td>0</td>\n",
       "      <td>0</td>\n",
       "    </tr>\n",
       "    <tr>\n",
       "      <td>2</td>\n",
       "      <td>Wittman to miss 2 games after brother's death</td>\n",
       "      <td>2016-01-31</td>\n",
       "      <td>['wittman', 'miss', '2', 'game', 'brother', 'd...</td>\n",
       "      <td>0</td>\n",
       "      <td>0</td>\n",
       "      <td>0</td>\n",
       "    </tr>\n",
       "    <tr>\n",
       "      <td>3</td>\n",
       "      <td>LeBron atones for wardrobe mismatch vs. Spurs</td>\n",
       "      <td>2016-01-31</td>\n",
       "      <td>['lebron', 'atones', 'wardrobe', 'mismatch', '...</td>\n",
       "      <td>0</td>\n",
       "      <td>0</td>\n",
       "      <td>1</td>\n",
       "    </tr>\n",
       "    <tr>\n",
       "      <td>4</td>\n",
       "      <td>Source: Rockets petition to rescind Howard's t...</td>\n",
       "      <td>2016-01-31</td>\n",
       "      <td>['source', 'rocket', 'petition', 'rescind', 'h...</td>\n",
       "      <td>0</td>\n",
       "      <td>0</td>\n",
       "      <td>0</td>\n",
       "    </tr>\n",
       "  </tbody>\n",
       "</table>\n",
       "</div>"
      ],
      "text/plain": [
       "                                           headlines posted_time  \\\n",
       "0  Wade matches King for 42nd on scoring list in win  2016-02-01   \n",
       "1       Chick Hearn's widow, Marge Hearn, dies at 98  2016-01-31   \n",
       "2      Wittman to miss 2 games after brother's death  2016-01-31   \n",
       "3      LeBron atones for wardrobe mismatch vs. Spurs  2016-01-31   \n",
       "4  Source: Rockets petition to rescind Howard's t...  2016-01-31   \n",
       "\n",
       "                                              tokens  labels  \\\n",
       "0  ['wade', 'match', 'king', '42nd', 'scoring', '...       0   \n",
       "1  ['chick', 'hearns', 'widow', 'marge', 'hearn',...       0   \n",
       "2  ['wittman', 'miss', '2', 'game', 'brother', 'd...       0   \n",
       "3  ['lebron', 'atones', 'wardrobe', 'mismatch', '...       0   \n",
       "4  ['source', 'rocket', 'petition', 'rescind', 'h...       0   \n",
       "\n",
       "   secondary_labels  kmeans_3_labels  \n",
       "0                 0                0  \n",
       "1                 0                0  \n",
       "2                 0                0  \n",
       "3                 0                1  \n",
       "4                 0                0  "
      ]
     },
     "execution_count": 168,
     "metadata": {},
     "output_type": "execute_result"
    }
   ],
   "source": [
    "grp_zero_recluster.head()"
   ]
  },
  {
   "cell_type": "code",
   "execution_count": 169,
   "metadata": {
    "ExecuteTime": {
     "end_time": "2021-03-22T18:01:32.661641Z",
     "start_time": "2021-03-22T18:01:32.644356Z"
    }
   },
   "outputs": [
    {
     "data": {
      "text/plain": [
       "0    23413\n",
       "1     1808\n",
       "Name: secondary_labels, dtype: int64"
      ]
     },
     "execution_count": 169,
     "metadata": {},
     "output_type": "execute_result"
    }
   ],
   "source": [
    "grp_zero_recluster['secondary_labels'].value_counts()"
   ]
  },
  {
   "cell_type": "code",
   "execution_count": 171,
   "metadata": {
    "ExecuteTime": {
     "end_time": "2021-03-22T18:06:02.537974Z",
     "start_time": "2021-03-22T18:06:02.529002Z"
    }
   },
   "outputs": [],
   "source": [
    "grp_zero_recluster.rename(columns={'secondary_labels':'four_labels','kmeans_3_labels':'five_labels'}, \n",
    "                          inplace=True)"
   ]
  },
  {
   "cell_type": "code",
   "execution_count": 172,
   "metadata": {
    "ExecuteTime": {
     "end_time": "2021-03-22T18:06:20.928507Z",
     "start_time": "2021-03-22T18:06:20.914418Z"
    }
   },
   "outputs": [],
   "source": [
    "grp_zero_recluster['four_labels'] = grp_zero_recluster['four_labels'] + 3\n",
    "grp_zero_recluster['five_labels'] = grp_zero_recluster['five_labels'] + 3"
   ]
  },
  {
   "cell_type": "code",
   "execution_count": 173,
   "metadata": {
    "ExecuteTime": {
     "end_time": "2021-03-22T18:06:23.545561Z",
     "start_time": "2021-03-22T18:06:23.523738Z"
    }
   },
   "outputs": [
    {
     "name": "stdout",
     "output_type": "stream",
     "text": [
      "<class 'pandas.core.frame.DataFrame'>\n",
      "RangeIndex: 25221 entries, 0 to 25220\n",
      "Data columns (total 6 columns):\n",
      "headlines      25219 non-null object\n",
      "posted_time    25221 non-null object\n",
      "tokens         25221 non-null object\n",
      "labels         25221 non-null int64\n",
      "four_labels    25221 non-null int64\n",
      "five_labels    25221 non-null int64\n",
      "dtypes: int64(3), object(3)\n",
      "memory usage: 1.2+ MB\n"
     ]
    }
   ],
   "source": [
    "grp_zero_recluster.info()"
   ]
  },
  {
   "cell_type": "code",
   "execution_count": 176,
   "metadata": {
    "ExecuteTime": {
     "end_time": "2021-03-22T18:08:08.176888Z",
     "start_time": "2021-03-22T18:08:08.135006Z"
    },
    "scrolled": true
   },
   "outputs": [
    {
     "name": "stderr",
     "output_type": "stream",
     "text": [
      "/Users/jeremylee/opt/anaconda3/envs/learn-env/lib/python3.6/site-packages/ipykernel_launcher.py:4: SettingWithCopyWarning: \n",
      "A value is trying to be set on a copy of a slice from a DataFrame.\n",
      "Try using .loc[row_indexer,col_indexer] = value instead\n",
      "\n",
      "See the caveats in the documentation: http://pandas.pydata.org/pandas-docs/stable/user_guide/indexing.html#returning-a-view-versus-a-copy\n",
      "  after removing the cwd from sys.path.\n",
      "/Users/jeremylee/opt/anaconda3/envs/learn-env/lib/python3.6/site-packages/ipykernel_launcher.py:5: SettingWithCopyWarning: \n",
      "A value is trying to be set on a copy of a slice from a DataFrame.\n",
      "Try using .loc[row_indexer,col_indexer] = value instead\n",
      "\n",
      "See the caveats in the documentation: http://pandas.pydata.org/pandas-docs/stable/user_guide/indexing.html#returning-a-view-versus-a-copy\n",
      "  \"\"\"\n",
      "/Users/jeremylee/opt/anaconda3/envs/learn-env/lib/python3.6/site-packages/ipykernel_launcher.py:7: SettingWithCopyWarning: \n",
      "A value is trying to be set on a copy of a slice from a DataFrame.\n",
      "Try using .loc[row_indexer,col_indexer] = value instead\n",
      "\n",
      "See the caveats in the documentation: http://pandas.pydata.org/pandas-docs/stable/user_guide/indexing.html#returning-a-view-versus-a-copy\n",
      "  import sys\n",
      "/Users/jeremylee/opt/anaconda3/envs/learn-env/lib/python3.6/site-packages/ipykernel_launcher.py:8: SettingWithCopyWarning: \n",
      "A value is trying to be set on a copy of a slice from a DataFrame.\n",
      "Try using .loc[row_indexer,col_indexer] = value instead\n",
      "\n",
      "See the caveats in the documentation: http://pandas.pydata.org/pandas-docs/stable/user_guide/indexing.html#returning-a-view-versus-a-copy\n",
      "  \n"
     ]
    }
   ],
   "source": [
    "espn_df_grp_one = espn_df.loc[espn_df['labels'] == 1]\n",
    "espn_df_grp_two = espn_df.loc[espn_df['labels'] == 2]\n",
    "\n",
    "df_grp_one['four_labels'] = espn_df_grp_one['labels']\n",
    "df_grp_one['five_labels'] = espn_df_grp_one['labels']\n",
    "\n",
    "df_grp_two['four_labels'] = espn_df_grp_two['labels']\n",
    "df_grp_two['five_labels'] = espn_df_grp_two['labels']"
   ]
  },
  {
   "cell_type": "code",
   "execution_count": 177,
   "metadata": {
    "ExecuteTime": {
     "end_time": "2021-03-22T18:08:13.198922Z",
     "start_time": "2021-03-22T18:08:13.182458Z"
    }
   },
   "outputs": [
    {
     "name": "stderr",
     "output_type": "stream",
     "text": [
      "/Users/jeremylee/opt/anaconda3/envs/learn-env/lib/python3.6/site-packages/pandas/core/frame.py:4102: SettingWithCopyWarning: \n",
      "A value is trying to be set on a copy of a slice from a DataFrame\n",
      "\n",
      "See the caveats in the documentation: http://pandas.pydata.org/pandas-docs/stable/user_guide/indexing.html#returning-a-view-versus-a-copy\n",
      "  errors=errors,\n"
     ]
    }
   ],
   "source": [
    "df_grp_one.drop(columns=['word_length'], inplace=True)\n",
    "df_grp_two.drop(columns=['word_length'], inplace=True)"
   ]
  },
  {
   "cell_type": "code",
   "execution_count": 183,
   "metadata": {
    "ExecuteTime": {
     "end_time": "2021-03-22T18:09:05.800808Z",
     "start_time": "2021-03-22T18:09:05.787008Z"
    }
   },
   "outputs": [],
   "source": [
    "df_relabel = pd.concat([grp_zero_recluster, df_grp_one, df_grp_two], ignore_index=True)"
   ]
  },
  {
   "cell_type": "code",
   "execution_count": 184,
   "metadata": {
    "ExecuteTime": {
     "end_time": "2021-03-22T18:09:09.186529Z",
     "start_time": "2021-03-22T18:09:08.926476Z"
    }
   },
   "outputs": [],
   "source": [
    "df_relabel.to_csv('espn_df_recluster.csv', index=False)"
   ]
  },
  {
   "cell_type": "code",
   "execution_count": 185,
   "metadata": {
    "ExecuteTime": {
     "end_time": "2021-03-22T18:09:10.369269Z",
     "start_time": "2021-03-22T18:09:10.348846Z"
    }
   },
   "outputs": [
    {
     "data": {
      "text/plain": [
       "headlines      2\n",
       "posted_time    0\n",
       "tokens         0\n",
       "labels         0\n",
       "four_labels    0\n",
       "five_labels    0\n",
       "dtype: int64"
      ]
     },
     "execution_count": 185,
     "metadata": {},
     "output_type": "execute_result"
    }
   ],
   "source": [
    "df_relabel.isna().sum()"
   ]
  },
  {
   "cell_type": "code",
   "execution_count": 186,
   "metadata": {
    "ExecuteTime": {
     "end_time": "2021-03-22T18:09:50.638791Z",
     "start_time": "2021-03-22T18:09:50.568713Z"
    }
   },
   "outputs": [],
   "source": [
    "df_relabel.dropna(inplace=True)\n",
    "df_relabel.drop_duplicates(inplace=True)"
   ]
  },
  {
   "cell_type": "code",
   "execution_count": 187,
   "metadata": {
    "ExecuteTime": {
     "end_time": "2021-03-22T18:09:51.884695Z",
     "start_time": "2021-03-22T18:09:51.872425Z"
    }
   },
   "outputs": [
    {
     "data": {
      "text/plain": [
       "3    23382\n",
       "1     6069\n",
       "2     5280\n",
       "4     1807\n",
       "Name: four_labels, dtype: int64"
      ]
     },
     "execution_count": 187,
     "metadata": {},
     "output_type": "execute_result"
    }
   ],
   "source": [
    "df_relabel['four_labels'].value_counts()"
   ]
  },
  {
   "cell_type": "code",
   "execution_count": 188,
   "metadata": {
    "ExecuteTime": {
     "end_time": "2021-03-22T18:09:52.719170Z",
     "start_time": "2021-03-22T18:09:52.707597Z"
    }
   },
   "outputs": [
    {
     "data": {
      "text/plain": [
       "3    22547\n",
       "1     6069\n",
       "2     5280\n",
       "5     1382\n",
       "4     1260\n",
       "Name: five_labels, dtype: int64"
      ]
     },
     "execution_count": 188,
     "metadata": {},
     "output_type": "execute_result"
    }
   ],
   "source": [
    "df_relabel['five_labels'].value_counts()"
   ]
  },
  {
   "cell_type": "code",
   "execution_count": 190,
   "metadata": {
    "ExecuteTime": {
     "end_time": "2021-03-22T18:39:39.192780Z",
     "start_time": "2021-03-22T18:39:39.183437Z"
    }
   },
   "outputs": [],
   "source": [
    "vectorizer_four = TfidfVectorizer()\n",
    "vectorizer_five = TfidfVectorizer()\n",
    "X_relab = df_relabel['headlines']\n",
    "y_four = df_relabel['four_labels']\n",
    "y_five = df_relabel['five_labels']"
   ]
  },
  {
   "cell_type": "code",
   "execution_count": 191,
   "metadata": {
    "ExecuteTime": {
     "end_time": "2021-03-22T18:39:49.063367Z",
     "start_time": "2021-03-22T18:39:48.959490Z"
    }
   },
   "outputs": [],
   "source": [
    "X_train_four, X_test_four, y_train_four, y_test_four = train_test_split(X_relab, y_four, \n",
    "                                                                        test_size=0.3, stratify=y_four,\n",
    "                                                                        random_state=123)"
   ]
  },
  {
   "cell_type": "code",
   "execution_count": 192,
   "metadata": {
    "ExecuteTime": {
     "end_time": "2021-03-22T18:39:50.025286Z",
     "start_time": "2021-03-22T18:39:49.914561Z"
    }
   },
   "outputs": [],
   "source": [
    "X_train_five, X_test_five, y_train_five, y_test_five = train_test_split(X_relab, y_five, test_size=0.3,\n",
    "                                                                       stratify=y_five, random_state=123)"
   ]
  },
  {
   "cell_type": "code",
   "execution_count": 193,
   "metadata": {
    "ExecuteTime": {
     "end_time": "2021-03-22T18:43:23.430337Z",
     "start_time": "2021-03-22T18:43:22.647882Z"
    }
   },
   "outputs": [],
   "source": [
    "X_train_four_sparse = vectorizer_four.fit_transform(X_train_four) \n",
    "X_test_four_sparse = vectorizer_four.transform(X_test_four)\n",
    "X_train_five_sparse = vectorizer_five.fit_transform(X_train_five)\n",
    "X_test_five_sparse = vectorizer_five.transform(X_test_five)"
   ]
  },
  {
   "cell_type": "code",
   "execution_count": 194,
   "metadata": {
    "ExecuteTime": {
     "end_time": "2021-03-22T18:43:57.476649Z",
     "start_time": "2021-03-22T18:43:54.011909Z"
    }
   },
   "outputs": [],
   "source": [
    "mnb_four = MultinomialNB()\n",
    "mnb_four.fit(X_train_four_sparse, y_train_four)\n",
    "mnb_four_cv_mean = cross_val_score(mnb_four, X_train_four_sparse, \n",
    "                                   y_train_four, cv=5, n_jobs=-1, scoring='accuracy')"
   ]
  },
  {
   "cell_type": "code",
   "execution_count": 195,
   "metadata": {
    "ExecuteTime": {
     "end_time": "2021-03-22T18:44:07.494941Z",
     "start_time": "2021-03-22T18:44:07.473044Z"
    }
   },
   "outputs": [
    {
     "name": "stdout",
     "output_type": "stream",
     "text": [
      "Training Accuracy: 0.8897012824522991\n",
      "Cross Validation Accuracy: 0.8613152840417083\n",
      "Testing Accuracy: 0.8641671227878125\n"
     ]
    }
   ],
   "source": [
    "summary_scores(mnb_four, X_train_four_sparse, X_test_four_sparse, y_train_four, y_test_four, mnb_four_cv_mean)"
   ]
  },
  {
   "cell_type": "code",
   "execution_count": 196,
   "metadata": {
    "ExecuteTime": {
     "end_time": "2021-03-22T18:44:24.081414Z",
     "start_time": "2021-03-22T18:44:23.911060Z"
    }
   },
   "outputs": [],
   "source": [
    "mnb_five = MultinomialNB()\n",
    "mnb_five.fit(X_train_five_sparse, y_train_five)\n",
    "mnb_five_cv = cross_val_score(mnb_five, X_train_five_sparse, y_train_five, cv=5, n_jobs=-1, scoring='accuracy')"
   ]
  },
  {
   "cell_type": "code",
   "execution_count": 197,
   "metadata": {
    "ExecuteTime": {
     "end_time": "2021-03-22T18:44:34.661625Z",
     "start_time": "2021-03-22T18:44:34.642560Z"
    }
   },
   "outputs": [
    {
     "name": "stdout",
     "output_type": "stream",
     "text": [
      "Training Accuracy: 0.8567015952455427\n",
      "Cross Validation Accuracy: 0.8330856752854785\n",
      "Testing Accuracy: 0.8345192483123518\n"
     ]
    }
   ],
   "source": [
    "summary_scores(mnb_five, X_train_five_sparse, X_test_five_sparse, y_train_five, y_test_five, mnb_five_cv)"
   ]
  },
  {
   "cell_type": "code",
   "execution_count": 199,
   "metadata": {
    "ExecuteTime": {
     "end_time": "2021-03-22T18:46:42.714451Z",
     "start_time": "2021-03-22T18:45:18.773058Z"
    }
   },
   "outputs": [],
   "source": [
    "rf_four = RandomForestClassifier()\n",
    "rf_four.fit(X_train_four_sparse, y_train_four)\n",
    "rf_four_cv = cross_val_score(rf_four, X_train_four_sparse, y_train_four, cv=5, n_jobs=-1, scoring='accuracy')"
   ]
  },
  {
   "cell_type": "code",
   "execution_count": 200,
   "metadata": {
    "ExecuteTime": {
     "end_time": "2021-03-22T18:46:44.729439Z",
     "start_time": "2021-03-22T18:46:42.716841Z"
    }
   },
   "outputs": [
    {
     "name": "stdout",
     "output_type": "stream",
     "text": [
      "Training Accuracy: 1.0\n",
      "Cross Validation Accuracy: 0.9758757490922237\n",
      "Testing Accuracy: 0.9741835431490604\n"
     ]
    }
   ],
   "source": [
    "summary_scores(rf_four, X_train_four_sparse, X_test_four_sparse, y_train_four, y_test_four, rf_four_cv)"
   ]
  },
  {
   "cell_type": "code",
   "execution_count": 201,
   "metadata": {
    "ExecuteTime": {
     "end_time": "2021-03-22T18:49:02.223426Z",
     "start_time": "2021-03-22T18:47:07.129488Z"
    }
   },
   "outputs": [],
   "source": [
    "rf_five = RandomForestClassifier()\n",
    "rf_five.fit(X_train_five_sparse, y_train_five)\n",
    "rf_five_cv = cross_val_score(rf_five, X_train_five_sparse, y_train_five, cv=5, n_jobs=-1, scoring='accuracy')"
   ]
  },
  {
   "cell_type": "code",
   "execution_count": 202,
   "metadata": {
    "ExecuteTime": {
     "end_time": "2021-03-22T18:49:05.184206Z",
     "start_time": "2021-03-22T18:49:02.227540Z"
    }
   },
   "outputs": [
    {
     "name": "stdout",
     "output_type": "stream",
     "text": [
      "Training Accuracy: 1.0\n",
      "Cross Validation Accuracy: 0.9754066478806068\n",
      "Testing Accuracy: 0.9732713008575078\n"
     ]
    }
   ],
   "source": [
    "summary_scores(rf_five, X_train_five_sparse, X_test_five_sparse, y_train_five, y_test_five, rf_five_cv)"
   ]
  },
  {
   "cell_type": "code",
   "execution_count": 203,
   "metadata": {
    "ExecuteTime": {
     "end_time": "2021-03-22T18:52:45.428084Z",
     "start_time": "2021-03-22T18:52:44.375847Z"
    }
   },
   "outputs": [
    {
     "data": {
      "image/png": "[encoded data removed]",
      "text/plain": [
       "<Figure size 576x576 with 2 Axes>"
      ]
     },
     "metadata": {
      "needs_background": "light"
     },
     "output_type": "display_data"
    }
   ],
   "source": [
    "fig, ax = plt.subplots(figsize=(8, 8))\n",
    "plt.grid(False)\n",
    "plot_confusion_matrix(rf_five, X_test_five_sparse, y_test_five, cmap='Blues', ax=ax)\n",
    "plt.savefig('random_forest_five_classes_conf_matrix.png')"
   ]
  },
  {
   "cell_type": "code",
   "execution_count": 204,
   "metadata": {
    "ExecuteTime": {
     "end_time": "2021-03-22T18:52:47.634577Z",
     "start_time": "2021-03-22T18:52:46.984720Z"
    }
   },
   "outputs": [
    {
     "name": "stdout",
     "output_type": "stream",
     "text": [
      "              precision    recall  f1-score   support\n",
      "\n",
      "           1       0.90      0.97      0.93      1821\n",
      "           2       0.98      0.99      0.99      1584\n",
      "           3       0.99      0.97      0.98      6764\n",
      "           4       0.99      0.97      0.98       378\n",
      "           5       0.99      0.96      0.97       415\n",
      "\n",
      "    accuracy                           0.97     10962\n",
      "   macro avg       0.97      0.97      0.97     10962\n",
      "weighted avg       0.97      0.97      0.97     10962\n",
      "\n"
     ]
    }
   ],
   "source": [
    "print(classification_report(y_test_five, rf_five.predict(X_test_five_sparse)))"
   ]
  },
  {
   "cell_type": "code",
   "execution_count": null,
   "metadata": {},
   "outputs": [],
   "source": []
  }
 ],
 "metadata": {
  "kernelspec": {
   "display_name": "learn-env",
   "language": "python",
   "name": "learn-env"
  },
  "language_info": {
   "codemirror_mode": {
    "name": "ipython",
    "version": 3
   },
   "file_extension": ".py",
   "mimetype": "text/x-python",
   "name": "python",
   "nbconvert_exporter": "python",
   "pygments_lexer": "ipython3",
   "version": "3.6.9"
  },
  "toc": {
   "base_numbering": 1,
   "nav_menu": {},
   "number_sections": true,
   "sideBar": true,
   "skip_h1_title": false,
   "title_cell": "Table of Contents",
   "title_sidebar": "Contents",
   "toc_cell": false,
   "toc_position": {},
   "toc_section_display": true,
   "toc_window_display": false
  }
 },
 "nbformat": 4,
 "nbformat_minor": 2
}
