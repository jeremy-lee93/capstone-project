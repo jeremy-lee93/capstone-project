{
 "cells": [
  {
   "cell_type": "code",
   "execution_count": 30,
   "metadata": {
    "ExecuteTime": {
     "end_time": "2021-03-22T17:33:16.799366Z",
     "start_time": "2021-03-22T17:33:16.712255Z"
    }
   },
   "outputs": [],
   "source": [
    "from sklearn.decomposition import TruncatedSVD\n",
    "import nltk\n",
    "from nltk.stem import WordNetLemmatizer\n",
    "from sklearn.feature_extraction.text import TfidfVectorizer\n",
    "from yellowbrick.cluster import KElbowVisualizer\n",
    "import numpy as np\n",
    "import pandas as pd\n",
    "import matplotlib.pyplot as plt\n",
    "from sklearn.cluster import KMeans\n",
    "from sklearn.pipeline import Pipeline\n",
    "from sklearn.model_selection import train_test_split, cross_val_score, GridSearchCV\n",
    "from sklearn.naive_bayes import MultinomialNB\n",
    "from sklearn.ensemble import RandomForestClassifier"
   ]
  },
  {
   "cell_type": "code",
   "execution_count": 31,
   "metadata": {
    "ExecuteTime": {
     "end_time": "2021-03-22T17:33:19.617047Z",
     "start_time": "2021-03-22T17:33:19.607243Z"
    }
   },
   "outputs": [],
   "source": [
    "from sklearn.metrics import plot_confusion_matrix\n",
    "from sklearn.metrics import classification_report"
   ]
  },
  {
   "cell_type": "code",
   "execution_count": 32,
   "metadata": {
    "ExecuteTime": {
     "end_time": "2021-03-22T17:33:21.635551Z",
     "start_time": "2021-03-22T17:33:21.612390Z"
    }
   },
   "outputs": [],
   "source": [
    "stopwords = nltk.corpus.stopwords.words('english')\n",
    "wnl = WordNetLemmatizer()"
   ]
  },
  {
   "cell_type": "code",
   "execution_count": 34,
   "metadata": {
    "ExecuteTime": {
     "end_time": "2021-03-22T17:33:33.524915Z",
     "start_time": "2021-03-22T17:33:32.766614Z"
    }
   },
   "outputs": [],
   "source": [
    "twitter_df = pd.read_csv('data/nba_twitter.csv')"
   ]
  },
  {
   "cell_type": "code",
   "execution_count": 35,
   "metadata": {
    "ExecuteTime": {
     "end_time": "2021-03-22T17:33:51.819118Z",
     "start_time": "2021-03-22T17:33:51.779310Z"
    },
    "scrolled": true
   },
   "outputs": [
    {
     "data": {
      "text/html": [
       "<div>\n",
       "<style scoped>\n",
       "    .dataframe tbody tr th:only-of-type {\n",
       "        vertical-align: middle;\n",
       "    }\n",
       "\n",
       "    .dataframe tbody tr th {\n",
       "        vertical-align: top;\n",
       "    }\n",
       "\n",
       "    .dataframe thead th {\n",
       "        text-align: right;\n",
       "    }\n",
       "</style>\n",
       "<table border=\"1\" class=\"dataframe\">\n",
       "  <thead>\n",
       "    <tr style=\"text-align: right;\">\n",
       "      <th></th>\n",
       "      <th>date</th>\n",
       "      <th>tweet</th>\n",
       "      <th>source</th>\n",
       "      <th>tweet_tokens</th>\n",
       "      <th>dual_labels</th>\n",
       "      <th>trip_labels</th>\n",
       "      <th>quad_labels</th>\n",
       "      <th>five_labels</th>\n",
       "    </tr>\n",
       "  </thead>\n",
       "  <tbody>\n",
       "    <tr>\n",
       "      <td>0</td>\n",
       "      <td>2021-02-26 12:35:27</td>\n",
       "      <td>Obi Toppin is expected to participate in the N...</td>\n",
       "      <td>Yahoo</td>\n",
       "      <td>['obi', 'toppin', 'expected', 'participate', '...</td>\n",
       "      <td>0</td>\n",
       "      <td>0</td>\n",
       "      <td>3</td>\n",
       "      <td>1</td>\n",
       "    </tr>\n",
       "    <tr>\n",
       "      <td>1</td>\n",
       "      <td>2021-02-25 23:08:17</td>\n",
       "      <td>MPJ SLAM</td>\n",
       "      <td>Yahoo</td>\n",
       "      <td>['mpj', 'slam', '']</td>\n",
       "      <td>1</td>\n",
       "      <td>2</td>\n",
       "      <td>1</td>\n",
       "      <td>2</td>\n",
       "    </tr>\n",
       "    <tr>\n",
       "      <td>2</td>\n",
       "      <td>2021-02-25 17:48:50</td>\n",
       "      <td>Timberwolves G Malik Beasley has been suspende...</td>\n",
       "      <td>Yahoo</td>\n",
       "      <td>['timberwolves', 'g', 'malik', 'beasley', 'sus...</td>\n",
       "      <td>1</td>\n",
       "      <td>2</td>\n",
       "      <td>1</td>\n",
       "      <td>2</td>\n",
       "    </tr>\n",
       "    <tr>\n",
       "      <td>3</td>\n",
       "      <td>2021-02-25 13:40:20</td>\n",
       "      <td>Luka's game-winner against the Celtics vs. Luk...</td>\n",
       "      <td>Yahoo</td>\n",
       "      <td>['lukas', 'gamewinner', 'celtic', 'v', 'lukas'...</td>\n",
       "      <td>1</td>\n",
       "      <td>2</td>\n",
       "      <td>2</td>\n",
       "      <td>2</td>\n",
       "    </tr>\n",
       "    <tr>\n",
       "      <td>4</td>\n",
       "      <td>2021-02-25 13:10:50</td>\n",
       "      <td>It's time to stop underrating the Utah Jazz Fr...</td>\n",
       "      <td>Yahoo</td>\n",
       "      <td>['time', 'stop', 'underrating', 'utah', 'jazz'...</td>\n",
       "      <td>1</td>\n",
       "      <td>2</td>\n",
       "      <td>1</td>\n",
       "      <td>2</td>\n",
       "    </tr>\n",
       "  </tbody>\n",
       "</table>\n",
       "</div>"
      ],
      "text/plain": [
       "                  date                                              tweet  \\\n",
       "0  2021-02-26 12:35:27  Obi Toppin is expected to participate in the N...   \n",
       "1  2021-02-25 23:08:17                                          MPJ SLAM    \n",
       "2  2021-02-25 17:48:50  Timberwolves G Malik Beasley has been suspende...   \n",
       "3  2021-02-25 13:40:20  Luka's game-winner against the Celtics vs. Luk...   \n",
       "4  2021-02-25 13:10:50  It's time to stop underrating the Utah Jazz Fr...   \n",
       "\n",
       "  source                                       tweet_tokens  dual_labels  \\\n",
       "0  Yahoo  ['obi', 'toppin', 'expected', 'participate', '...            0   \n",
       "1  Yahoo                                ['mpj', 'slam', '']            1   \n",
       "2  Yahoo  ['timberwolves', 'g', 'malik', 'beasley', 'sus...            1   \n",
       "3  Yahoo  ['lukas', 'gamewinner', 'celtic', 'v', 'lukas'...            1   \n",
       "4  Yahoo  ['time', 'stop', 'underrating', 'utah', 'jazz'...            1   \n",
       "\n",
       "   trip_labels  quad_labels  five_labels  \n",
       "0            0            3            1  \n",
       "1            2            1            2  \n",
       "2            2            1            2  \n",
       "3            2            2            2  \n",
       "4            2            1            2  "
      ]
     },
     "execution_count": 35,
     "metadata": {},
     "output_type": "execute_result"
    }
   ],
   "source": [
    "twitter_df.head()"
   ]
  },
  {
   "cell_type": "code",
   "execution_count": 36,
   "metadata": {
    "ExecuteTime": {
     "end_time": "2021-03-22T17:33:57.508466Z",
     "start_time": "2021-03-22T17:33:57.463117Z"
    }
   },
   "outputs": [],
   "source": [
    "twitter_df.dropna(subset=['tweet'], inplace=True)"
   ]
  },
  {
   "cell_type": "code",
   "execution_count": 37,
   "metadata": {
    "ExecuteTime": {
     "end_time": "2021-03-22T17:37:55.178282Z",
     "start_time": "2021-03-22T17:37:55.068374Z"
    }
   },
   "outputs": [],
   "source": [
    "X = twitter_df['tweet']\n",
    "y = twitter_df['quad_labels']\n",
    "X_train, X_test, y_train, y_test = train_test_split(X, y, test_size=0.3, stratify=y, random_state=123)"
   ]
  },
  {
   "cell_type": "code",
   "execution_count": 40,
   "metadata": {
    "ExecuteTime": {
     "end_time": "2021-03-22T17:39:39.139661Z",
     "start_time": "2021-03-22T17:39:37.498558Z"
    }
   },
   "outputs": [],
   "source": [
    "vectorizer = TfidfVectorizer(stop_words=stopwords)\n",
    "X_train_sparse = vectorizer.fit_transform(X_train)\n",
    "X_test_sparse = vectorizer.transform(X_test)"
   ]
  },
  {
   "cell_type": "code",
   "execution_count": 4,
   "metadata": {
    "ExecuteTime": {
     "end_time": "2021-03-19T17:17:09.848058Z",
     "start_time": "2021-03-19T17:17:09.840922Z"
    }
   },
   "outputs": [],
   "source": [
    "def tfidf_vectorizer(dataframe):\n",
    "    \n",
    "    tfidf = TfidfVectorizer(stop_words=stopwords)\n",
    "    tfidf_sparse_mat = tfidf.fit_transform(dataframe['tweet'])\n",
    "    \n",
    "    tfidf_df = pd.DataFrame(tfidf_sparse_mat.toarray())\n",
    "    tfidf_df.columns = tfidf.get_feature_names()\n",
    "    \n",
    "    return tfidf_df"
   ]
  },
  {
   "cell_type": "code",
   "execution_count": 43,
   "metadata": {
    "ExecuteTime": {
     "end_time": "2021-03-22T17:40:08.433934Z",
     "start_time": "2021-03-22T17:40:08.424978Z"
    }
   },
   "outputs": [
    {
     "data": {
      "text/plain": [
       "<88921x28876 sparse matrix of type '<class 'numpy.float64'>'\n",
       "\twith 722769 stored elements in Compressed Sparse Row format>"
      ]
     },
     "execution_count": 43,
     "metadata": {},
     "output_type": "execute_result"
    }
   ],
   "source": [
    "X_train_sparse"
   ]
  },
  {
   "cell_type": "code",
   "execution_count": 44,
   "metadata": {
    "ExecuteTime": {
     "end_time": "2021-03-22T17:40:31.169656Z",
     "start_time": "2021-03-22T17:40:31.110294Z"
    }
   },
   "outputs": [
    {
     "data": {
      "text/plain": [
       "MultinomialNB()"
      ]
     },
     "execution_count": 44,
     "metadata": {},
     "output_type": "execute_result"
    }
   ],
   "source": [
    "mnb_vanilla = MultinomialNB()\n",
    "mnb_vanilla.fit(X_train_sparse, y_train)"
   ]
  },
  {
   "cell_type": "code",
   "execution_count": 45,
   "metadata": {
    "ExecuteTime": {
     "end_time": "2021-03-22T17:40:46.198525Z",
     "start_time": "2021-03-22T17:40:41.892888Z"
    }
   },
   "outputs": [],
   "source": [
    "mnb_vanilla_cv = cross_val_score(mnb_vanilla, X_train_sparse, y_train, cv=5, scoring='accuracy', n_jobs=-1)"
   ]
  },
  {
   "cell_type": "code",
   "execution_count": 46,
   "metadata": {
    "ExecuteTime": {
     "end_time": "2021-03-22T17:40:48.302199Z",
     "start_time": "2021-03-22T17:40:48.293501Z"
    }
   },
   "outputs": [],
   "source": [
    "def summary_scores(model, train_set_x, test_set_x, train_set_y, test_set_y, cross_val_var):\n",
    "    print(f'Training Accuracy: {model.score(train_set_x, train_set_y)}')\n",
    "    print(f'Cross Validation Accuracy: {np.mean(cross_val_var)}')\n",
    "    print(f'Testing Accuracy: {model.score(test_set_x, test_set_y)}')"
   ]
  },
  {
   "cell_type": "code",
   "execution_count": 47,
   "metadata": {
    "ExecuteTime": {
     "end_time": "2021-03-22T17:41:00.960147Z",
     "start_time": "2021-03-22T17:41:00.914080Z"
    }
   },
   "outputs": [
    {
     "name": "stdout",
     "output_type": "stream",
     "text": [
      "Training Accuracy: 0.8378448285556842\n",
      "Cross Validation Accuracy: 0.8199975427492703\n",
      "Testing Accuracy: 0.8243768039884545\n"
     ]
    }
   ],
   "source": [
    "summary_scores(mnb_vanilla, X_train_sparse, X_test_sparse, y_train, y_test, mnb_vanilla_cv)"
   ]
  },
  {
   "cell_type": "code",
   "execution_count": 48,
   "metadata": {
    "ExecuteTime": {
     "end_time": "2021-03-22T17:43:17.734426Z",
     "start_time": "2021-03-22T17:41:23.259663Z"
    }
   },
   "outputs": [
    {
     "data": {
      "text/plain": [
       "Pipeline(steps=[('pca', TruncatedSVD(n_components=100, random_state=23)),\n",
       "                ('rfc', RandomForestClassifier())])"
      ]
     },
     "execution_count": 48,
     "metadata": {},
     "output_type": "execute_result"
    }
   ],
   "source": [
    "pipe_rfc_vanilla = Pipeline([('pca', TruncatedSVD(n_components=100, random_state=23)),\n",
    "                    ('rfc', RandomForestClassifier())])\n",
    "\n",
    "pipe_rfc_vanilla.fit(X_train_sparse, y_train)"
   ]
  },
  {
   "cell_type": "code",
   "execution_count": 49,
   "metadata": {
    "ExecuteTime": {
     "end_time": "2021-03-22T17:49:35.032230Z",
     "start_time": "2021-03-22T17:45:08.936930Z"
    }
   },
   "outputs": [],
   "source": [
    "pipe_rfc_vanilla_cv = cross_val_score(pipe_rfc_vanilla, X_train_sparse, y_train, cv=5, scoring='accuracy', n_jobs=-1)"
   ]
  },
  {
   "cell_type": "code",
   "execution_count": 50,
   "metadata": {
    "ExecuteTime": {
     "end_time": "2021-03-22T17:49:37.316675Z",
     "start_time": "2021-03-22T17:49:35.036426Z"
    }
   },
   "outputs": [
    {
     "name": "stdout",
     "output_type": "stream",
     "text": [
      "Training Accuracy: 1.0\n",
      "Cross Validation Accuracy: 0.9925777072345736\n",
      "Testing Accuracy: 0.9922067698766728\n"
     ]
    }
   ],
   "source": [
    "summary_scores(pipe_rfc_vanilla, X_train_sparse, X_test_sparse, y_train, y_test, pipe_rfc_vanilla_cv)"
   ]
  },
  {
   "cell_type": "code",
   "execution_count": null,
   "metadata": {},
   "outputs": [],
   "source": []
  }
 ],
 "metadata": {
  "kernelspec": {
   "display_name": "learn-env",
   "language": "python",
   "name": "learn-env"
  },
  "language_info": {
   "codemirror_mode": {
    "name": "ipython",
    "version": 3
   },
   "file_extension": ".py",
   "mimetype": "text/x-python",
   "name": "python",
   "nbconvert_exporter": "python",
   "pygments_lexer": "ipython3",
   "version": "3.6.9"
  },
  "toc": {
   "base_numbering": 1,
   "nav_menu": {},
   "number_sections": true,
   "sideBar": true,
   "skip_h1_title": false,
   "title_cell": "Table of Contents",
   "title_sidebar": "Contents",
   "toc_cell": false,
   "toc_position": {},
   "toc_section_display": true,
   "toc_window_display": false
  }
 },
 "nbformat": 4,
 "nbformat_minor": 2
}
