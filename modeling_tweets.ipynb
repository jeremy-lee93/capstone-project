{
 "cells": [
  {
   "cell_type": "markdown",
   "metadata": {},
   "source": [
    "I'll take the same approach to modeling for tweets as I did with the headlines. I'll be using both the Multinomial Naive Bayes and Random Forests algorithm to build and evaluate model performance for both 4 classes and 5 classes."
   ]
  },
  {
   "cell_type": "code",
   "execution_count": null,
   "metadata": {
    "ExecuteTime": {
     "end_time": "2021-06-07T03:27:18.272875Z",
     "start_time": "2021-06-07T03:27:18.202479Z"
    }
   },
   "outputs": [],
   "source": [
    "#import libraries \n",
    "from sklearn.decomposition import TruncatedSVD\n",
    "import nltk\n",
    "from nltk.stem import WordNetLemmatizer\n",
    "from sklearn.feature_extraction.text import TfidfVectorizer\n",
    "from yellowbrick.cluster import KElbowVisualizer\n",
    "import numpy as np\n",
    "import pandas as pd\n",
    "import matplotlib.pyplot as plt\n",
    "from sklearn.cluster import KMeans\n",
    "from sklearn.pipeline import Pipeline\n",
    "from sklearn.model_selection import train_test_split, cross_val_score, GridSearchCV\n",
    "from sklearn.naive_bayes import MultinomialNB\n",
    "from sklearn.ensemble import RandomForestClassifier\n",
    "from sklearn.metrics import f1_score"
   ]
  },
  {
   "cell_type": "code",
   "execution_count": null,
   "metadata": {
    "ExecuteTime": {
     "end_time": "2021-06-07T03:23:07.399284Z",
     "start_time": "2021-06-07T03:23:07.386483Z"
    }
   },
   "outputs": [],
   "source": [
    "from sklearn.metrics import plot_confusion_matrix\n",
    "from sklearn.metrics import classification_report"
   ]
  },
  {
   "cell_type": "code",
   "execution_count": null,
   "metadata": {
    "ExecuteTime": {
     "end_time": "2021-06-07T03:23:07.452278Z",
     "start_time": "2021-06-07T03:23:07.404644Z"
    }
   },
   "outputs": [],
   "source": [
    "stopwords = nltk.corpus.stopwords.words('english')\n",
    "wnl = WordNetLemmatizer()"
   ]
  },
  {
   "cell_type": "code",
   "execution_count": null,
   "metadata": {
    "ExecuteTime": {
     "end_time": "2021-06-07T03:23:08.115455Z",
     "start_time": "2021-06-07T03:23:07.459706Z"
    }
   },
   "outputs": [],
   "source": [
    "twitter_df = pd.read_csv('data/nba_twitter.csv')"
   ]
  },
  {
   "cell_type": "code",
   "execution_count": null,
   "metadata": {
    "ExecuteTime": {
     "end_time": "2021-06-07T03:23:08.269368Z",
     "start_time": "2021-06-07T03:23:08.236686Z"
    },
    "scrolled": true
   },
   "outputs": [],
   "source": [
    "twitter_df.head()"
   ]
  },
  {
   "cell_type": "code",
   "execution_count": null,
   "metadata": {
    "ExecuteTime": {
     "end_time": "2021-06-07T03:23:09.082936Z",
     "start_time": "2021-06-07T03:23:09.032268Z"
    }
   },
   "outputs": [],
   "source": [
    "twitter_df.dropna(subset=['tweet'], inplace=True)"
   ]
  },
  {
   "cell_type": "code",
   "execution_count": null,
   "metadata": {
    "ExecuteTime": {
     "end_time": "2021-06-07T03:23:09.914140Z",
     "start_time": "2021-06-07T03:23:09.899207Z"
    }
   },
   "outputs": [],
   "source": [
    "twitter_df['dual_labels'].value_counts()"
   ]
  },
  {
   "cell_type": "code",
   "execution_count": null,
   "metadata": {
    "ExecuteTime": {
     "end_time": "2021-06-07T03:23:10.357222Z",
     "start_time": "2021-06-07T03:23:10.341995Z"
    }
   },
   "outputs": [],
   "source": [
    "twitter_df['trip_labels'].value_counts()"
   ]
  },
  {
   "cell_type": "code",
   "execution_count": null,
   "metadata": {
    "ExecuteTime": {
     "end_time": "2021-06-07T03:23:10.868340Z",
     "start_time": "2021-06-07T03:23:10.855314Z"
    }
   },
   "outputs": [],
   "source": [
    "twitter_df['quad_labels'].value_counts()"
   ]
  },
  {
   "cell_type": "code",
   "execution_count": null,
   "metadata": {
    "ExecuteTime": {
     "end_time": "2021-06-07T03:23:13.891064Z",
     "start_time": "2021-06-07T03:23:13.874050Z"
    }
   },
   "outputs": [],
   "source": [
    "twitter_df['five_labels'].value_counts()"
   ]
  },
  {
   "cell_type": "code",
   "execution_count": null,
   "metadata": {},
   "outputs": [],
   "source": [
    "f1_score()"
   ]
  },
  {
   "cell_type": "code",
   "execution_count": null,
   "metadata": {
    "ExecuteTime": {
     "end_time": "2021-06-07T03:43:35.946166Z",
     "start_time": "2021-06-07T03:43:35.921319Z"
    }
   },
   "outputs": [],
   "source": [
    "def summary_scores(model, train_set_x, test_set_x, train_set_y, test_set_y, cross_val_var):\n",
    "    print(f'Training Accuracy: {model.score(train_set_x, train_set_y)}')\n",
    "    print(f'Cross Validation Accuracy: {np.mean(cross_val_var)}')\n",
    "    print(f'Testing Accuracy: {model.score(test_set_x, test_set_y)}')\n",
    "    print(f'F1 Score: {f1_score(test_set_y, model.predict(test_set_x), average='weighted')}')"
   ]
  },
  {
   "cell_type": "code",
   "execution_count": null,
   "metadata": {
    "ExecuteTime": {
     "end_time": "2021-06-07T03:29:34.913425Z",
     "start_time": "2021-06-07T03:29:34.699890Z"
    }
   },
   "outputs": [],
   "source": [
    "X = twitter_df['tweet']\n",
    "y_four = twitter_df['quad_labels']\n",
    "y_five = twitter_df['five_labels']\n",
    "X_train_four, X_test_four, y_train_four, y_test_four = train_test_split(X, y_four, \n",
    "                                                                        test_size=0.3, \n",
    "                                                                        stratify=y_four, random_state=123)"
   ]
  },
  {
   "cell_type": "code",
   "execution_count": null,
   "metadata": {
    "ExecuteTime": {
     "end_time": "2021-06-07T03:29:35.288115Z",
     "start_time": "2021-06-07T03:29:35.134941Z"
    }
   },
   "outputs": [],
   "source": [
    "X_train_five, X_test_five, y_train_five, y_test_five = train_test_split(X, y_five, \n",
    "                                                                        test_size=0.3, \n",
    "                                                                        stratify=y_five, random_state=123)"
   ]
  },
  {
   "cell_type": "code",
   "execution_count": null,
   "metadata": {
    "ExecuteTime": {
     "end_time": "2021-06-07T03:29:38.177806Z",
     "start_time": "2021-06-07T03:29:35.567007Z"
    }
   },
   "outputs": [],
   "source": [
    "vectorizer_four = TfidfVectorizer(stop_words=stopwords)\n",
    "X_train_sparse_four = vectorizer_four.fit_transform(X_train_four)\n",
    "X_test_sparse_four = vectorizer_four.transform(X_test_four)"
   ]
  },
  {
   "cell_type": "code",
   "execution_count": null,
   "metadata": {
    "ExecuteTime": {
     "end_time": "2021-06-07T03:29:42.008322Z",
     "start_time": "2021-06-07T03:29:38.180466Z"
    }
   },
   "outputs": [],
   "source": [
    "vectorizer_five = TfidfVectorizer(stop_words=stopwords)\n",
    "X_train_sparse_five = vectorizer_five.fit_transform(X_train_five)\n",
    "X_test_sparse_five = vectorizer_five.transform(X_test_five)"
   ]
  },
  {
   "cell_type": "markdown",
   "metadata": {},
   "source": [
    "As a reminder, when using 4 classes the topics associated with each group are:\n",
    "\n",
    "0. Free Agency\n",
    "1. LeBron, the Warriors, coaches, and highlights\n",
    "2. Game Scores/Outcomes\n",
    "3. NBA Draft/Rankings\n",
    "\n",
    "For 5 classes the topics are:\n",
    "\n",
    "0. Rankings\n",
    "1. League News (keyword: 'NBA')\n",
    "2. Tweets focused on individual players and their performances\n",
    "3. Free Agency\n",
    "4. NBA Draft"
   ]
  },
  {
   "cell_type": "markdown",
   "metadata": {},
   "source": [
    "## Multinomial Naive Bayes"
   ]
  },
  {
   "cell_type": "markdown",
   "metadata": {},
   "source": [
    "For the multinomial naive bayes algorithm we cannot do a PCA transformation first because the algorithm requires that all the values be positive (probabilities can only exist between the values of zero and one). We will still be using the sparse matrix as the input so the algorithm should work efficiently."
   ]
  },
  {
   "cell_type": "code",
   "execution_count": null,
   "metadata": {
    "ExecuteTime": {
     "end_time": "2021-06-07T03:29:42.092495Z",
     "start_time": "2021-06-07T03:29:42.012464Z"
    }
   },
   "outputs": [],
   "source": [
    "mnb_vanilla_four = MultinomialNB()\n",
    "mnb_vanilla_four.fit(X_train_sparse_four, y_train_four)"
   ]
  },
  {
   "cell_type": "code",
   "execution_count": null,
   "metadata": {
    "ExecuteTime": {
     "end_time": "2021-06-07T03:29:43.048325Z",
     "start_time": "2021-06-07T03:29:42.096455Z"
    }
   },
   "outputs": [],
   "source": [
    "mnb_vanilla_cv = cross_val_score(mnb_vanilla_four, X_train_sparse_four, \n",
    "                                 y_train_four, cv=5, scoring='accuracy', n_jobs=-1)"
   ]
  },
  {
   "cell_type": "code",
   "execution_count": null,
   "metadata": {
    "ExecuteTime": {
     "end_time": "2021-06-07T03:29:43.088539Z",
     "start_time": "2021-06-07T03:29:43.050731Z"
    }
   },
   "outputs": [],
   "source": [
    "summary_scores(mnb_vanilla_four, X_train_sparse_four, \n",
    "               X_test_sparse_four, y_train_four, y_test_four, mnb_vanilla_cv)"
   ]
  },
  {
   "cell_type": "code",
   "execution_count": null,
   "metadata": {
    "ExecuteTime": {
     "end_time": "2021-06-07T03:42:04.469600Z",
     "start_time": "2021-06-07T03:42:04.386248Z"
    }
   },
   "outputs": [],
   "source": [
    "f1_score(y_test_four, mnb_vanilla_four.predict(X_test_sparse_four), average='weighted')"
   ]
  },
  {
   "cell_type": "code",
   "execution_count": null,
   "metadata": {
    "ExecuteTime": {
     "end_time": "2021-06-07T03:29:45.706543Z",
     "start_time": "2021-06-07T03:29:45.614530Z"
    }
   },
   "outputs": [],
   "source": [
    "print(classification_report(y_test_four, mnb_vanilla_four.predict(X_test_sparse_four)))"
   ]
  },
  {
   "cell_type": "code",
   "execution_count": null,
   "metadata": {
    "ExecuteTime": {
     "end_time": "2021-03-23T03:09:33.495054Z",
     "start_time": "2021-03-23T03:09:33.288693Z"
    }
   },
   "outputs": [],
   "source": [
    "mnb_vanilla_five = MultinomialNB()\n",
    "mnb_vanilla_five.fit(X_train_sparse_five, y_train_five)\n",
    "mnb_vanilla_cv_five = cross_val_score(mnb_vanilla_five, \n",
    "                                      X_train_sparse_five, y_train_five, cv=5, scoring='accuracy', n_jobs=-1)"
   ]
  },
  {
   "cell_type": "code",
   "execution_count": null,
   "metadata": {
    "ExecuteTime": {
     "end_time": "2021-03-23T03:09:33.523758Z",
     "start_time": "2021-03-23T03:09:33.497266Z"
    }
   },
   "outputs": [],
   "source": [
    "summary_scores(mnb_vanilla_five, X_train_sparse_five, \n",
    "               X_test_sparse_five, y_train_five, y_test_five, mnb_vanilla_cv)"
   ]
  },
  {
   "cell_type": "code",
   "execution_count": null,
   "metadata": {
    "ExecuteTime": {
     "end_time": "2021-03-26T01:22:44.114947Z",
     "start_time": "2021-03-26T01:22:43.811329Z"
    }
   },
   "outputs": [],
   "source": [
    "print(classification_report(y_test_five, mnb_vanilla_five.predict(X_test_sparse_five)))"
   ]
  },
  {
   "cell_type": "markdown",
   "metadata": {},
   "source": [
    "Although we have a larger dataset, the naive bayes algorithm do slightly worse (when compared to the classification of headlines) for predicting the classes of tweets. There is a greater than 1% difference for the model trained with 5 classes so there may be some overfitting occurring. We would either need to change the size of the training and test sets or try to gather more data for the classes.\n",
    "\n",
    "In the context of using a classification model as part of a recommendation system, the low recall scores are somewhat disappointing. In this context of a recommendation system precision is probably more important than recall but we would certainly like to have recall scores above 14% (for the 0 class) and 21% (for the 3 class). The low recall means that we have a lot of false negatives which means that users of a recommendation system might be missing out on content that they enjoy."
   ]
  },
  {
   "cell_type": "markdown",
   "metadata": {},
   "source": [
    "## Random Forests"
   ]
  },
  {
   "cell_type": "code",
   "execution_count": null,
   "metadata": {
    "ExecuteTime": {
     "end_time": "2021-03-23T03:11:12.394387Z",
     "start_time": "2021-03-23T03:09:33.525877Z"
    }
   },
   "outputs": [],
   "source": [
    "pipe_rfc_vanilla_four = Pipeline([('pca', TruncatedSVD(n_components=100, random_state=23)),\n",
    "                    ('rfc', RandomForestClassifier())])\n",
    "\n",
    "pipe_rfc_vanilla_four.fit(X_train_sparse_four, y_train_four)"
   ]
  },
  {
   "cell_type": "code",
   "execution_count": null,
   "metadata": {
    "ExecuteTime": {
     "end_time": "2021-03-23T03:15:23.219077Z",
     "start_time": "2021-03-23T03:11:12.396703Z"
    }
   },
   "outputs": [],
   "source": [
    "pipe_rfc_vanilla_cv_four = cross_val_score(pipe_rfc_vanilla_four, \n",
    "                                           X_train_sparse_four, y_train_four, \n",
    "                                           cv=5, scoring='accuracy', n_jobs=-1)"
   ]
  },
  {
   "cell_type": "code",
   "execution_count": null,
   "metadata": {
    "ExecuteTime": {
     "end_time": "2021-03-23T03:15:24.999820Z",
     "start_time": "2021-03-23T03:15:23.221123Z"
    }
   },
   "outputs": [],
   "source": [
    "summary_scores(pipe_rfc_vanilla_four, X_train_sparse_four, X_test_sparse_four, y_train_four, \n",
    "               y_test_four, pipe_rfc_vanilla_cv_four)"
   ]
  },
  {
   "cell_type": "code",
   "execution_count": null,
   "metadata": {
    "ExecuteTime": {
     "end_time": "2021-03-23T03:15:25.872250Z",
     "start_time": "2021-03-23T03:15:25.002286Z"
    }
   },
   "outputs": [],
   "source": [
    "fig, ax = plt.subplots(figsize=(6, 6))\n",
    "plt.grid(False)\n",
    "plot_confusion_matrix(pipe_rfc_vanilla_four, X_test_sparse_four, y_test_four, cmap='Blues', ax=ax)\n",
    "plt.savefig('tweets_random_forest_conf_matrix_4_classes.png')"
   ]
  },
  {
   "cell_type": "code",
   "execution_count": null,
   "metadata": {
    "ExecuteTime": {
     "end_time": "2021-03-23T03:15:26.496258Z",
     "start_time": "2021-03-23T03:15:25.874611Z"
    }
   },
   "outputs": [],
   "source": [
    "print(classification_report(y_test_four, pipe_rfc_vanilla_four.predict(X_test_sparse_four)))"
   ]
  },
  {
   "cell_type": "code",
   "execution_count": null,
   "metadata": {
    "ExecuteTime": {
     "end_time": "2021-03-23T03:17:07.877441Z",
     "start_time": "2021-03-23T03:15:26.498497Z"
    }
   },
   "outputs": [],
   "source": [
    "pipe_rfc_vanilla_five = Pipeline([('pca', TruncatedSVD(n_components=100, random_state=23)),\n",
    "                                 ('rfc', RandomForestClassifier())])\n",
    "pipe_rfc_vanilla_five.fit(X_train_sparse_five, y_train_five)"
   ]
  },
  {
   "cell_type": "code",
   "execution_count": null,
   "metadata": {
    "ExecuteTime": {
     "end_time": "2021-03-23T03:56:40.356606Z",
     "start_time": "2021-03-23T03:52:29.251850Z"
    }
   },
   "outputs": [],
   "source": [
    "pipe_rfc_vanilla_cv_five = cross_val_score(pipe_rfc_vanilla_five, X_train_sparse_five, y_train_five,\n",
    "                                          cv=5, n_jobs=-1, scoring='accuracy')"
   ]
  },
  {
   "cell_type": "code",
   "execution_count": null,
   "metadata": {
    "ExecuteTime": {
     "end_time": "2021-03-23T17:07:43.310030Z",
     "start_time": "2021-03-23T17:07:41.547057Z"
    }
   },
   "outputs": [],
   "source": [
    "summary_scores(pipe_rfc_vanilla_five, X_train_sparse_five, X_test_sparse_five, y_train_five, \n",
    "               y_test_five, pipe_rfc_vanilla_cv_five)"
   ]
  },
  {
   "cell_type": "code",
   "execution_count": null,
   "metadata": {
    "ExecuteTime": {
     "end_time": "2021-03-23T17:07:46.828453Z",
     "start_time": "2021-03-23T17:07:46.031820Z"
    }
   },
   "outputs": [],
   "source": [
    "fig, ax = plt.subplots(figsize=(6, 6))\n",
    "plt.grid(False)\n",
    "plot_confusion_matrix(pipe_rfc_vanilla_five, X_test_sparse_five, y_test_five, cmap='Blues', ax=ax)\n",
    "plt.savefig('tweets_random_forest_conf_matrix_5_classes.png')"
   ]
  },
  {
   "cell_type": "code",
   "execution_count": null,
   "metadata": {
    "ExecuteTime": {
     "end_time": "2021-03-23T17:07:48.375426Z",
     "start_time": "2021-03-23T17:07:47.794376Z"
    }
   },
   "outputs": [],
   "source": [
    "print(classification_report(y_test_five, pipe_rfc_vanilla_five.predict(X_test_sparse_five)))"
   ]
  },
  {
   "cell_type": "markdown",
   "metadata": {},
   "source": [
    "The random forest models for both 4 and 5 classes perform much better across for accuracy, precison, and recall. The testing accuracy is nearly identical to the cross validation training accuracy so we don't suffer from overfitting.  In the context of a recommendation system, the high precision and recall scores would mean that users are going to get the exact type of content that they want to see. This is important because it would help to prevent something like customer churn. Given that the accuracy is very high for this model, further testing would be necssary using new data that wasn't used as part of the clustering algorithm."
   ]
  },
  {
   "cell_type": "markdown",
   "metadata": {},
   "source": [
    "## Conclusion\n",
    "\n",
    "As with headlines, the random forest algorithm seems to be the better of the two algorithms in terms of classifying the topics and is recommended if a model were to be put into production.\n",
    "\n",
    "It's best to take a top down approach when identifying topics within NBA discourse. Model performance does suffer slightly when there are a greater number of topics (which is expected), so it is better to start broad and become more granular only as necessary. More data has to be collected as we become more granular because more specificity leads to fewer examples per class.\n",
    "\n",
    "Free agency and the NBA Draft are two major topics that were found using both four and 5 clusters. Although the offseason won't garner the same attention as the regular season or playoffs, the NBA and its media partners should think of ways of how to market the draft and free agency to the casual fan. There were more tweets related to the draft/free agency than rankings, so we might look to promote these events more to increase engagement over the entire year. "
   ]
  },
  {
   "cell_type": "code",
   "execution_count": null,
   "metadata": {},
   "outputs": [],
   "source": []
  }
 ],
 "metadata": {
  "kernelspec": {
   "display_name": "learn-env",
   "language": "python",
   "name": "learn-env"
  },
  "language_info": {
   "codemirror_mode": {
    "name": "ipython",
    "version": 3
   },
   "file_extension": ".py",
   "mimetype": "text/x-python",
   "name": "python",
   "nbconvert_exporter": "python",
   "pygments_lexer": "ipython3",
   "version": "3.6.9"
  },
  "toc": {
   "base_numbering": 1,
   "nav_menu": {},
   "number_sections": true,
   "sideBar": true,
   "skip_h1_title": false,
   "title_cell": "Table of Contents",
   "title_sidebar": "Contents",
   "toc_cell": false,
   "toc_position": {},
   "toc_section_display": true,
   "toc_window_display": false
  }
 },
 "nbformat": 4,
 "nbformat_minor": 2
}
